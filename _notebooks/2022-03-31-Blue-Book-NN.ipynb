{
  "nbformat": 4,
  "nbformat_minor": 0,
  "metadata": {
    "colab": {
      "name": "2022-03-31-Blue-Book-NN.ipynb",
      "provenance": [],
      "collapsed_sections": []
    },
    "kernelspec": {
      "name": "python3",
      "display_name": "Python 3"
    },
    "language_info": {
      "name": "python"
    },
    "accelerator": "GPU"
  },
  "cells": [
    {
      "cell_type": "markdown",
      "source": [
        "# Adding Deep Learning to Tabular Models"
      ],
      "metadata": {
        "id": "MddzgVj0eX8S"
      }
    },
    {
      "cell_type": "markdown",
      "source": [
        "Two blogs on the same day! I didn't want the last one to be too long and I didn't think I would be this productive to be able to finish the neural network part today. But, here we go.\n",
        "\n",
        "---\n",
        "\n",
        "Previously, I trained a random forest model for predicting sale price on past auction data for bulldozers. Today, I'm going to be training a deep learning model on the same data set (with some changes based on the [last blog](https://geon-youn.github.io/DunGeon/2022/03/31/Blue-Book.html)). Then, I'll try using the embeddings learned from that model and train another random forest model and aim for an even better validation RMSE. Finally, I'll ensemble the results of the deep learning model and the new random forest model and see how much better the predictions become. "
      ],
      "metadata": {
        "id": "OF0FXzQjedlr"
      }
    },
    {
      "cell_type": "code",
      "execution_count": 1,
      "metadata": {
        "colab": {
          "base_uri": "https://localhost:8080/",
          "height": 659
        },
        "id": "cIvy5sUweItP",
        "outputId": "71746443-778a-444b-c264-cc14cae228b6"
      },
      "outputs": [
        {
          "output_type": "stream",
          "name": "stdout",
          "text": [
            "\u001b[K     |████████████████████████████████| 720 kB 5.4 MB/s \n",
            "\u001b[K     |████████████████████████████████| 49 kB 3.5 MB/s \n",
            "\u001b[K     |████████████████████████████████| 187 kB 10.0 MB/s \n",
            "\u001b[K     |████████████████████████████████| 1.2 MB 29.4 MB/s \n",
            "\u001b[K     |████████████████████████████████| 56 kB 2.3 MB/s \n",
            "\u001b[K     |████████████████████████████████| 51 kB 227 kB/s \n",
            "\u001b[K     |████████████████████████████████| 561 kB 36.4 MB/s \n",
            "\u001b[K     |████████████████████████████████| 130 kB 34.2 MB/s \n",
            "\u001b[K     |████████████████████████████████| 428 kB 33.5 MB/s \n",
            "\u001b[31mERROR: pip's dependency resolver does not currently take into account all the packages that are installed. This behaviour is the source of the following dependency conflicts.\n",
            "google-colab 1.0.0 requires tornado~=5.1.0; python_version >= \"3.0\", but you have tornado 6.1 which is incompatible.\u001b[0m\n",
            "\u001b[?25hCollecting tornado==5.1\n",
            "  Downloading tornado-5.1.tar.gz (516 kB)\n",
            "\u001b[K     |████████████████████████████████| 516 kB 5.3 MB/s \n",
            "\u001b[?25hBuilding wheels for collected packages: tornado\n",
            "  Building wheel for tornado (setup.py) ... \u001b[?25l\u001b[?25hdone\n",
            "  Created wheel for tornado: filename=tornado-5.1-cp37-cp37m-linux_x86_64.whl size=462842 sha256=49a557ed19a583c15cbe1402b2ce48260dd10500fa62ca88767b98f502e7dd03\n",
            "  Stored in directory: /root/.cache/pip/wheels/8e/53/de/6a6860ebf6d2958e20a9a8337f25b0369f1666002ade0ce284\n",
            "Successfully built tornado\n",
            "Installing collected packages: tornado\n",
            "  Attempting uninstall: tornado\n",
            "    Found existing installation: tornado 6.1\n",
            "    Uninstalling tornado-6.1:\n",
            "      Successfully uninstalled tornado-6.1\n",
            "\u001b[31mERROR: pip's dependency resolver does not currently take into account all the packages that are installed. This behaviour is the source of the following dependency conflicts.\n",
            "jupyter-client 7.2.1 requires tornado>=6.0, but you have tornado 5.1 which is incompatible.\u001b[0m\n",
            "Successfully installed tornado-5.1\n"
          ]
        },
        {
          "output_type": "display_data",
          "data": {
            "application/vnd.colab-display-data+json": {
              "pip_warning": {
                "packages": [
                  "tornado"
                ]
              }
            }
          },
          "metadata": {}
        },
        {
          "output_type": "stream",
          "name": "stdout",
          "text": [
            "Mounted at /content/gdrive\n"
          ]
        }
      ],
      "source": [
        "#hide\n",
        "!pip install -Uqq fastbook\n",
        "# required since March 30, 2022\n",
        "!pip install tornado==5.1\n",
        "import fastbook\n",
        "fastbook.setup_book()"
      ]
    },
    {
      "cell_type": "code",
      "source": [
        "#hide\n",
        "from google.colab import drive\n",
        "drive.mount(\"/content/gdrive/\", force_remount=True)"
      ],
      "metadata": {
        "colab": {
          "base_uri": "https://localhost:8080/"
        },
        "id": "8ANhmomgfRFt",
        "outputId": "6f79b33d-c195-4729-c13a-4ed985542ada"
      },
      "execution_count": 3,
      "outputs": [
        {
          "output_type": "stream",
          "name": "stdout",
          "text": [
            "Mounted at /content/gdrive/\n"
          ]
        }
      ]
    },
    {
      "cell_type": "code",
      "source": [
        "#hide\n",
        "%cd /content/gdrive/MyDrive/data_sets/bluebook/\n",
        "%ls"
      ],
      "metadata": {
        "colab": {
          "base_uri": "https://localhost:8080/"
        },
        "id": "CcpZa8Gqfn3i",
        "outputId": "648b4e3a-27f6-4382-e7d1-bd4b54d96cfd"
      },
      "execution_count": 6,
      "outputs": [
        {
          "output_type": "stream",
          "name": "stdout",
          "text": [
            "/content/gdrive/MyDrive/data_sets/bluebook\n",
            " bluebook-for-bulldozers.zip        tp.pkl              Valid.csv\n",
            "'Data Dictionary.xlsx'              Train.7z            ValidSolution.csv\n",
            " kaggle.json                        TrainAndValid.7z    valid_xs_fin.pkl\n",
            " Machine_Appendix.csv               TrainAndValid.csv   valid_xs_imp.pkl\n",
            " median_benchmark.csv               TrainAndValid.zip   valid_xs_new.pkl\n",
            " m.pkl                              train_xs_fin.pkl    Valid.zip\n",
            " random_forest_benchmark_test.csv   Train.zip           xs_imp.pkl\n",
            " Test.csv                           Valid.7z            xs_new.pkl\n"
          ]
        }
      ]
    },
    {
      "cell_type": "code",
      "source": [
        "#hide\n",
        "from fastbook import *\n",
        "from pandas.api.types import is_string_dtype, is_numeric_dtype, is_categorical_dtype\n",
        "from fastai.tabular.all import *\n",
        "from sklearn.ensemble import RandomForestRegressor\n",
        "from sklearn.tree import DecisionTreeRegressor\n",
        "from IPython.display import Image, display_svg, SVG\n",
        "\n",
        "pd.options.display.max_rows = 20\n",
        "pd.options.display.max_columns = 8"
      ],
      "metadata": {
        "id": "H-nSXsrygJ02"
      },
      "execution_count": 7,
      "outputs": []
    },
    {
      "cell_type": "markdown",
      "source": [
        "So, we'll first read our data into a pandas `DataFrame`,"
      ],
      "metadata": {
        "id": "foueKBe6gs-3"
      }
    },
    {
      "cell_type": "code",
      "source": [
        "df = pd.read_csv('TrainAndValid.csv', low_memory=False)"
      ],
      "metadata": {
        "id": "D__Wnb5fgD4w"
      },
      "execution_count": 56,
      "outputs": []
    },
    {
      "cell_type": "markdown",
      "source": [
        "Then, we apply the initial transforms we did last time:\n",
        " - Set an order for the product sizes.\n",
        " - Log the sale price.\n",
        " - Split the date column into metacolumns."
      ],
      "metadata": {
        "id": "OTI8Xc5pg1_4"
      }
    },
    {
      "cell_type": "code",
      "source": [
        "sizes = 'Large','Large / Medium','Medium','Small','Mini','Compact'\n",
        "df['ProductSize'] = df['ProductSize'].astype('category')\n",
        "df['ProductSize'] = df['ProductSize'].cat.set_categories(sizes, ordered=True)\n",
        "df['SalePrice'] = np.log(df['SalePrice'])\n",
        "df = add_datepart(df, 'saledate')"
      ],
      "metadata": {
        "id": "sKvERRQ8grmt"
      },
      "execution_count": 57,
      "outputs": []
    },
    {
      "cell_type": "markdown",
      "source": [
        "And we remove all the unneeded columns we determined last time:"
      ],
      "metadata": {
        "id": "5AXyRriFhcJ-"
      }
    },
    {
      "cell_type": "code",
      "source": [
        "#hide\n",
        "# we need to do this before the next few cells\n",
        "# since we don't need saleYear and saleMonth so\n",
        "# they get removed\n",
        "cond = (df['saleYear'] < 2011) | (df['saleMonth'] < 11)\n",
        "train_idx = np.where( cond)[0]\n",
        "valid_idx = np.where(~cond)[0]\n",
        "splits = (list(train_idx), list(valid_idx))"
      ],
      "metadata": {
        "id": "jBpuZg6DpMee"
      },
      "execution_count": 58,
      "outputs": []
    },
    {
      "cell_type": "code",
      "source": [
        "to_keep_df = load_pickle('xs_new.pkl')"
      ],
      "metadata": {
        "id": "adAKiUpYhije"
      },
      "execution_count": 59,
      "outputs": []
    },
    {
      "cell_type": "code",
      "source": [
        "to_keep = list(to_keep_df) + ['SalePrice']"
      ],
      "metadata": {
        "id": "bIOAp01Shr9x"
      },
      "execution_count": 60,
      "outputs": []
    },
    {
      "cell_type": "code",
      "source": [
        "df = df[to_keep]\n",
        "df.head(3)"
      ],
      "metadata": {
        "colab": {
          "base_uri": "https://localhost:8080/",
          "height": 173
        },
        "id": "BCfpmQOOhhKd",
        "outputId": "47d79866-ad09-4f15-d7b3-bc07b37f0a41"
      },
      "execution_count": 61,
      "outputs": [
        {
          "output_type": "execute_result",
          "data": {
            "text/plain": [
              "   YearMade ProductSize       Coupler_System  \\\n",
              "0      2004         NaN                  NaN   \n",
              "1      1996      Medium                  NaN   \n",
              "2      2001         NaN  None or Unspecified   \n",
              "\n",
              "                                           fiProductClassDesc  ...  \\\n",
              "0                    Wheel Loader - 110.0 to 120.0 Horsepower  ...   \n",
              "1                    Wheel Loader - 150.0 to 175.0 Horsepower  ...   \n",
              "2  Skid Steer Loader - 1351.0 to 1601.0 Lb Operating Capacity  ...   \n",
              "\n",
              "   Drive_System  Hydraulics            Tire_Size  SalePrice  \n",
              "0           NaN     2 Valve  None or Unspecified  11.097410  \n",
              "1           NaN     2 Valve                 23.5  10.950807  \n",
              "2           NaN   Auxiliary                  NaN   9.210340  \n",
              "\n",
              "[3 rows x 15 columns]"
            ],
            "text/html": [
              "\n",
              "  <div id=\"df-50962503-1098-4e3d-b16f-3a3c3598705d\">\n",
              "    <div class=\"colab-df-container\">\n",
              "      <div>\n",
              "<style scoped>\n",
              "    .dataframe tbody tr th:only-of-type {\n",
              "        vertical-align: middle;\n",
              "    }\n",
              "\n",
              "    .dataframe tbody tr th {\n",
              "        vertical-align: top;\n",
              "    }\n",
              "\n",
              "    .dataframe thead th {\n",
              "        text-align: right;\n",
              "    }\n",
              "</style>\n",
              "<table border=\"1\" class=\"dataframe\">\n",
              "  <thead>\n",
              "    <tr style=\"text-align: right;\">\n",
              "      <th></th>\n",
              "      <th>YearMade</th>\n",
              "      <th>ProductSize</th>\n",
              "      <th>Coupler_System</th>\n",
              "      <th>fiProductClassDesc</th>\n",
              "      <th>...</th>\n",
              "      <th>Drive_System</th>\n",
              "      <th>Hydraulics</th>\n",
              "      <th>Tire_Size</th>\n",
              "      <th>SalePrice</th>\n",
              "    </tr>\n",
              "  </thead>\n",
              "  <tbody>\n",
              "    <tr>\n",
              "      <th>0</th>\n",
              "      <td>2004</td>\n",
              "      <td>NaN</td>\n",
              "      <td>NaN</td>\n",
              "      <td>Wheel Loader - 110.0 to 120.0 Horsepower</td>\n",
              "      <td>...</td>\n",
              "      <td>NaN</td>\n",
              "      <td>2 Valve</td>\n",
              "      <td>None or Unspecified</td>\n",
              "      <td>11.097410</td>\n",
              "    </tr>\n",
              "    <tr>\n",
              "      <th>1</th>\n",
              "      <td>1996</td>\n",
              "      <td>Medium</td>\n",
              "      <td>NaN</td>\n",
              "      <td>Wheel Loader - 150.0 to 175.0 Horsepower</td>\n",
              "      <td>...</td>\n",
              "      <td>NaN</td>\n",
              "      <td>2 Valve</td>\n",
              "      <td>23.5</td>\n",
              "      <td>10.950807</td>\n",
              "    </tr>\n",
              "    <tr>\n",
              "      <th>2</th>\n",
              "      <td>2001</td>\n",
              "      <td>NaN</td>\n",
              "      <td>None or Unspecified</td>\n",
              "      <td>Skid Steer Loader - 1351.0 to 1601.0 Lb Operating Capacity</td>\n",
              "      <td>...</td>\n",
              "      <td>NaN</td>\n",
              "      <td>Auxiliary</td>\n",
              "      <td>NaN</td>\n",
              "      <td>9.210340</td>\n",
              "    </tr>\n",
              "  </tbody>\n",
              "</table>\n",
              "<p>3 rows × 15 columns</p>\n",
              "</div>\n",
              "      <button class=\"colab-df-convert\" onclick=\"convertToInteractive('df-50962503-1098-4e3d-b16f-3a3c3598705d')\"\n",
              "              title=\"Convert this dataframe to an interactive table.\"\n",
              "              style=\"display:none;\">\n",
              "        \n",
              "  <svg xmlns=\"http://www.w3.org/2000/svg\" height=\"24px\"viewBox=\"0 0 24 24\"\n",
              "       width=\"24px\">\n",
              "    <path d=\"M0 0h24v24H0V0z\" fill=\"none\"/>\n",
              "    <path d=\"M18.56 5.44l.94 2.06.94-2.06 2.06-.94-2.06-.94-.94-2.06-.94 2.06-2.06.94zm-11 1L8.5 8.5l.94-2.06 2.06-.94-2.06-.94L8.5 2.5l-.94 2.06-2.06.94zm10 10l.94 2.06.94-2.06 2.06-.94-2.06-.94-.94-2.06-.94 2.06-2.06.94z\"/><path d=\"M17.41 7.96l-1.37-1.37c-.4-.4-.92-.59-1.43-.59-.52 0-1.04.2-1.43.59L10.3 9.45l-7.72 7.72c-.78.78-.78 2.05 0 2.83L4 21.41c.39.39.9.59 1.41.59.51 0 1.02-.2 1.41-.59l7.78-7.78 2.81-2.81c.8-.78.8-2.07 0-2.86zM5.41 20L4 18.59l7.72-7.72 1.47 1.35L5.41 20z\"/>\n",
              "  </svg>\n",
              "      </button>\n",
              "      \n",
              "  <style>\n",
              "    .colab-df-container {\n",
              "      display:flex;\n",
              "      flex-wrap:wrap;\n",
              "      gap: 12px;\n",
              "    }\n",
              "\n",
              "    .colab-df-convert {\n",
              "      background-color: #E8F0FE;\n",
              "      border: none;\n",
              "      border-radius: 50%;\n",
              "      cursor: pointer;\n",
              "      display: none;\n",
              "      fill: #1967D2;\n",
              "      height: 32px;\n",
              "      padding: 0 0 0 0;\n",
              "      width: 32px;\n",
              "    }\n",
              "\n",
              "    .colab-df-convert:hover {\n",
              "      background-color: #E2EBFA;\n",
              "      box-shadow: 0px 1px 2px rgba(60, 64, 67, 0.3), 0px 1px 3px 1px rgba(60, 64, 67, 0.15);\n",
              "      fill: #174EA6;\n",
              "    }\n",
              "\n",
              "    [theme=dark] .colab-df-convert {\n",
              "      background-color: #3B4455;\n",
              "      fill: #D2E3FC;\n",
              "    }\n",
              "\n",
              "    [theme=dark] .colab-df-convert:hover {\n",
              "      background-color: #434B5C;\n",
              "      box-shadow: 0px 1px 3px 1px rgba(0, 0, 0, 0.15);\n",
              "      filter: drop-shadow(0px 1px 2px rgba(0, 0, 0, 0.3));\n",
              "      fill: #FFFFFF;\n",
              "    }\n",
              "  </style>\n",
              "\n",
              "      <script>\n",
              "        const buttonEl =\n",
              "          document.querySelector('#df-50962503-1098-4e3d-b16f-3a3c3598705d button.colab-df-convert');\n",
              "        buttonEl.style.display =\n",
              "          google.colab.kernel.accessAllowed ? 'block' : 'none';\n",
              "\n",
              "        async function convertToInteractive(key) {\n",
              "          const element = document.querySelector('#df-50962503-1098-4e3d-b16f-3a3c3598705d');\n",
              "          const dataTable =\n",
              "            await google.colab.kernel.invokeFunction('convertToInteractive',\n",
              "                                                     [key], {});\n",
              "          if (!dataTable) return;\n",
              "\n",
              "          const docLinkHtml = 'Like what you see? Visit the ' +\n",
              "            '<a target=\"_blank\" href=https://colab.research.google.com/notebooks/data_table.ipynb>data table notebook</a>'\n",
              "            + ' to learn more about interactive tables.';\n",
              "          element.innerHTML = '';\n",
              "          dataTable['output_type'] = 'display_data';\n",
              "          await google.colab.output.renderOutput(dataTable, element);\n",
              "          const docLink = document.createElement('div');\n",
              "          docLink.innerHTML = docLinkHtml;\n",
              "          element.appendChild(docLink);\n",
              "        }\n",
              "      </script>\n",
              "    </div>\n",
              "  </div>\n",
              "  "
            ]
          },
          "metadata": {},
          "execution_count": 61
        }
      ]
    },
    {
      "cell_type": "code",
      "source": [
        "#hide\n",
        "save_pickle('df.pkl', df)"
      ],
      "metadata": {
        "id": "0MQSfNXDieKn"
      },
      "execution_count": 62,
      "outputs": []
    },
    {
      "cell_type": "code",
      "source": [
        "#hide\n",
        "df = load_pickle('df.pkl')"
      ],
      "metadata": {
        "id": "hphKhkZkig-o"
      },
      "execution_count": 63,
      "outputs": []
    },
    {
      "cell_type": "code",
      "source": [
        "#hide\n",
        "# these are the functions we defined in the last blog\n",
        "def r_mse(preds, y):\n",
        "    return round(math.sqrt(((preds - y)**2).mean()), 6)\n",
        "    \n",
        "def m_rmse(m, xs, y):\n",
        "    return r_mse(m.predict(xs), y)\n",
        "\n",
        "def rf(xs, y, n_estimators = 40, max_samples = 200_000, \n",
        "       max_features = 0.5, min_samples_leaf = 5, **kwargs):\n",
        "    return RandomForestRegressor(\n",
        "        n_jobs       = -1,                   # use all CPU cores\n",
        "        n_estimators = n_estimators,         # number of decision trees\n",
        "        max_samples  = max_samples,          # max number of rows to get\n",
        "        max_features = max_features,         # how many columns to get (%)\n",
        "        min_samples_leaf = min_samples_leaf, # leaf nodes must have at least this many (to prevent overfitting)\n",
        "        oob_score    = True                  # track out-of-box error score\n",
        "    ).fit(xs, y)\n",
        "\n",
        "def feature_importance(df, m):\n",
        "    return pd.DataFrame({'Feature': df.columns, 'Importance': m.feature_importances_}).sort_values('Importance', ascending = False)\n",
        "\n",
        "def get_oob(df):\n",
        "    m = RandomForestRegressor(\n",
        "        n_estimators = 40, \n",
        "        min_samples_leaf = 15, # higher to have a shorter depth tree\n",
        "        max_samples = 50_000,\n",
        "        max_features = 0.5,\n",
        "        n_jobs = -1,\n",
        "        oob_score = True).fit(df, train_y)\n",
        "    return m.oob_score_"
      ],
      "metadata": {
        "id": "o9E4J0hui9DK"
      },
      "execution_count": 64,
      "outputs": []
    },
    {
      "cell_type": "markdown",
      "source": [
        "Next, we have to know which columns should be treated as categorical so that they can be given embeddings. For that, we'll use `cont_cat_split`, but we set the max cardinality as 9000 (embedding sizes greater than 10,000 should be used after you tested if there's better ways to group the variable)."
      ],
      "metadata": {
        "id": "siVe5pY5ib4G"
      }
    },
    {
      "cell_type": "code",
      "source": [
        "cont, cat = cont_cat_split(df, max_card=9_000, dep_var='SalePrice')"
      ],
      "metadata": {
        "id": "rwdOdbOQjeZG"
      },
      "execution_count": 65,
      "outputs": []
    },
    {
      "cell_type": "markdown",
      "source": [
        "Mainly, we want to ensure `saleElapsed` is in the continuous section since by definition, if a label is in the categorical section, it cannot be extrapolated."
      ],
      "metadata": {
        "id": "aPSx-xfgkX4S"
      }
    },
    {
      "cell_type": "code",
      "source": [
        "cont"
      ],
      "metadata": {
        "colab": {
          "base_uri": "https://localhost:8080/"
        },
        "id": "V3PzhSPKkVn7",
        "outputId": "a72591eb-0a22-4c08-c6df-191bcd09d5de"
      },
      "execution_count": 66,
      "outputs": [
        {
          "output_type": "execute_result",
          "data": {
            "text/plain": [
              "['saleElapsed']"
            ]
          },
          "metadata": {},
          "execution_count": 66
        }
      ]
    },
    {
      "cell_type": "markdown",
      "source": [
        "Next, let's see the cardinality of each of the categorical variables (if there's some that are similar in number, they may be redundant and we can try to remove all but one):"
      ],
      "metadata": {
        "id": "A638tLiwkpks"
      }
    },
    {
      "cell_type": "code",
      "source": [
        "df[cat].nunique()"
      ],
      "metadata": {
        "colab": {
          "base_uri": "https://localhost:8080/"
        },
        "id": "04P8HaZFkmtp",
        "outputId": "3c576d27-f97b-489a-bc78-684ecf3095d5"
      },
      "execution_count": 67,
      "outputs": [
        {
          "output_type": "execute_result",
          "data": {
            "text/plain": [
              "YearMade                73\n",
              "ProductSize              6\n",
              "Coupler_System           2\n",
              "fiProductClassDesc      74\n",
              "ModelID               5281\n",
              "fiSecondaryDesc        177\n",
              "Enclosure                6\n",
              "fiModelDesc           5059\n",
              "ProductGroupDesc         6\n",
              "fiModelDescriptor      140\n",
              "Drive_System             4\n",
              "Hydraulics              12\n",
              "Tire_Size               17\n",
              "dtype: int64"
            ]
          },
          "metadata": {},
          "execution_count": 67
        }
      ]
    },
    {
      "cell_type": "markdown",
      "source": [
        "It appears that `ModelID` and `fiModelDesc` may be redundant since they're both pertaining to `Model` and are of similar cardinality. So, we'll do what we did before and try removing `fiModelDesc` and see what happens to the results. "
      ],
      "metadata": {
        "id": "qajv60LnlBjM"
      }
    },
    {
      "cell_type": "code",
      "source": [
        "#hide\n",
        "tp           = load_pickle('tp.pkl')\n",
        "xs_new       = load_pickle('xs_new.pkl') \n",
        "valid_xs_new = load_pickle('valid_xs_new.pkl')\n",
        "train_y, valid_y = tp.train.y, tp.valid.y"
      ],
      "metadata": {
        "id": "MET-cZ6OlNwq"
      },
      "execution_count": 68,
      "outputs": []
    },
    {
      "cell_type": "code",
      "source": [
        "get_oob(xs_new)"
      ],
      "metadata": {
        "colab": {
          "base_uri": "https://localhost:8080/"
        },
        "id": "Nani-hx1mVjj",
        "outputId": "9407cb2a-e262-4367-9ec7-9ef78c9f44fc"
      },
      "execution_count": 69,
      "outputs": [
        {
          "output_type": "execute_result",
          "data": {
            "text/plain": [
              "0.8760441852100622"
            ]
          },
          "metadata": {},
          "execution_count": 69
        }
      ]
    },
    {
      "cell_type": "code",
      "source": [
        "{c: get_oob(xs_new.drop(c, axis=1)) for c in \n",
        " ['ModelID', 'fiModelDesc', 'fiModelDescriptor']}"
      ],
      "metadata": {
        "colab": {
          "base_uri": "https://localhost:8080/"
        },
        "id": "abe3V3t6k3el",
        "outputId": "43dad05c-1684-4e46-e748-d5d09d2bba80"
      },
      "execution_count": 70,
      "outputs": [
        {
          "output_type": "execute_result",
          "data": {
            "text/plain": [
              "{'ModelID': 0.8717292042012881,\n",
              " 'fiModelDesc': 0.869256405033346,\n",
              " 'fiModelDescriptor': 0.8748457618690582}"
            ]
          },
          "metadata": {},
          "execution_count": 70
        }
      ]
    },
    {
      "cell_type": "markdown",
      "source": [
        "Overall, it seems we can remove `fiModelDescriptor` without it significantly affecting the model."
      ],
      "metadata": {
        "id": "4tcDph8bnv6c"
      }
    },
    {
      "cell_type": "code",
      "source": [
        "cat.remove('fiModelDescriptor')"
      ],
      "metadata": {
        "id": "M9YMgQ7qn5Pe"
      },
      "execution_count": 71,
      "outputs": []
    },
    {
      "cell_type": "markdown",
      "source": [
        "To create `DataLoaders` for our model, we can use `TabularPandas` again. However, we have to add the `Normalize` `TabularProc` for a neural network since the scale of the variables matter unlike in building a decision tree. "
      ],
      "metadata": {
        "id": "8P1Fn-tRoGLz"
      }
    },
    {
      "cell_type": "code",
      "source": [
        "tp = TabularPandas(df, [Categorify, FillMissing, Normalize],\n",
        "                   cat, cont, splits=splits, y_names='SalePrice')"
      ],
      "metadata": {
        "id": "jSxSecJXoMoh"
      },
      "execution_count": 73,
      "outputs": []
    },
    {
      "cell_type": "code",
      "source": [
        "# we can use a larger batch size compared to\n",
        "# a vision model since we're dealing with\n",
        "# dabular data (doesn't require as much GPU RAM)\n",
        "dls = tp.dataloaders(1024)"
      ],
      "metadata": {
        "id": "FNyVNKmOpn_C"
      },
      "execution_count": 74,
      "outputs": []
    },
    {
      "cell_type": "markdown",
      "source": [
        "Next, we'll see what range we should have for our predictions."
      ],
      "metadata": {
        "id": "aR6YXgc2p0_l"
      }
    },
    {
      "cell_type": "code",
      "source": [
        "y, v_y = tp.train.y, tp.valid.y\n",
        "y.min(),y.max(),v_y.min(),v_y.max()"
      ],
      "metadata": {
        "colab": {
          "base_uri": "https://localhost:8080/"
        },
        "id": "7cg62wthp0iM",
        "outputId": "a8d98e73-8185-43b6-9ff5-b6dd30c37556"
      },
      "execution_count": 79,
      "outputs": [
        {
          "output_type": "execute_result",
          "data": {
            "text/plain": [
              "(8.465899467468262, 11.863582611083984, 8.465899467468262, 11.849397659301758)"
            ]
          },
          "metadata": {},
          "execution_count": 79
        }
      ]
    },
    {
      "cell_type": "markdown",
      "source": [
        "So, we can set our `y_range` as (8, 12) (remember that a model tends to do better when we have our upper bound a little higher than the actual maximum).  "
      ],
      "metadata": {
        "id": "WSrT2_nxqPds"
      }
    },
    {
      "cell_type": "code",
      "source": [
        "learn = tabular_learner(dls, layers=[500, 250], \n",
        "                        y_range=(8, 12), n_out=1,\n",
        "                        loss_func=F.mse_loss)"
      ],
      "metadata": {
        "id": "Z1XU1BzSqcwZ"
      },
      "execution_count": 82,
      "outputs": []
    },
    {
      "cell_type": "markdown",
      "source": [
        "As always, we'll use `.lr_find()` to find the optimal learning rate:"
      ],
      "metadata": {
        "id": "pDSPag4frW-T"
      }
    },
    {
      "cell_type": "code",
      "source": [
        "lr = learn.lr_find().valley"
      ],
      "metadata": {
        "colab": {
          "base_uri": "https://localhost:8080/",
          "height": 283
        },
        "id": "IdzD2ct-rbZm",
        "outputId": "fcc3dc46-f0b1-4a98-b21d-8e556d947085"
      },
      "execution_count": 83,
      "outputs": [
        {
          "output_type": "display_data",
          "data": {
            "text/plain": [
              "<IPython.core.display.HTML object>"
            ],
            "text/html": [
              "\n",
              "<style>\n",
              "    /* Turns off some styling */\n",
              "    progress {\n",
              "        /* gets rid of default border in Firefox and Opera. */\n",
              "        border: none;\n",
              "        /* Needs to be in here for Safari polyfill so background images work as expected. */\n",
              "        background-size: auto;\n",
              "    }\n",
              "    .progress-bar-interrupted, .progress-bar-interrupted::-webkit-progress-bar {\n",
              "        background: #F44336;\n",
              "    }\n",
              "</style>\n"
            ]
          },
          "metadata": {}
        },
        {
          "output_type": "display_data",
          "data": {
            "text/plain": [
              "<IPython.core.display.HTML object>"
            ],
            "text/html": [
              ""
            ]
          },
          "metadata": {}
        },
        {
          "output_type": "display_data",
          "data": {
            "text/plain": [
              "<Figure size 432x288 with 1 Axes>"
            ],
            "image/png": "[encoded data removed]"
          },
          "metadata": {
            "needs_background": "light"
          }
        }
      ]
    },
    {
      "cell_type": "markdown",
      "source": [
        "And, we'll use `fit_one_cycle` to train our model since we're not transfer learning:"
      ],
      "metadata": {
        "id": "16sm-hjprmsG"
      }
    },
    {
      "cell_type": "code",
      "source": [
        "learn.fit_one_cycle(5, lr)"
      ],
      "metadata": {
        "colab": {
          "base_uri": "https://localhost:8080/",
          "height": 206
        },
        "id": "fVaoVCoRrjjI",
        "outputId": "ac7bc808-3201-4596-fb7b-714433f47247"
      },
      "execution_count": 86,
      "outputs": [
        {
          "output_type": "display_data",
          "data": {
            "text/plain": [
              "<IPython.core.display.HTML object>"
            ],
            "text/html": [
              "\n",
              "<style>\n",
              "    /* Turns off some styling */\n",
              "    progress {\n",
              "        /* gets rid of default border in Firefox and Opera. */\n",
              "        border: none;\n",
              "        /* Needs to be in here for Safari polyfill so background images work as expected. */\n",
              "        background-size: auto;\n",
              "    }\n",
              "    .progress-bar-interrupted, .progress-bar-interrupted::-webkit-progress-bar {\n",
              "        background: #F44336;\n",
              "    }\n",
              "</style>\n"
            ]
          },
          "metadata": {}
        },
        {
          "output_type": "display_data",
          "data": {
            "text/plain": [
              "<IPython.core.display.HTML object>"
            ],
            "text/html": [
              "<table border=\"1\" class=\"dataframe\">\n",
              "  <thead>\n",
              "    <tr style=\"text-align: left;\">\n",
              "      <th>epoch</th>\n",
              "      <th>train_loss</th>\n",
              "      <th>valid_loss</th>\n",
              "      <th>time</th>\n",
              "    </tr>\n",
              "  </thead>\n",
              "  <tbody>\n",
              "    <tr>\n",
              "      <td>0</td>\n",
              "      <td>0.068500</td>\n",
              "      <td>0.075998</td>\n",
              "      <td>00:07</td>\n",
              "    </tr>\n",
              "    <tr>\n",
              "      <td>1</td>\n",
              "      <td>0.052604</td>\n",
              "      <td>0.063197</td>\n",
              "      <td>00:07</td>\n",
              "    </tr>\n",
              "    <tr>\n",
              "      <td>2</td>\n",
              "      <td>0.047209</td>\n",
              "      <td>0.059763</td>\n",
              "      <td>00:07</td>\n",
              "    </tr>\n",
              "    <tr>\n",
              "      <td>3</td>\n",
              "      <td>0.043221</td>\n",
              "      <td>0.061487</td>\n",
              "      <td>00:07</td>\n",
              "    </tr>\n",
              "    <tr>\n",
              "      <td>4</td>\n",
              "      <td>0.039401</td>\n",
              "      <td>0.053084</td>\n",
              "      <td>00:07</td>\n",
              "    </tr>\n",
              "  </tbody>\n",
              "</table>"
            ]
          },
          "metadata": {}
        }
      ]
    },
    {
      "cell_type": "code",
      "source": [
        "preds, targs = learn.get_preds()\n",
        "r_mse(preds, targs)"
      ],
      "metadata": {
        "colab": {
          "base_uri": "https://localhost:8080/",
          "height": 34
        },
        "id": "m87yhJCYsOK3",
        "outputId": "9b35a849-147b-48f2-96b7-c41276c88906"
      },
      "execution_count": 90,
      "outputs": [
        {
          "output_type": "display_data",
          "data": {
            "text/plain": [
              "<IPython.core.display.HTML object>"
            ],
            "text/html": [
              "\n",
              "<style>\n",
              "    /* Turns off some styling */\n",
              "    progress {\n",
              "        /* gets rid of default border in Firefox and Opera. */\n",
              "        border: none;\n",
              "        /* Needs to be in here for Safari polyfill so background images work as expected. */\n",
              "        background-size: auto;\n",
              "    }\n",
              "    .progress-bar-interrupted, .progress-bar-interrupted::-webkit-progress-bar {\n",
              "        background: #F44336;\n",
              "    }\n",
              "</style>\n"
            ]
          },
          "metadata": {}
        },
        {
          "output_type": "display_data",
          "data": {
            "text/plain": [
              "<IPython.core.display.HTML object>"
            ],
            "text/html": [
              ""
            ]
          },
          "metadata": {}
        },
        {
          "output_type": "execute_result",
          "data": {
            "text/plain": [
              "0.230399"
            ]
          },
          "metadata": {},
          "execution_count": 90
        }
      ]
    },
    {
      "cell_type": "markdown",
      "source": [
        "Overall, we got a better RMSE than the random forest model, but not by a lot. "
      ],
      "metadata": {
        "id": "RrU6TrLwsZYx"
      }
    },
    {
      "cell_type": "code",
      "source": [
        "#hide\n",
        "save_pickle('learn.pkl', learn)"
      ],
      "metadata": {
        "id": "HWVevn6fslM4"
      },
      "execution_count": 91,
      "outputs": []
    },
    {
      "cell_type": "code",
      "source": [
        "#hide\n",
        "learn = load_pickle('learn.pkl')"
      ],
      "metadata": {
        "id": "TqtoCJxP6aHl"
      },
      "execution_count": null,
      "outputs": []
    },
    {
      "cell_type": "markdown",
      "source": [
        "Now, we'll try using the embeddings from the neural network to replace the categorical columns for our random forest:"
      ],
      "metadata": {
        "id": "rBFJ-jiuudTK"
      }
    },
    {
      "cell_type": "code",
      "source": [
        "# code is essentially verbatim from fast.ai's @danielwbn:\n",
        "# https://forums.fast.ai/t/using-embedding-from-the-neural-network-in-random-forests/80063/10\n",
        "def transfer_embeds(learn, xs):\n",
        "    xs = xs.copy()\n",
        "    for i, feature in enumerate(learn.dls.cat_names):\n",
        "        emb = learn.embeds[i].cpu() \n",
        "        # added .cpu() to learn since tensor below is made on cpu while learn is on cuda\n",
        "        new_feat = pd.DataFrame(emb(tensor(xs[feature], dtype=torch.int64)),\n",
        "                                index=xs.index, \n",
        "                                columns=[f'{feature}_{j}' for j in range(emb.embedding_dim)])\n",
        "        xs = xs.drop(feature, axis=1)\n",
        "        xs = xs.join(new_feat)\n",
        "    return xs"
      ],
      "metadata": {
        "id": "Jmf6oETesql5"
      },
      "execution_count": 147,
      "outputs": []
    },
    {
      "cell_type": "code",
      "source": [
        "xs_with_embs       = transfer_embeds(learn, learn.dls.train.xs) \n",
        "valid_xs_with_embs = transfer_embeds(learn, learn.dls.valid.xs)"
      ],
      "metadata": {
        "id": "b0b4JP3hxKmV"
      },
      "execution_count": 148,
      "outputs": []
    },
    {
      "cell_type": "code",
      "source": [
        "#hide\n",
        "xs_with_embs"
      ],
      "metadata": {
        "colab": {
          "base_uri": "https://localhost:8080/",
          "height": 424
        },
        "id": "b71ELO741IwY",
        "outputId": "b844936f-de2c-4970-dee1-eccc51da0da6"
      },
      "execution_count": 150,
      "outputs": [
        {
          "output_type": "execute_result",
          "data": {
            "text/plain": [
              "        saleElapsed  YearMade_0  YearMade_1  YearMade_2  ...  Tire_Size_4  \\\n",
              "0          0.374363   -0.006804    0.025413    0.022735  ...     0.003835   \n",
              "1         -0.081862    0.021130    0.017134   -0.012756  ...     0.014869   \n",
              "2         -0.095572    0.014606   -0.009932   -0.006298  ...    -0.012436   \n",
              "3          1.152073    0.014606   -0.009932   -0.006298  ...    -0.012436   \n",
              "4          0.837680   -0.023084    0.009760    0.038636  ...    -0.012436   \n",
              "...             ...         ...         ...         ...  ...          ...   \n",
              "412693     1.290595   -0.010673    0.019795    0.006931  ...    -0.012436   \n",
              "412694     1.272157   -0.010673    0.019795    0.006931  ...    -0.012436   \n",
              "412695     1.272157   -0.010673    0.019795    0.006931  ...    -0.012436   \n",
              "412696     1.290595   -0.015706    0.004882    0.017343  ...    -0.012436   \n",
              "412697     1.272157   -0.015706    0.004882    0.017343  ...    -0.012436   \n",
              "\n",
              "        Tire_Size_5  Tire_Size_6  Tire_Size_7  \n",
              "0         -0.004636    -0.001658     0.010026  \n",
              "1          0.009283    -0.006036    -0.001544  \n",
              "2         -0.007393    -0.013705     0.001535  \n",
              "3         -0.007393    -0.013705     0.001535  \n",
              "4         -0.007393    -0.013705     0.001535  \n",
              "...             ...          ...          ...  \n",
              "412693    -0.007393    -0.013705     0.001535  \n",
              "412694    -0.007393    -0.013705     0.001535  \n",
              "412695    -0.007393    -0.013705     0.001535  \n",
              "412696    -0.007393    -0.013705     0.001535  \n",
              "412697    -0.007393    -0.013705     0.001535  \n",
              "\n",
              "[406944 rows x 487 columns]"
            ],
            "text/html": [
              "\n",
              "  <div id=\"df-1eda8f0d-6926-46e2-99ee-d24b302e8263\">\n",
              "    <div class=\"colab-df-container\">\n",
              "      <div>\n",
              "<style scoped>\n",
              "    .dataframe tbody tr th:only-of-type {\n",
              "        vertical-align: middle;\n",
              "    }\n",
              "\n",
              "    .dataframe tbody tr th {\n",
              "        vertical-align: top;\n",
              "    }\n",
              "\n",
              "    .dataframe thead th {\n",
              "        text-align: right;\n",
              "    }\n",
              "</style>\n",
              "<table border=\"1\" class=\"dataframe\">\n",
              "  <thead>\n",
              "    <tr style=\"text-align: right;\">\n",
              "      <th></th>\n",
              "      <th>saleElapsed</th>\n",
              "      <th>YearMade_0</th>\n",
              "      <th>YearMade_1</th>\n",
              "      <th>YearMade_2</th>\n",
              "      <th>...</th>\n",
              "      <th>Tire_Size_4</th>\n",
              "      <th>Tire_Size_5</th>\n",
              "      <th>Tire_Size_6</th>\n",
              "      <th>Tire_Size_7</th>\n",
              "    </tr>\n",
              "  </thead>\n",
              "  <tbody>\n",
              "    <tr>\n",
              "      <th>0</th>\n",
              "      <td>0.374363</td>\n",
              "      <td>-0.006804</td>\n",
              "      <td>0.025413</td>\n",
              "      <td>0.022735</td>\n",
              "      <td>...</td>\n",
              "      <td>0.003835</td>\n",
              "      <td>-0.004636</td>\n",
              "      <td>-0.001658</td>\n",
              "      <td>0.010026</td>\n",
              "    </tr>\n",
              "    <tr>\n",
              "      <th>1</th>\n",
              "      <td>-0.081862</td>\n",
              "      <td>0.021130</td>\n",
              "      <td>0.017134</td>\n",
              "      <td>-0.012756</td>\n",
              "      <td>...</td>\n",
              "      <td>0.014869</td>\n",
              "      <td>0.009283</td>\n",
              "      <td>-0.006036</td>\n",
              "      <td>-0.001544</td>\n",
              "    </tr>\n",
              "    <tr>\n",
              "      <th>2</th>\n",
              "      <td>-0.095572</td>\n",
              "      <td>0.014606</td>\n",
              "      <td>-0.009932</td>\n",
              "      <td>-0.006298</td>\n",
              "      <td>...</td>\n",
              "      <td>-0.012436</td>\n",
              "      <td>-0.007393</td>\n",
              "      <td>-0.013705</td>\n",
              "      <td>0.001535</td>\n",
              "    </tr>\n",
              "    <tr>\n",
              "      <th>3</th>\n",
              "      <td>1.152073</td>\n",
              "      <td>0.014606</td>\n",
              "      <td>-0.009932</td>\n",
              "      <td>-0.006298</td>\n",
              "      <td>...</td>\n",
              "      <td>-0.012436</td>\n",
              "      <td>-0.007393</td>\n",
              "      <td>-0.013705</td>\n",
              "      <td>0.001535</td>\n",
              "    </tr>\n",
              "    <tr>\n",
              "      <th>4</th>\n",
              "      <td>0.837680</td>\n",
              "      <td>-0.023084</td>\n",
              "      <td>0.009760</td>\n",
              "      <td>0.038636</td>\n",
              "      <td>...</td>\n",
              "      <td>-0.012436</td>\n",
              "      <td>-0.007393</td>\n",
              "      <td>-0.013705</td>\n",
              "      <td>0.001535</td>\n",
              "    </tr>\n",
              "    <tr>\n",
              "      <th>...</th>\n",
              "      <td>...</td>\n",
              "      <td>...</td>\n",
              "      <td>...</td>\n",
              "      <td>...</td>\n",
              "      <td>...</td>\n",
              "      <td>...</td>\n",
              "      <td>...</td>\n",
              "      <td>...</td>\n",
              "      <td>...</td>\n",
              "    </tr>\n",
              "    <tr>\n",
              "      <th>412693</th>\n",
              "      <td>1.290595</td>\n",
              "      <td>-0.010673</td>\n",
              "      <td>0.019795</td>\n",
              "      <td>0.006931</td>\n",
              "      <td>...</td>\n",
              "      <td>-0.012436</td>\n",
              "      <td>-0.007393</td>\n",
              "      <td>-0.013705</td>\n",
              "      <td>0.001535</td>\n",
              "    </tr>\n",
              "    <tr>\n",
              "      <th>412694</th>\n",
              "      <td>1.272157</td>\n",
              "      <td>-0.010673</td>\n",
              "      <td>0.019795</td>\n",
              "      <td>0.006931</td>\n",
              "      <td>...</td>\n",
              "      <td>-0.012436</td>\n",
              "      <td>-0.007393</td>\n",
              "      <td>-0.013705</td>\n",
              "      <td>0.001535</td>\n",
              "    </tr>\n",
              "    <tr>\n",
              "      <th>412695</th>\n",
              "      <td>1.272157</td>\n",
              "      <td>-0.010673</td>\n",
              "      <td>0.019795</td>\n",
              "      <td>0.006931</td>\n",
              "      <td>...</td>\n",
              "      <td>-0.012436</td>\n",
              "      <td>-0.007393</td>\n",
              "      <td>-0.013705</td>\n",
              "      <td>0.001535</td>\n",
              "    </tr>\n",
              "    <tr>\n",
              "      <th>412696</th>\n",
              "      <td>1.290595</td>\n",
              "      <td>-0.015706</td>\n",
              "      <td>0.004882</td>\n",
              "      <td>0.017343</td>\n",
              "      <td>...</td>\n",
              "      <td>-0.012436</td>\n",
              "      <td>-0.007393</td>\n",
              "      <td>-0.013705</td>\n",
              "      <td>0.001535</td>\n",
              "    </tr>\n",
              "    <tr>\n",
              "      <th>412697</th>\n",
              "      <td>1.272157</td>\n",
              "      <td>-0.015706</td>\n",
              "      <td>0.004882</td>\n",
              "      <td>0.017343</td>\n",
              "      <td>...</td>\n",
              "      <td>-0.012436</td>\n",
              "      <td>-0.007393</td>\n",
              "      <td>-0.013705</td>\n",
              "      <td>0.001535</td>\n",
              "    </tr>\n",
              "  </tbody>\n",
              "</table>\n",
              "<p>406944 rows × 487 columns</p>\n",
              "</div>\n",
              "      <button class=\"colab-df-convert\" onclick=\"convertToInteractive('df-1eda8f0d-6926-46e2-99ee-d24b302e8263')\"\n",
              "              title=\"Convert this dataframe to an interactive table.\"\n",
              "              style=\"display:none;\">\n",
              "        \n",
              "  <svg xmlns=\"http://www.w3.org/2000/svg\" height=\"24px\"viewBox=\"0 0 24 24\"\n",
              "       width=\"24px\">\n",
              "    <path d=\"M0 0h24v24H0V0z\" fill=\"none\"/>\n",
              "    <path d=\"M18.56 5.44l.94 2.06.94-2.06 2.06-.94-2.06-.94-.94-2.06-.94 2.06-2.06.94zm-11 1L8.5 8.5l.94-2.06 2.06-.94-2.06-.94L8.5 2.5l-.94 2.06-2.06.94zm10 10l.94 2.06.94-2.06 2.06-.94-2.06-.94-.94-2.06-.94 2.06-2.06.94z\"/><path d=\"M17.41 7.96l-1.37-1.37c-.4-.4-.92-.59-1.43-.59-.52 0-1.04.2-1.43.59L10.3 9.45l-7.72 7.72c-.78.78-.78 2.05 0 2.83L4 21.41c.39.39.9.59 1.41.59.51 0 1.02-.2 1.41-.59l7.78-7.78 2.81-2.81c.8-.78.8-2.07 0-2.86zM5.41 20L4 18.59l7.72-7.72 1.47 1.35L5.41 20z\"/>\n",
              "  </svg>\n",
              "      </button>\n",
              "      \n",
              "  <style>\n",
              "    .colab-df-container {\n",
              "      display:flex;\n",
              "      flex-wrap:wrap;\n",
              "      gap: 12px;\n",
              "    }\n",
              "\n",
              "    .colab-df-convert {\n",
              "      background-color: #E8F0FE;\n",
              "      border: none;\n",
              "      border-radius: 50%;\n",
              "      cursor: pointer;\n",
              "      display: none;\n",
              "      fill: #1967D2;\n",
              "      height: 32px;\n",
              "      padding: 0 0 0 0;\n",
              "      width: 32px;\n",
              "    }\n",
              "\n",
              "    .colab-df-convert:hover {\n",
              "      background-color: #E2EBFA;\n",
              "      box-shadow: 0px 1px 2px rgba(60, 64, 67, 0.3), 0px 1px 3px 1px rgba(60, 64, 67, 0.15);\n",
              "      fill: #174EA6;\n",
              "    }\n",
              "\n",
              "    [theme=dark] .colab-df-convert {\n",
              "      background-color: #3B4455;\n",
              "      fill: #D2E3FC;\n",
              "    }\n",
              "\n",
              "    [theme=dark] .colab-df-convert:hover {\n",
              "      background-color: #434B5C;\n",
              "      box-shadow: 0px 1px 3px 1px rgba(0, 0, 0, 0.15);\n",
              "      filter: drop-shadow(0px 1px 2px rgba(0, 0, 0, 0.3));\n",
              "      fill: #FFFFFF;\n",
              "    }\n",
              "  </style>\n",
              "\n",
              "      <script>\n",
              "        const buttonEl =\n",
              "          document.querySelector('#df-1eda8f0d-6926-46e2-99ee-d24b302e8263 button.colab-df-convert');\n",
              "        buttonEl.style.display =\n",
              "          google.colab.kernel.accessAllowed ? 'block' : 'none';\n",
              "\n",
              "        async function convertToInteractive(key) {\n",
              "          const element = document.querySelector('#df-1eda8f0d-6926-46e2-99ee-d24b302e8263');\n",
              "          const dataTable =\n",
              "            await google.colab.kernel.invokeFunction('convertToInteractive',\n",
              "                                                     [key], {});\n",
              "          if (!dataTable) return;\n",
              "\n",
              "          const docLinkHtml = 'Like what you see? Visit the ' +\n",
              "            '<a target=\"_blank\" href=https://colab.research.google.com/notebooks/data_table.ipynb>data table notebook</a>'\n",
              "            + ' to learn more about interactive tables.';\n",
              "          element.innerHTML = '';\n",
              "          dataTable['output_type'] = 'display_data';\n",
              "          await google.colab.output.renderOutput(dataTable, element);\n",
              "          const docLink = document.createElement('div');\n",
              "          docLink.innerHTML = docLinkHtml;\n",
              "          element.appendChild(docLink);\n",
              "        }\n",
              "      </script>\n",
              "    </div>\n",
              "  </div>\n",
              "  "
            ]
          },
          "metadata": {},
          "execution_count": 150
        }
      ]
    },
    {
      "cell_type": "code",
      "source": [
        "m = rf(xs_with_embs, train_y)"
      ],
      "metadata": {
        "id": "T6ZgJaM5y_2p"
      },
      "execution_count": 151,
      "outputs": []
    },
    {
      "cell_type": "code",
      "source": [
        "#hide\n",
        "save_pickle('m_embs.pkl', m)"
      ],
      "metadata": {
        "id": "A-Ji59GV3dh8"
      },
      "execution_count": 152,
      "outputs": []
    },
    {
      "cell_type": "code",
      "source": [
        "#hide\n",
        "m = load_pickle('m_embs.pkl')"
      ],
      "metadata": {
        "id": "H7JZ4F3G3gqu"
      },
      "execution_count": null,
      "outputs": []
    },
    {
      "cell_type": "code",
      "source": [
        "m_rmse(m, xs_with_embs, train_y), m_rmse(m, valid_xs_with_embs, valid_y)"
      ],
      "metadata": {
        "colab": {
          "base_uri": "https://localhost:8080/"
        },
        "id": "Fuk5mU9y3jZs",
        "outputId": "b443c0f5-4351-4859-b02c-d6bad86e45e8"
      },
      "execution_count": 154,
      "outputs": [
        {
          "output_type": "execute_result",
          "data": {
            "text/plain": [
              "(0.184022, 0.236021)"
            ]
          },
          "metadata": {},
          "execution_count": 154
        }
      ]
    },
    {
      "cell_type": "markdown",
      "source": [
        "The validation RMSE ends up becoming worse! But, take a look at this:"
      ],
      "metadata": {
        "id": "Jbaow16f32sf"
      }
    },
    {
      "cell_type": "markdown",
      "source": [
        "We'll look at our RMSE when we ensemble the predictions from random forests (with embeddings) and the neural network. However, before we can take the average of the predictions from random forests and the neural network, we have to make them of the same type. To do so, we have to turn our neural network predictions (a rank-2 tensor) into a rank-1 numpy array. We can apply `.squeeze()` to remove any unit axis (a vector with only 1 thing in it)"
      ],
      "metadata": {
        "id": "pfVgYj9t2fCo"
      }
    },
    {
      "cell_type": "code",
      "source": [
        "rf_preds = m.predict(valid_xs_with_embs)\n",
        "ens_preds = (to_np(preds.squeeze()) + rf_preds) / 2"
      ],
      "metadata": {
        "id": "ROAr3Eo-zDIX"
      },
      "execution_count": 155,
      "outputs": []
    },
    {
      "cell_type": "code",
      "source": [
        "r_mse(ens_preds, valid_y)"
      ],
      "metadata": {
        "colab": {
          "base_uri": "https://localhost:8080/"
        },
        "id": "GgE_TqHE22iI",
        "outputId": "b6ee4084-10e4-4298-e0e7-d9eed444de5f"
      },
      "execution_count": 156,
      "outputs": [
        {
          "output_type": "execute_result",
          "data": {
            "text/plain": [
              "0.228773"
            ]
          },
          "metadata": {},
          "execution_count": 156
        }
      ]
    },
    {
      "cell_type": "markdown",
      "source": [
        "And, we now have an RMSE that's lower than the top leaderboard score of 0.22909, granted we're doing it on the validation set (since we don't have access to the `SalePrice` of `Test.csv`):"
      ],
      "metadata": {
        "id": "hA-7b0Cn4E8r"
      }
    },
    {
      "cell_type": "code",
      "source": [
        "a = pd.read_csv('Test.csv', low_memory=False)\n",
        "a.columns, 'SalePrice' in a.columns"
      ],
      "metadata": {
        "colab": {
          "base_uri": "https://localhost:8080/"
        },
        "id": "TgT6Ltjs4VQP",
        "outputId": "d8d1a0c4-1d4b-4b2a-cc21-aa90f60eddc9"
      },
      "execution_count": 162,
      "outputs": [
        {
          "output_type": "execute_result",
          "data": {
            "text/plain": [
              "(Index(['SalesID', 'MachineID', 'ModelID', 'datasource', 'auctioneerID',\n",
              "        'YearMade', 'MachineHoursCurrentMeter', 'UsageBand', 'saledate',\n",
              "        'fiModelDesc', 'fiBaseModel', 'fiSecondaryDesc', 'fiModelSeries',\n",
              "        'fiModelDescriptor', 'ProductSize', 'fiProductClassDesc', 'state',\n",
              "        'ProductGroup', 'ProductGroupDesc', 'Drive_System', 'Enclosure',\n",
              "        'Forks', 'Pad_Type', 'Ride_Control', 'Stick', 'Transmission',\n",
              "        'Turbocharged', 'Blade_Extension', 'Blade_Width', 'Enclosure_Type',\n",
              "        'Engine_Horsepower', 'Hydraulics', 'Pushblock', 'Ripper', 'Scarifier',\n",
              "        'Tip_Control', 'Tire_Size', 'Coupler', 'Coupler_System',\n",
              "        'Grouser_Tracks', 'Hydraulics_Flow', 'Track_Type',\n",
              "        'Undercarriage_Pad_Width', 'Stick_Length', 'Thumb', 'Pattern_Changer',\n",
              "        'Grouser_Type', 'Backhoe_Mounting', 'Blade_Type', 'Travel_Controls',\n",
              "        'Differential_Type', 'Steering_Controls'],\n",
              "       dtype='object'), False)"
            ]
          },
          "metadata": {},
          "execution_count": 162
        }
      ]
    },
    {
      "cell_type": "markdown",
      "source": [
        "So, we've finally covered tabular data training with decision trees, random forests, neural networks, and random forests with embeddings. We've ensembled the results of the last 2 to get a score that (\"technically\") beats the top leaderboard score of the Kaggle competition. \n",
        "\n",
        "Next, we'll be moving onto natural language models. But, I might also try experimenting with another tabular data set. "
      ],
      "metadata": {
        "id": "tnLpHhNu4sCV"
      }
    }
  ]
}