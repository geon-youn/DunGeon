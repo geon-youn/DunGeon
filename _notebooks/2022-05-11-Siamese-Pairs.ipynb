{
  "nbformat": 4,
  "nbformat_minor": 0,
  "metadata": {
    "colab": {
      "name": "2022-05-11-Siamese-Pairs.ipynb",
      "provenance": [],
      "collapsed_sections": []
    },
    "kernelspec": {
      "name": "python3",
      "display_name": "Python 3"
    },
    "language_info": {
      "name": "python"
    }
  },
  "cells": [
    {
      "cell_type": "markdown",
      "source": [
        "# \"Transfer learning for a siamese pair model\"\n",
        "> \"Give it two pet images and have it predict if they're the same breed.\"\n",
        "\n",
        "- categories: [fastai, vision]"
      ],
      "metadata": {
        "id": "Zm_gCBcah3iW"
      }
    },
    {
      "cell_type": "code",
      "execution_count": 1,
      "metadata": {
        "id": "tb1boMv-h1Ws"
      },
      "outputs": [],
      "source": [
        "#hide\n",
        "!pip install -Uqq fastai>=2.0.0 graphviz ipywidgets matplotlib nbdev>=0.2.12 pandas scikit_learn azure-cognitiveservices-search-imagesearch sentencepiece"
      ]
    },
    {
      "cell_type": "code",
      "source": [
        "#hide\n",
        "from google.colab import drive\n",
        "drive.mount('/content/gdrive/', force_remount=True)"
      ],
      "metadata": {
        "id": "ceywy0MmRisC",
        "colab": {
          "base_uri": "https://localhost:8080/"
        },
        "outputId": "f3f06547-f8f1-4b59-e945-fb2451560c0b"
      },
      "execution_count": 2,
      "outputs": [
        {
          "output_type": "stream",
          "name": "stdout",
          "text": [
            "Mounted at /content/gdrive/\n"
          ]
        }
      ]
    },
    {
      "cell_type": "code",
      "source": [
        "#hide\n",
        "from fastai.vision.all import *"
      ],
      "metadata": {
        "id": "Y8dmxRSjdsY9"
      },
      "execution_count": 3,
      "outputs": []
    },
    {
      "cell_type": "markdown",
      "source": [
        "## Introduction"
      ],
      "metadata": {
        "id": "tIJNitLVgFi9"
      }
    },
    {
      "cell_type": "markdown",
      "source": [
        "So far, we've covered all the top-level applications of fastai and the architectures used in the different domains. In the [most recent blog](https://geon-youn.github.io/DunGeon/fastai/2022/05/09/Fine-Tuning.html), we looked into how fastai automatically performs transfer learning for us when we use the application specific `Learner`s like `cnn_learner`. Today, we'll be training a siamese pair model by fine-tuning a pretrained resnet34 architecture without `cnn_learner`. Therefore, we'll have to split the pretrained model ourself and also the data since we won't be using the `DataBlock` API. "
      ],
      "metadata": {
        "id": "iVCiVUnMgGyg"
      }
    },
    {
      "cell_type": "markdown",
      "source": [
        "# Preparing the data"
      ],
      "metadata": {
        "id": "k8M4vc2jgDnD"
      }
    },
    {
      "cell_type": "markdown",
      "source": [
        "Once we download the images, we want a way to organize our data such that we can give it to our model for training."
      ],
      "metadata": {
        "id": "EFCN3OishCXw"
      }
    },
    {
      "cell_type": "code",
      "source": [
        "path  = untar_data(URLs.PETS)\n",
        "files = get_image_files(path/'images')"
      ],
      "metadata": {
        "id": "4VFbSXtcduug"
      },
      "execution_count": 15,
      "outputs": []
    },
    {
      "cell_type": "code",
      "source": [
        "#hide\n",
        "Path.BASE_PATH = path"
      ],
      "metadata": {
        "id": "mffje439iBWo"
      },
      "execution_count": 16,
      "outputs": []
    },
    {
      "cell_type": "markdown",
      "source": [
        "So, we create a subclass of `fastuple` (fastai's improved `tuple` class) and define a `show` function so that we can actually see it."
      ],
      "metadata": {
        "id": "7lt3zSeZhJLp"
      }
    },
    {
      "cell_type": "code",
      "source": [
        "class SiameseImage(fastuple): \n",
        "    def show(self, ctx=None, **kwargs):\n",
        "        img1, img2, same_breed = self # (image_like, image_like, bool)\n",
        "        if not isinstance(img1, Tensor):\n",
        "            if img2.size != img1.size:\n",
        "                img2 = img2.resize(img1.size)\n",
        "            t1, t2 = tensor(img1), tensor(img2)\n",
        "            t1, t2 = t1.permute(2, 0, 1), t2.permute(2, 0, 1)\n",
        "        else:\n",
        "            t1, t2 = img1, img2\n",
        "        line = t1.new_zeros(t1.shape[0], t1.shape[1], 10)\n",
        "        return show_image(torch.cat([t1, line, t2], dim=2),\n",
        "                          title=same_breed, ctx=ctx)"
      ],
      "metadata": {
        "id": "BmzhTxtPdz4E"
      },
      "execution_count": 17,
      "outputs": []
    },
    {
      "cell_type": "markdown",
      "source": [
        "Then, we create a label function that'll get the label (pet breed name) from the images. The images are named like `name_numbers.jpg` where spaces in `name` are replaced with underscores. We can get the labels using regex:"
      ],
      "metadata": {
        "id": "u9OJBYhLhSLt"
      }
    },
    {
      "cell_type": "code",
      "source": [
        "def label_func(fname):\n",
        "    return re.match(r'^(.*)_\\d+.jpg$', fname.name).groups()[0]"
      ],
      "metadata": {
        "id": "8nvGHuw6ecIg"
      },
      "execution_count": 4,
      "outputs": []
    },
    {
      "cell_type": "markdown",
      "source": [
        "The regex expression `^(.*)_\\d+.jpg$` means (`^`) from the beginning of the string, (`(.*)`) give me any character repeating zero or more times, (`_\\d+.jpg$`) but don't give me the rest off the string, which should look like an underscore followed by a number and a `.jpg` extension. For example,"
      ],
      "metadata": {
        "id": "LWy-tUFuhtKd"
      }
    },
    {
      "cell_type": "code",
      "source": [
        "fname = files[0]; fname"
      ],
      "metadata": {
        "colab": {
          "base_uri": "https://localhost:8080/"
        },
        "id": "2UCPhcrhiG_w",
        "outputId": "df4b34a3-9ec3-43d6-d2b0-5998b71141df"
      },
      "execution_count": 18,
      "outputs": [
        {
          "output_type": "execute_result",
          "data": {
            "text/plain": [
              "Path('images/scottish_terrier_74.jpg')"
            ]
          },
          "metadata": {},
          "execution_count": 18
        }
      ]
    },
    {
      "cell_type": "code",
      "source": [
        "label_func(fname)"
      ],
      "metadata": {
        "colab": {
          "base_uri": "https://localhost:8080/",
          "height": 35
        },
        "id": "V9bUsWmgiOt2",
        "outputId": "f22481fd-f44c-4b59-85ac-457e21cbd2c1"
      },
      "execution_count": 19,
      "outputs": [
        {
          "output_type": "execute_result",
          "data": {
            "text/plain": [
              "'scottish_terrier'"
            ],
            "application/vnd.google.colaboratory.intrinsic+json": {
              "type": "string"
            }
          },
          "metadata": {},
          "execution_count": 19
        }
      ]
    },
    {
      "cell_type": "markdown",
      "source": [
        "And to show how `SiameseImage` works, let's grab two images, give it a `bool` value and show it:"
      ],
      "metadata": {
        "id": "3MQ8k7R7kQRu"
      }
    },
    {
      "cell_type": "code",
      "source": [
        "img1, img2 = PILImage.create(files[0]), PILImage.create(files[1])"
      ],
      "metadata": {
        "id": "RWFsdpPYi1hd"
      },
      "execution_count": 25,
      "outputs": []
    },
    {
      "cell_type": "code",
      "source": [
        "SiameseImage((img1, img2, False)).show();"
      ],
      "metadata": {
        "colab": {
          "base_uri": "https://localhost:8080/",
          "height": 165
        },
        "id": "UcMv7fzzi78J",
        "outputId": "e644b6b7-1b3c-4d94-9586-49187b7fb640"
      },
      "execution_count": 26,
      "outputs": [
        {
          "output_type": "display_data",
          "data": {
            "text/plain": [
              "<Figure size 360x360 with 1 Axes>"
            ],
            "image/png": "[encoded data removed]"
          },
          "metadata": {
            "needs_background": "light"
          }
        }
      ]
    },
    {
      "cell_type": "markdown",
      "source": [
        "Next, we have to be able to take all our images and create a training and validation set, which we can do with a `Transform`:"
      ],
      "metadata": {
        "id": "1GeKkjkfkYH9"
      }
    },
    {
      "cell_type": "code",
      "source": [
        "class SiameseTransform(Transform):\n",
        "    def __init__(self, files, label_func, splits):\n",
        "        self.labels = files.map(label_func).unique()\n",
        "        self.l_f    = {l: L(f for f in files if label_func(f) == l) for l in self.labels}\n",
        "        self.f_l    = label_func\n",
        "        self.valid  = {f: self._draw(f) for f in files[splits[1]]}\n",
        "\n",
        "    def encodes(self, f):\n",
        "        f2  , t    = self.valid.get(f, self._draw(f))\n",
        "        img1, img2 = PILImage.create(f), PILImage.create(f2)\n",
        "        return SiameseImage(img1, img2, t)\n",
        "    \n",
        "    def _draw(self, f):\n",
        "        same = random.random() < 0.5\n",
        "        cls  = self.f_l(f)\n",
        "        if not same:\n",
        "            cls = random.choice(L(l for l in self.labels if l != cls))\n",
        "        return random.choice(self.l_f[cls]), same"
      ],
      "metadata": {
        "id": "YdHwvdKtekTY"
      },
      "execution_count": null,
      "outputs": []
    },
    {
      "cell_type": "markdown",
      "source": [
        "In `SiameseTransform`, we have our `__init__` function that:\n",
        "- has the labels for all the pet breeds in our data set (`labels`);\n",
        "- has two functions: one to get a list of all images of the same breed (`l_f`) and one to get the breed from an image (`f_l`); and\n",
        "- a dictionary that maps a file name to another file name and if they're the same breed (`valid`).\n",
        "\n",
        "The `encodes` function returns a `SiameseImage` and `_draw` is used to randomly get another image that may or may not be of the same breed.\n",
        "\n",
        "So, let's create our `DataLoaders` using `SiameseTransorm` alongside `TfmdLists`:"
      ],
      "metadata": {
        "id": "jtYnco72kjhH"
      }
    },
    {
      "cell_type": "code",
      "source": [
        "splits = RandomSplitter()(files)\n",
        "tfm    = SiameseTransform(files, label_func, splits)\n",
        "tls    = TfmdLists(files, tfm, splits=splits)\n",
        "dls    = tls.dataloaders(after_item=[Resize(224), ToTensor],\n",
        "                         after_batch=[IntToFloatTensor, Normalize.from_stats(*imagenet_stats)])"
      ],
      "metadata": {
        "id": "V5Hdz-G_fjqz"
      },
      "execution_count": null,
      "outputs": []
    },
    {
      "cell_type": "markdown",
      "source": [
        "## Preparing the model"
      ],
      "metadata": {
        "id": "VrNPjfebm3HF"
      }
    },
    {
      "cell_type": "markdown",
      "source": [
        "For the siamese pair model, we'll take the head off resnet34 to get an encoder. We'll pass the two images to that encoder to get two activations, which we'll concatenate and pass to the head to get two activations that we can use for `CrossEntropyLoss`.\n",
        "\n",
        "The model will look like this:"
      ],
      "metadata": {
        "id": "IvgglGqFnkB6"
      }
    },
    {
      "cell_type": "code",
      "source": [
        "class SiameseModel(Module):\n",
        "    def __init__(self, encoder, head):\n",
        "        self.encoder, self.head = encoder, head\n",
        "\n",
        "    def forward(self, x1, x2):\n",
        "        features = torch.cat([self.encoder(x1), self.encoder(x2)], dim=1)\n",
        "        return self.head(features)"
      ],
      "metadata": {
        "id": "nzjBrlzEf01T"
      },
      "execution_count": 67,
      "outputs": []
    },
    {
      "cell_type": "markdown",
      "source": [
        "To get the encoder, we'll get the cut position of resnet34:"
      ],
      "metadata": {
        "id": "HSTzFU_WoNdj"
      }
    },
    {
      "cell_type": "code",
      "source": [
        "model_meta[resnet34]"
      ],
      "metadata": {
        "colab": {
          "base_uri": "https://localhost:8080/"
        },
        "id": "DOI8JnOdgHz5",
        "outputId": "5cce1abe-16c2-4228-f3dd-a97976013c8d"
      },
      "execution_count": 68,
      "outputs": [
        {
          "output_type": "execute_result",
          "data": {
            "text/plain": [
              "{'cut': -2,\n",
              " 'split': <function fastai.vision.learner._resnet_split>,\n",
              " 'stats': ([0.485, 0.456, 0.406], [0.229, 0.224, 0.225])}"
            ]
          },
          "metadata": {},
          "execution_count": 68
        }
      ]
    },
    {
      "cell_type": "markdown",
      "source": [
        "And then create the body:"
      ],
      "metadata": {
        "id": "Ov8ctJNAoP3k"
      }
    },
    {
      "cell_type": "code",
      "source": [
        "encoder = create_body(resnet34, cut=-2)"
      ],
      "metadata": {
        "id": "wMBpaN9AgFwa"
      },
      "execution_count": 70,
      "outputs": []
    },
    {
      "cell_type": "markdown",
      "source": [
        "The last layer of the encoder has 512 out-channels:"
      ],
      "metadata": {
        "id": "qTgzldLhoS5u"
      }
    },
    {
      "cell_type": "code",
      "source": [
        "encoder[-1]"
      ],
      "metadata": {
        "colab": {
          "base_uri": "https://localhost:8080/"
        },
        "id": "T_jM32XwjZvZ",
        "outputId": "a0469345-ca38-4b39-956c-251cb5dffe27"
      },
      "execution_count": 71,
      "outputs": [
        {
          "output_type": "execute_result",
          "data": {
            "text/plain": [
              "Sequential(\n",
              "  (0): BasicBlock(\n",
              "    (conv1): Conv2d(256, 512, kernel_size=(3, 3), stride=(2, 2), padding=(1, 1), bias=False)\n",
              "    (bn1): BatchNorm2d(512, eps=1e-05, momentum=0.1, affine=True, track_running_stats=True)\n",
              "    (relu): ReLU(inplace=True)\n",
              "    (conv2): Conv2d(512, 512, kernel_size=(3, 3), stride=(1, 1), padding=(1, 1), bias=False)\n",
              "    (bn2): BatchNorm2d(512, eps=1e-05, momentum=0.1, affine=True, track_running_stats=True)\n",
              "    (downsample): Sequential(\n",
              "      (0): Conv2d(256, 512, kernel_size=(1, 1), stride=(2, 2), bias=False)\n",
              "      (1): BatchNorm2d(512, eps=1e-05, momentum=0.1, affine=True, track_running_stats=True)\n",
              "    )\n",
              "  )\n",
              "  (1): BasicBlock(\n",
              "    (conv1): Conv2d(512, 512, kernel_size=(3, 3), stride=(1, 1), padding=(1, 1), bias=False)\n",
              "    (bn1): BatchNorm2d(512, eps=1e-05, momentum=0.1, affine=True, track_running_stats=True)\n",
              "    (relu): ReLU(inplace=True)\n",
              "    (conv2): Conv2d(512, 512, kernel_size=(3, 3), stride=(1, 1), padding=(1, 1), bias=False)\n",
              "    (bn2): BatchNorm2d(512, eps=1e-05, momentum=0.1, affine=True, track_running_stats=True)\n",
              "  )\n",
              "  (2): BasicBlock(\n",
              "    (conv1): Conv2d(512, 512, kernel_size=(3, 3), stride=(1, 1), padding=(1, 1), bias=False)\n",
              "    (bn1): BatchNorm2d(512, eps=1e-05, momentum=0.1, affine=True, track_running_stats=True)\n",
              "    (relu): ReLU(inplace=True)\n",
              "    (conv2): Conv2d(512, 512, kernel_size=(3, 3), stride=(1, 1), padding=(1, 1), bias=False)\n",
              "    (bn2): BatchNorm2d(512, eps=1e-05, momentum=0.1, affine=True, track_running_stats=True)\n",
              "  )\n",
              ")"
            ]
          },
          "metadata": {},
          "execution_count": 71
        }
      ]
    },
    {
      "cell_type": "markdown",
      "source": [
        "So, we'll have to create our head with `512 * 2` in-channels since we're passing both images through the encoder and concatenating them:"
      ],
      "metadata": {
        "id": "WYC_E5_qoXx6"
      }
    },
    {
      "cell_type": "code",
      "source": [
        "head = create_head(512 * 2, 2, ps=0.5)"
      ],
      "metadata": {
        "id": "N8JxhS75gJXu"
      },
      "execution_count": 72,
      "outputs": []
    },
    {
      "cell_type": "code",
      "source": [
        "head"
      ],
      "metadata": {
        "colab": {
          "base_uri": "https://localhost:8080/"
        },
        "id": "2nqLqlXojxSw",
        "outputId": "ca0e2e4b-04e0-4cce-ce43-d2a61733915f"
      },
      "execution_count": 73,
      "outputs": [
        {
          "output_type": "execute_result",
          "data": {
            "text/plain": [
              "Sequential(\n",
              "  (0): AdaptiveConcatPool2d(\n",
              "    (ap): AdaptiveAvgPool2d(output_size=1)\n",
              "    (mp): AdaptiveMaxPool2d(output_size=1)\n",
              "  )\n",
              "  (1): Flatten(full=False)\n",
              "  (2): BatchNorm1d(2048, eps=1e-05, momentum=0.1, affine=True, track_running_stats=True)\n",
              "  (3): Dropout(p=0.25, inplace=False)\n",
              "  (4): Linear(in_features=2048, out_features=512, bias=False)\n",
              "  (5): ReLU(inplace=True)\n",
              "  (6): BatchNorm1d(512, eps=1e-05, momentum=0.1, affine=True, track_running_stats=True)\n",
              "  (7): Dropout(p=0.5, inplace=False)\n",
              "  (8): Linear(in_features=512, out_features=2, bias=False)\n",
              ")"
            ]
          },
          "metadata": {},
          "execution_count": 73
        }
      ]
    },
    {
      "cell_type": "markdown",
      "source": [
        "And now we have our model:"
      ],
      "metadata": {
        "id": "qBqu7Q2doeCP"
      }
    },
    {
      "cell_type": "code",
      "source": [
        "model = SiameseModel(encoder, head)"
      ],
      "metadata": {
        "id": "XWDt52WsgPpR"
      },
      "execution_count": 74,
      "outputs": []
    },
    {
      "cell_type": "markdown",
      "source": [
        "Lastly, we'll have to create two more functions: a loss function and a splitter.\n",
        "\n",
        "We have to change the current loss function, `CrossEntropyLoss`, because the targets are booleans while our head's output are floats. So, we can change our booleans to numbers:"
      ],
      "metadata": {
        "id": "59mczFWMofi5"
      }
    },
    {
      "cell_type": "code",
      "source": [
        "def loss_func(out, targ):\n",
        "    return nn.CrossEntropyLoss()(out, targ.long())"
      ],
      "metadata": {
        "id": "ERdJr75vgSDI"
      },
      "execution_count": 78,
      "outputs": []
    },
    {
      "cell_type": "markdown",
      "source": [
        "Then, we have a define a splitter that tells fastai how to split the model into parameter groups which helps the optimizer decide how to apply discriminative learning rates. We'll have two groups: the parameters of the encoder and the parameters of the head:"
      ],
      "metadata": {
        "id": "vz4Ee0epo3_s"
      }
    },
    {
      "cell_type": "code",
      "source": [
        "def siamese_splitter(model):\n",
        "    return [params(model.encoder), params(model.head)]"
      ],
      "metadata": {
        "id": "ldn6H5TGgXWR"
      },
      "execution_count": 79,
      "outputs": []
    },
    {
      "cell_type": "markdown",
      "source": [
        "Finally, we can create our `Learner`:"
      ],
      "metadata": {
        "id": "sFaUMFFyqfC8"
      }
    },
    {
      "cell_type": "code",
      "source": [
        "learn = Learner(dls, model, loss_func=loss_func,\n",
        "                splitter=siamese_splitter, metrics=accuracy)"
      ],
      "metadata": {
        "id": "VKNwzUezgbsP"
      },
      "execution_count": null,
      "outputs": []
    },
    {
      "cell_type": "markdown",
      "source": [
        "## Training the model"
      ],
      "metadata": {
        "id": "EPKWuW_9qhOT"
      }
    },
    {
      "cell_type": "markdown",
      "source": [
        "Before training our model, we'll have to freeze it since we want our model's head to be less random before we fine-tune the pretrained weights:"
      ],
      "metadata": {
        "id": "DZefvIzxqu0f"
      }
    },
    {
      "cell_type": "code",
      "source": [
        "learn.freeze()"
      ],
      "metadata": {
        "id": "oCmX-pyHgiF6"
      },
      "execution_count": null,
      "outputs": []
    },
    {
      "cell_type": "code",
      "source": [
        "lr = learn.lr_find().valley"
      ],
      "metadata": {
        "colab": {
          "base_uri": "https://localhost:8080/",
          "height": 286
        },
        "id": "ISoKi8cZgjFf",
        "outputId": "abafe917-3d8c-40eb-ffd9-435b32103d59"
      },
      "execution_count": null,
      "outputs": [
        {
          "output_type": "display_data",
          "data": {
            "text/plain": [
              "<IPython.core.display.HTML object>"
            ],
            "text/html": [
              "\n",
              "<style>\n",
              "    /* Turns off some styling */\n",
              "    progress {\n",
              "        /* gets rid of default border in Firefox and Opera. */\n",
              "        border: none;\n",
              "        /* Needs to be in here for Safari polyfill so background images work as expected. */\n",
              "        background-size: auto;\n",
              "    }\n",
              "    .progress-bar-interrupted, .progress-bar-interrupted::-webkit-progress-bar {\n",
              "        background: #F44336;\n",
              "    }\n",
              "</style>\n"
            ]
          },
          "metadata": {}
        },
        {
          "output_type": "display_data",
          "data": {
            "text/plain": [
              "<IPython.core.display.HTML object>"
            ],
            "text/html": [
              ""
            ]
          },
          "metadata": {}
        },
        {
          "output_type": "display_data",
          "data": {
            "text/plain": [
              "<Figure size 432x288 with 1 Axes>"
            ],
            "image/png": "[encoded data removed]"
          },
          "metadata": {
            "needs_background": "light"
          }
        }
      ]
    },
    {
      "cell_type": "code",
      "source": [
        "learn.fit_one_cycle(4, lr)"
      ],
      "metadata": {
        "colab": {
          "base_uri": "https://localhost:8080/",
          "height": 175
        },
        "id": "pOfMVNqngll6",
        "outputId": "4a76c91c-50d9-44ab-a9f5-29489b81dabf"
      },
      "execution_count": null,
      "outputs": [
        {
          "output_type": "display_data",
          "data": {
            "text/plain": [
              "<IPython.core.display.HTML object>"
            ],
            "text/html": [
              "\n",
              "<style>\n",
              "    /* Turns off some styling */\n",
              "    progress {\n",
              "        /* gets rid of default border in Firefox and Opera. */\n",
              "        border: none;\n",
              "        /* Needs to be in here for Safari polyfill so background images work as expected. */\n",
              "        background-size: auto;\n",
              "    }\n",
              "    .progress-bar-interrupted, .progress-bar-interrupted::-webkit-progress-bar {\n",
              "        background: #F44336;\n",
              "    }\n",
              "</style>\n"
            ]
          },
          "metadata": {}
        },
        {
          "output_type": "display_data",
          "data": {
            "text/plain": [
              "<IPython.core.display.HTML object>"
            ],
            "text/html": [
              "<table border=\"1\" class=\"dataframe\">\n",
              "  <thead>\n",
              "    <tr style=\"text-align: left;\">\n",
              "      <th>epoch</th>\n",
              "      <th>train_loss</th>\n",
              "      <th>valid_loss</th>\n",
              "      <th>accuracy</th>\n",
              "      <th>time</th>\n",
              "    </tr>\n",
              "  </thead>\n",
              "  <tbody>\n",
              "    <tr>\n",
              "      <td>0</td>\n",
              "      <td>0.542693</td>\n",
              "      <td>0.334704</td>\n",
              "      <td>0.853180</td>\n",
              "      <td>01:38</td>\n",
              "    </tr>\n",
              "    <tr>\n",
              "      <td>1</td>\n",
              "      <td>0.366947</td>\n",
              "      <td>0.227273</td>\n",
              "      <td>0.915426</td>\n",
              "      <td>01:37</td>\n",
              "    </tr>\n",
              "    <tr>\n",
              "      <td>2</td>\n",
              "      <td>0.278382</td>\n",
              "      <td>0.186367</td>\n",
              "      <td>0.928281</td>\n",
              "      <td>01:37</td>\n",
              "    </tr>\n",
              "    <tr>\n",
              "      <td>3</td>\n",
              "      <td>0.232669</td>\n",
              "      <td>0.166551</td>\n",
              "      <td>0.937754</td>\n",
              "      <td>01:36</td>\n",
              "    </tr>\n",
              "  </tbody>\n",
              "</table>"
            ]
          },
          "metadata": {}
        }
      ]
    },
    {
      "cell_type": "markdown",
      "source": [
        "Then, we unfreeze the entire model and train it:"
      ],
      "metadata": {
        "id": "Lv9C6Rvgq5qV"
      }
    },
    {
      "cell_type": "code",
      "source": [
        "learn.unfreeze()"
      ],
      "metadata": {
        "id": "ou2OLFhJgnQP"
      },
      "execution_count": null,
      "outputs": []
    },
    {
      "cell_type": "code",
      "source": [
        "lrs = learn.lr_find()"
      ],
      "metadata": {
        "colab": {
          "base_uri": "https://localhost:8080/",
          "height": 283
        },
        "id": "boO9JivIgoZ9",
        "outputId": "701228da-9451-46b9-b1f3-8b5292e0dfbf"
      },
      "execution_count": null,
      "outputs": [
        {
          "output_type": "display_data",
          "data": {
            "text/plain": [
              "<IPython.core.display.HTML object>"
            ],
            "text/html": [
              "\n",
              "<style>\n",
              "    /* Turns off some styling */\n",
              "    progress {\n",
              "        /* gets rid of default border in Firefox and Opera. */\n",
              "        border: none;\n",
              "        /* Needs to be in here for Safari polyfill so background images work as expected. */\n",
              "        background-size: auto;\n",
              "    }\n",
              "    .progress-bar-interrupted, .progress-bar-interrupted::-webkit-progress-bar {\n",
              "        background: #F44336;\n",
              "    }\n",
              "</style>\n"
            ]
          },
          "metadata": {}
        },
        {
          "output_type": "display_data",
          "data": {
            "text/plain": [
              "<IPython.core.display.HTML object>"
            ],
            "text/html": [
              ""
            ]
          },
          "metadata": {}
        },
        {
          "output_type": "display_data",
          "data": {
            "text/plain": [
              "<Figure size 432x288 with 1 Axes>"
            ],
            "image/png": "[encoded data removed]"
          },
          "metadata": {
            "needs_background": "light"
          }
        }
      ]
    },
    {
      "cell_type": "code",
      "source": [
        "learn.fit_one_cycle(4, slice(1e-6, 1e-4))"
      ],
      "metadata": {
        "colab": {
          "base_uri": "https://localhost:8080/",
          "height": 175
        },
        "id": "_qykMUZogsuD",
        "outputId": "518bb06e-0fa4-47ec-e9cc-7e6440c1ac2e"
      },
      "execution_count": null,
      "outputs": [
        {
          "output_type": "display_data",
          "data": {
            "text/plain": [
              "<IPython.core.display.HTML object>"
            ],
            "text/html": [
              "\n",
              "<style>\n",
              "    /* Turns off some styling */\n",
              "    progress {\n",
              "        /* gets rid of default border in Firefox and Opera. */\n",
              "        border: none;\n",
              "        /* Needs to be in here for Safari polyfill so background images work as expected. */\n",
              "        background-size: auto;\n",
              "    }\n",
              "    .progress-bar-interrupted, .progress-bar-interrupted::-webkit-progress-bar {\n",
              "        background: #F44336;\n",
              "    }\n",
              "</style>\n"
            ]
          },
          "metadata": {}
        },
        {
          "output_type": "display_data",
          "data": {
            "text/plain": [
              "<IPython.core.display.HTML object>"
            ],
            "text/html": [
              "<table border=\"1\" class=\"dataframe\">\n",
              "  <thead>\n",
              "    <tr style=\"text-align: left;\">\n",
              "      <th>epoch</th>\n",
              "      <th>train_loss</th>\n",
              "      <th>valid_loss</th>\n",
              "      <th>accuracy</th>\n",
              "      <th>time</th>\n",
              "    </tr>\n",
              "  </thead>\n",
              "  <tbody>\n",
              "    <tr>\n",
              "      <td>0</td>\n",
              "      <td>0.212538</td>\n",
              "      <td>0.165287</td>\n",
              "      <td>0.937077</td>\n",
              "      <td>01:42</td>\n",
              "    </tr>\n",
              "    <tr>\n",
              "      <td>1</td>\n",
              "      <td>0.231906</td>\n",
              "      <td>0.158641</td>\n",
              "      <td>0.943843</td>\n",
              "      <td>01:42</td>\n",
              "    </tr>\n",
              "    <tr>\n",
              "      <td>2</td>\n",
              "      <td>0.210199</td>\n",
              "      <td>0.155071</td>\n",
              "      <td>0.940460</td>\n",
              "      <td>01:41</td>\n",
              "    </tr>\n",
              "    <tr>\n",
              "      <td>3</td>\n",
              "      <td>0.215205</td>\n",
              "      <td>0.154223</td>\n",
              "      <td>0.943166</td>\n",
              "      <td>01:40</td>\n",
              "    </tr>\n",
              "  </tbody>\n",
              "</table>"
            ]
          },
          "metadata": {}
        }
      ]
    },
    {
      "cell_type": "markdown",
      "source": [
        "## Conclusion"
      ],
      "metadata": {
        "id": "LPKt4mLVrJl-"
      }
    },
    {
      "cell_type": "markdown",
      "source": [
        "Compared to our [last siamese pair](https://geon-youn.github.io/DunGeon/vision/2022/02/21/Pet-Breeds.html), we've simplified the model so that we can directly pass two images and get returned a boolean value representing if they're of the same breed instead of passing two images separately and comparing the output labels. Most importantly, we were able to train a model using fastai's mid-level API and fine-tune resnet34 without the use of `cnn_learner`. "
      ],
      "metadata": {
        "id": "e3OGtIGFrKxu"
      }
    }
  ]
}