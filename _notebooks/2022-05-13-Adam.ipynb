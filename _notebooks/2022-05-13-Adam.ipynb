{
  "nbformat": 4,
  "nbformat_minor": 0,
  "metadata": {
    "colab": {
      "name": "2022-05-13-Adam.ipynb",
      "provenance": [],
      "collapsed_sections": []
    },
    "kernelspec": {
      "name": "python3",
      "display_name": "Python 3"
    },
    "language_info": {
      "name": "python"
    },
    "accelerator": "GPU"
  },
  "cells": [
    {
      "cell_type": "markdown",
      "source": [
        "# \"Gradient descent with Adam\"\n",
        "> \"SGD, but with adaptive moms.\"\n",
        "\n",
        "- comments: true\n",
        "- categories: [fastai]"
      ],
      "metadata": {
        "id": "Zm_gCBcah3iW"
      }
    },
    {
      "cell_type": "code",
      "execution_count": 1,
      "metadata": {
        "id": "tb1boMv-h1Ws"
      },
      "outputs": [],
      "source": [
        "#hide\n",
        "!pip install -Uqq fastai>=2.0.0 graphviz ipywidgets matplotlib nbdev>=0.2.12 pandas scikit_learn azure-cognitiveservices-search-imagesearch sentencepiece"
      ]
    },
    {
      "cell_type": "code",
      "source": [
        "#hide\n",
        "from google.colab import drive\n",
        "drive.mount('/content/gdrive/', force_remount=True)"
      ],
      "metadata": {
        "id": "ceywy0MmRisC",
        "colab": {
          "base_uri": "https://localhost:8080/"
        },
        "outputId": "e2b28901-1a86-423d-a19c-7684c4acb473"
      },
      "execution_count": 2,
      "outputs": [
        {
          "output_type": "stream",
          "name": "stdout",
          "text": [
            "Mounted at /content/gdrive/\n"
          ]
        }
      ]
    },
    {
      "cell_type": "code",
      "source": [
        "#hide\n",
        "from fastai.vision.all import *"
      ],
      "metadata": {
        "id": "s12s3k0266n4"
      },
      "execution_count": 4,
      "outputs": []
    },
    {
      "cell_type": "markdown",
      "source": [
        "## Introduction"
      ],
      "metadata": {
        "id": "fqotVCc55rge"
      }
    },
    {
      "cell_type": "markdown",
      "source": [
        "An optimizer is a function used in the \"step\" phase of training where we update the weights based on the gradient of the loss at that point calculated during backpropagation. By default, fastai uses the Adam optimizer.\n",
        "\n",
        "To compare Adam with previous optimizers, let's train a model using Adam with the Imagenette data set:"
      ],
      "metadata": {
        "id": "SVCsY1_85spB"
      }
    },
    {
      "cell_type": "code",
      "source": [
        "def get_dls(url, presize, resize):\n",
        "    path = untar_data(url)\n",
        "    Path.BASE_PATH = path\n",
        "    return DataBlock(\n",
        "        blocks=(ImageBlock, CategoryBlock), get_items=get_image_files,\n",
        "        splitter=GrandparentSplitter(valid_name='val'),\n",
        "        get_y=parent_label, item_tfms=Resize(presize),\n",
        "        batch_tfms=[*aug_transforms(min_scale=0.5, size=resize),\n",
        "                    Normalize.from_stats(*imagenet_stats)]\n",
        "    ).dataloaders(path, bs=128)"
      ],
      "metadata": {
        "id": "xF9cWjWx6Pqy"
      },
      "execution_count": 5,
      "outputs": []
    },
    {
      "cell_type": "code",
      "source": [
        "#hide_output\n",
        "dls = get_dls(URLs.IMAGENETTE_160, 160, 128)"
      ],
      "metadata": {
        "colab": {
          "base_uri": "https://localhost:8080/",
          "height": 37
        },
        "id": "vPhxVEYq605e",
        "outputId": "1a5c6fe4-3a57-4657-da54-f5fda4ec671f"
      },
      "execution_count": 6,
      "outputs": [
        {
          "output_type": "display_data",
          "data": {
            "text/plain": [
              "<IPython.core.display.HTML object>"
            ],
            "text/html": [
              "\n",
              "<style>\n",
              "    /* Turns off some styling */\n",
              "    progress {\n",
              "        /* gets rid of default border in Firefox and Opera. */\n",
              "        border: none;\n",
              "        /* Needs to be in here for Safari polyfill so background images work as expected. */\n",
              "        background-size: auto;\n",
              "    }\n",
              "    .progress-bar-interrupted, .progress-bar-interrupted::-webkit-progress-bar {\n",
              "        background: #F44336;\n",
              "    }\n",
              "</style>\n"
            ]
          },
          "metadata": {}
        },
        {
          "output_type": "display_data",
          "data": {
            "text/plain": [
              "<IPython.core.display.HTML object>"
            ],
            "text/html": [
              "\n",
              "    <div>\n",
              "      <progress value='99008512' class='' max='99003388' style='width:300px; height:20px; vertical-align: middle;'></progress>\n",
              "      100.01% [99008512/99003388 00:07<00:00]\n",
              "    </div>\n",
              "    "
            ]
          },
          "metadata": {}
        }
      ]
    },
    {
      "cell_type": "code",
      "source": [
        "def get_learner(**kwargs):\n",
        "    return vision_learner(dls, resnet34, pretrained=False,\n",
        "                       metrics=accuracy, **kwargs).to_fp16()"
      ],
      "metadata": {
        "id": "N2RboCbP7Wku"
      },
      "execution_count": 9,
      "outputs": []
    },
    {
      "cell_type": "code",
      "source": [
        "learn = get_learner()\n",
        "learn.fit_one_cycle(3, 3e-3)"
      ],
      "metadata": {
        "colab": {
          "base_uri": "https://localhost:8080/",
          "height": 143
        },
        "id": "w_0pgUt37fBS",
        "outputId": "e7f2e6fe-253a-407d-87ed-cb7d4c699b65"
      },
      "execution_count": 10,
      "outputs": [
        {
          "output_type": "display_data",
          "data": {
            "text/plain": [
              "<IPython.core.display.HTML object>"
            ],
            "text/html": [
              "\n",
              "<style>\n",
              "    /* Turns off some styling */\n",
              "    progress {\n",
              "        /* gets rid of default border in Firefox and Opera. */\n",
              "        border: none;\n",
              "        /* Needs to be in here for Safari polyfill so background images work as expected. */\n",
              "        background-size: auto;\n",
              "    }\n",
              "    .progress-bar-interrupted, .progress-bar-interrupted::-webkit-progress-bar {\n",
              "        background: #F44336;\n",
              "    }\n",
              "</style>\n"
            ]
          },
          "metadata": {}
        },
        {
          "output_type": "display_data",
          "data": {
            "text/plain": [
              "<IPython.core.display.HTML object>"
            ],
            "text/html": [
              "<table border=\"1\" class=\"dataframe\">\n",
              "  <thead>\n",
              "    <tr style=\"text-align: left;\">\n",
              "      <th>epoch</th>\n",
              "      <th>train_loss</th>\n",
              "      <th>valid_loss</th>\n",
              "      <th>accuracy</th>\n",
              "      <th>time</th>\n",
              "    </tr>\n",
              "  </thead>\n",
              "  <tbody>\n",
              "    <tr>\n",
              "      <td>0</td>\n",
              "      <td>2.515065</td>\n",
              "      <td>1.997084</td>\n",
              "      <td>0.380892</td>\n",
              "      <td>00:48</td>\n",
              "    </tr>\n",
              "    <tr>\n",
              "      <td>1</td>\n",
              "      <td>1.837666</td>\n",
              "      <td>1.562741</td>\n",
              "      <td>0.468790</td>\n",
              "      <td>01:01</td>\n",
              "    </tr>\n",
              "    <tr>\n",
              "      <td>2</td>\n",
              "      <td>1.487112</td>\n",
              "      <td>1.273339</td>\n",
              "      <td>0.580637</td>\n",
              "      <td>00:51</td>\n",
              "    </tr>\n",
              "  </tbody>\n",
              "</table>"
            ]
          },
          "metadata": {}
        }
      ]
    },
    {
      "cell_type": "markdown",
      "source": [
        "## It all started with SGD"
      ],
      "metadata": {
        "id": "yQElN3aEZEF9"
      }
    },
    {
      "cell_type": "markdown",
      "source": [
        "At the beginning of my fastai journey, I first learned stochastic gradient descent, which I used to train a model on the MNIST data set. SGD looks like\n",
        "\n",
        "```\n",
        "new_weight = weight - lr * weight.grad\n",
        "```\n",
        "\n",
        "Let's train a model using SGD as its optimizer:"
      ],
      "metadata": {
        "id": "rnr7Ehic9Q6j"
      }
    },
    {
      "cell_type": "code",
      "source": [
        "learn = get_learner(opt_func=SGD)"
      ],
      "metadata": {
        "id": "zTlLM6So70hH"
      },
      "execution_count": 15,
      "outputs": []
    },
    {
      "cell_type": "code",
      "source": [
        "lr = learn.lr_find().valley"
      ],
      "metadata": {
        "colab": {
          "base_uri": "https://localhost:8080/",
          "height": 283
        },
        "id": "9Vyp3CGs76BJ",
        "outputId": "ac52a98a-7150-4ce4-867e-345176c1b72b"
      },
      "execution_count": 12,
      "outputs": [
        {
          "output_type": "display_data",
          "data": {
            "text/plain": [
              "<IPython.core.display.HTML object>"
            ],
            "text/html": [
              "\n",
              "<style>\n",
              "    /* Turns off some styling */\n",
              "    progress {\n",
              "        /* gets rid of default border in Firefox and Opera. */\n",
              "        border: none;\n",
              "        /* Needs to be in here for Safari polyfill so background images work as expected. */\n",
              "        background-size: auto;\n",
              "    }\n",
              "    .progress-bar-interrupted, .progress-bar-interrupted::-webkit-progress-bar {\n",
              "        background: #F44336;\n",
              "    }\n",
              "</style>\n"
            ]
          },
          "metadata": {}
        },
        {
          "output_type": "display_data",
          "data": {
            "text/plain": [
              "<IPython.core.display.HTML object>"
            ],
            "text/html": [
              ""
            ]
          },
          "metadata": {}
        },
        {
          "output_type": "display_data",
          "data": {
            "text/plain": [
              "<Figure size 432x288 with 1 Axes>"
            ],
            "image/png": "[encoded data removed]"
          },
          "metadata": {
            "needs_background": "light"
          }
        }
      ]
    },
    {
      "cell_type": "code",
      "source": [
        "learn.fit_one_cycle(3, lr, moms=(0, 0, 0))"
      ],
      "metadata": {
        "colab": {
          "base_uri": "https://localhost:8080/",
          "height": 143
        },
        "id": "oS6_RDJL77-0",
        "outputId": "663ae422-cba4-4ece-fc5c-d934b4c5f27f"
      },
      "execution_count": 16,
      "outputs": [
        {
          "output_type": "display_data",
          "data": {
            "text/plain": [
              "<IPython.core.display.HTML object>"
            ],
            "text/html": [
              "\n",
              "<style>\n",
              "    /* Turns off some styling */\n",
              "    progress {\n",
              "        /* gets rid of default border in Firefox and Opera. */\n",
              "        border: none;\n",
              "        /* Needs to be in here for Safari polyfill so background images work as expected. */\n",
              "        background-size: auto;\n",
              "    }\n",
              "    .progress-bar-interrupted, .progress-bar-interrupted::-webkit-progress-bar {\n",
              "        background: #F44336;\n",
              "    }\n",
              "</style>\n"
            ]
          },
          "metadata": {}
        },
        {
          "output_type": "display_data",
          "data": {
            "text/plain": [
              "<IPython.core.display.HTML object>"
            ],
            "text/html": [
              "<table border=\"1\" class=\"dataframe\">\n",
              "  <thead>\n",
              "    <tr style=\"text-align: left;\">\n",
              "      <th>epoch</th>\n",
              "      <th>train_loss</th>\n",
              "      <th>valid_loss</th>\n",
              "      <th>accuracy</th>\n",
              "      <th>time</th>\n",
              "    </tr>\n",
              "  </thead>\n",
              "  <tbody>\n",
              "    <tr>\n",
              "      <td>0</td>\n",
              "      <td>3.060603</td>\n",
              "      <td>3.215654</td>\n",
              "      <td>0.239490</td>\n",
              "      <td>00:46</td>\n",
              "    </tr>\n",
              "    <tr>\n",
              "      <td>1</td>\n",
              "      <td>2.578725</td>\n",
              "      <td>1.890918</td>\n",
              "      <td>0.344968</td>\n",
              "      <td>00:46</td>\n",
              "    </tr>\n",
              "    <tr>\n",
              "      <td>2</td>\n",
              "      <td>2.359712</td>\n",
              "      <td>1.807126</td>\n",
              "      <td>0.377580</td>\n",
              "      <td>00:47</td>\n",
              "    </tr>\n",
              "  </tbody>\n",
              "</table>"
            ]
          },
          "metadata": {}
        }
      ]
    },
    {
      "cell_type": "markdown",
      "source": [
        "## How to create different optimizers"
      ],
      "metadata": {
        "id": "8GTLgWFJ9y39"
      }
    },
    {
      "cell_type": "markdown",
      "source": [
        "Unlike previous deep learning libraries, fastai was innovative in that it allowed for callbacks in basically any part of the training process, allowing users to tweak the training process without having to change the actual library code. \n",
        "\n",
        "---\n",
        "\n",
        "A callback is a piece of code that you write and inject somewhere in another piece of code. \n",
        "\n",
        "---\n",
        "\n",
        "We can create different optimizers through *optimizer callbacks*, which allow us to change how the optimizer takes a step during the optimization step of the deep learning training cycle. \n",
        "\n",
        "`Optimizer` is a class provided by fastai that has two major functions, `zero_grad` and `step`:\n",
        "\n",
        "```python\n",
        "def zero_grad(self):\n",
        "    for p,*_ in self.all_params(with_grad=True):\n",
        "        p.grad.detach_()\n",
        "        p.grad.zero_()\n",
        "\n",
        "def step(self, closure=None):\n",
        "    if closure is not None: raise NotImplementedError(\"fastai optimizers currently do not support closure\")\n",
        "    for p,pg,state,hyper in self.all_params(with_grad=True):\n",
        "        for cb in self.cbs: state = _update(state, cb(p, **{**state, **hyper}))\n",
        "        self.state[p] = state\n",
        "```\n",
        "\n",
        "When we update the gradients, we take a step using `step` and then zero the gradients using `zero_grad`, which are both automatically done by fastai's `Learner`. \n",
        "\n",
        "We can initialize `Optimizer` with a list of callbacks `cbs` that can update `state`. `state` is a dictionary that allows us to store variables as if we could update the code. \n",
        "\n",
        "Optimizer callbacks should ultimately update the parameters, shortened to `p` in the code. Then, using `state`, we can store intermediate values between different callbacks. \n",
        "\n",
        "So, we can create our own SGD like so and be able to get a similar result as before:"
      ],
      "metadata": {
        "id": "Ja2hBmEF9177"
      }
    },
    {
      "cell_type": "code",
      "source": [
        "def sgd_cb(p, lr, **kwargs): \n",
        "    p.data.add_(p.grad.data, alpha=-lr)"
      ],
      "metadata": {
        "id": "_NdUJ4Dw8JGG"
      },
      "execution_count": 60,
      "outputs": []
    },
    {
      "cell_type": "code",
      "source": [
        "opt_func = partial(Optimizer, cbs=[sgd_cb])"
      ],
      "metadata": {
        "id": "O4kRUXg18RDC"
      },
      "execution_count": 61,
      "outputs": []
    },
    {
      "cell_type": "code",
      "source": [
        "learn = get_learner(opt_func=opt_func)\n",
        "learn.fit_one_cycle(3, 1.5e-2, moms=(0, 0, 0))"
      ],
      "metadata": {
        "colab": {
          "base_uri": "https://localhost:8080/",
          "height": 143
        },
        "id": "tCzMbl_88cGr",
        "outputId": "9ea03c69-e81d-4754-9738-575d0b578270"
      },
      "execution_count": 62,
      "outputs": [
        {
          "output_type": "display_data",
          "data": {
            "text/plain": [
              "<IPython.core.display.HTML object>"
            ],
            "text/html": [
              "\n",
              "<style>\n",
              "    /* Turns off some styling */\n",
              "    progress {\n",
              "        /* gets rid of default border in Firefox and Opera. */\n",
              "        border: none;\n",
              "        /* Needs to be in here for Safari polyfill so background images work as expected. */\n",
              "        background-size: auto;\n",
              "    }\n",
              "    .progress-bar-interrupted, .progress-bar-interrupted::-webkit-progress-bar {\n",
              "        background: #F44336;\n",
              "    }\n",
              "</style>\n"
            ]
          },
          "metadata": {}
        },
        {
          "output_type": "display_data",
          "data": {
            "text/plain": [
              "<IPython.core.display.HTML object>"
            ],
            "text/html": [
              "<table border=\"1\" class=\"dataframe\">\n",
              "  <thead>\n",
              "    <tr style=\"text-align: left;\">\n",
              "      <th>epoch</th>\n",
              "      <th>train_loss</th>\n",
              "      <th>valid_loss</th>\n",
              "      <th>accuracy</th>\n",
              "      <th>time</th>\n",
              "    </tr>\n",
              "  </thead>\n",
              "  <tbody>\n",
              "    <tr>\n",
              "      <td>0</td>\n",
              "      <td>3.076169</td>\n",
              "      <td>3.106647</td>\n",
              "      <td>0.225987</td>\n",
              "      <td>00:45</td>\n",
              "    </tr>\n",
              "    <tr>\n",
              "      <td>1</td>\n",
              "      <td>2.625497</td>\n",
              "      <td>1.887920</td>\n",
              "      <td>0.358981</td>\n",
              "      <td>00:47</td>\n",
              "    </tr>\n",
              "    <tr>\n",
              "      <td>2</td>\n",
              "      <td>2.376982</td>\n",
              "      <td>1.792544</td>\n",
              "      <td>0.380382</td>\n",
              "      <td>00:46</td>\n",
              "    </tr>\n",
              "  </tbody>\n",
              "</table>"
            ]
          },
          "metadata": {}
        }
      ]
    },
    {
      "cell_type": "markdown",
      "source": [
        "## Adding momentum (SGD with momentum)"
      ],
      "metadata": {
        "id": "h8tH7WDPHHeN"
      }
    },
    {
      "cell_type": "markdown",
      "source": [
        "If our loss function is really noisy, the gradients may be constantly changing directions, which is bad. Instead, what if we \"soften\" the loss by forcing the gradients to change direction more slowly?\n",
        "\n",
        "Momentum, according to the Cambridge dictionary, is a \"force that keep an object moving\". In terms of gradient descent, it's like continuing to descend in the previous direction for a while, rather than instantaneously changing direction. So, if we previously had:\n",
        "\n",
        "```python\n",
        "new_weight = weight - lr * weight.grad\n",
        "```\n",
        "\n",
        "Then we can add momentum by incorporating the previous gradients:\n",
        "\n",
        "```python\n",
        "weight.avg = beta * weight.avg + (1 - beta) * weight.grad\n",
        "new_weight = weight - lr * weight.avg\n",
        "```\n",
        "\n",
        "Where `beta` is a parameter from 0 to 1 that controls how much momentum we want: as `beta` increases, we care less about the current gradient. "
      ],
      "metadata": {
        "id": "nLeKRnrqHJck"
      }
    },
    {
      "cell_type": "code",
      "source": [
        "def average_grad(p, mom, grad_avg=None, **kwargs):\n",
        "    # mom is short for momentum\n",
        "    if grad_avg is None:\n",
        "        grad_avg = torch.zeros_like(p.grad.data)\n",
        "    return {'grad_avg': mom * grad_avg + (1 - mom) * p.grad.data}"
      ],
      "metadata": {
        "id": "erYGxpu9IhsS"
      },
      "execution_count": 66,
      "outputs": []
    },
    {
      "cell_type": "code",
      "source": [
        "def momentum_step(p, lr, grad_avg, **kwargs):\n",
        "    p.data.add_(grad_avg, alpha=-lr)"
      ],
      "metadata": {
        "id": "Z8rhuNfgI-5I"
      },
      "execution_count": 67,
      "outputs": []
    },
    {
      "cell_type": "code",
      "source": [
        "opt_func = partial(Optimizer, cbs=[average_grad, momentum_step], mom=0.9)"
      ],
      "metadata": {
        "id": "29yAXOm9JUFa"
      },
      "execution_count": 68,
      "outputs": []
    },
    {
      "cell_type": "code",
      "source": [
        "learn = get_learner(opt_func=opt_func)\n",
        "learn.fit_one_cycle(3, 3e-2)"
      ],
      "metadata": {
        "colab": {
          "base_uri": "https://localhost:8080/",
          "height": 143
        },
        "id": "V7liLTntJa9X",
        "outputId": "0cd6d522-e72e-4370-870b-6629a45bd6a2"
      },
      "execution_count": 70,
      "outputs": [
        {
          "output_type": "display_data",
          "data": {
            "text/plain": [
              "<IPython.core.display.HTML object>"
            ],
            "text/html": [
              "\n",
              "<style>\n",
              "    /* Turns off some styling */\n",
              "    progress {\n",
              "        /* gets rid of default border in Firefox and Opera. */\n",
              "        border: none;\n",
              "        /* Needs to be in here for Safari polyfill so background images work as expected. */\n",
              "        background-size: auto;\n",
              "    }\n",
              "    .progress-bar-interrupted, .progress-bar-interrupted::-webkit-progress-bar {\n",
              "        background: #F44336;\n",
              "    }\n",
              "</style>\n"
            ]
          },
          "metadata": {}
        },
        {
          "output_type": "display_data",
          "data": {
            "text/plain": [
              "<IPython.core.display.HTML object>"
            ],
            "text/html": [
              "<table border=\"1\" class=\"dataframe\">\n",
              "  <thead>\n",
              "    <tr style=\"text-align: left;\">\n",
              "      <th>epoch</th>\n",
              "      <th>train_loss</th>\n",
              "      <th>valid_loss</th>\n",
              "      <th>accuracy</th>\n",
              "      <th>time</th>\n",
              "    </tr>\n",
              "  </thead>\n",
              "  <tbody>\n",
              "    <tr>\n",
              "      <td>0</td>\n",
              "      <td>2.971689</td>\n",
              "      <td>2.494611</td>\n",
              "      <td>0.292229</td>\n",
              "      <td>00:47</td>\n",
              "    </tr>\n",
              "    <tr>\n",
              "      <td>1</td>\n",
              "      <td>2.443049</td>\n",
              "      <td>1.767426</td>\n",
              "      <td>0.400255</td>\n",
              "      <td>00:47</td>\n",
              "    </tr>\n",
              "    <tr>\n",
              "      <td>2</td>\n",
              "      <td>2.192378</td>\n",
              "      <td>1.744862</td>\n",
              "      <td>0.414268</td>\n",
              "      <td>00:46</td>\n",
              "    </tr>\n",
              "  </tbody>\n",
              "</table>"
            ]
          },
          "metadata": {}
        }
      ]
    },
    {
      "cell_type": "markdown",
      "source": [
        "## Adding adaptive learning rates (RMSProp)"
      ],
      "metadata": {
        "id": "OCpTasZdLOG0"
      }
    },
    {
      "cell_type": "markdown",
      "source": [
        "Not all parameters are going to be equal, so they also won't have the same gradients; some will be small, some will be large. So, why should we give them all the same learning rate? Here comes adaptive learning rates: we can speed up training by having a global learning rate, but use more of it the smaller the gradients are. \n",
        "\n",
        "We can have adaptive learning rates by dividing the current gradient by the average of the previous gradients. But, we can't just take the average of the gradients since the sum of similar positive and negative numbers will be 0 (hence, leading to a divide by zero). Instead, we take the square, then sum, then square root. \n",
        "\n",
        "```python\n",
        "weight.square_avg = alpha * weight.square_avg + (1 - alpha) * (weight.grad ** 2)\n",
        "new_weight        = weight - lr * weight.grad / math.sqrt(weight.square_avg + eps)\n",
        "```\n",
        "\n",
        "Now, we have two parameters: `alpha` and `eps`. `alpha` is like `beta` and `eps` (usually a small number like `1e-8`) is added for [numerical stability](https://mathworld.wolfram.com/NumericalStability.html). "
      ],
      "metadata": {
        "id": "8SVAvUSNLb0I"
      }
    },
    {
      "cell_type": "code",
      "source": [
        "def average_square_grad(p, square_mom, square_avg=None, **kwargs):\n",
        "    if square_avg is None: \n",
        "        square_avg = torch.zeros_like(p.grad.data)\n",
        "    return {'square_avg': square_mom * square_avg + (1 - square_mom) * p.grad.data ** 2}"
      ],
      "metadata": {
        "id": "Ky49WyRDNpfk"
      },
      "execution_count": 77,
      "outputs": []
    },
    {
      "cell_type": "markdown",
      "source": [
        "This method is called RMSProp since we're doing root-mean-squared propagation, hence `rms_prop_step`:"
      ],
      "metadata": {
        "id": "Jd72ZlRoN76Y"
      }
    },
    {
      "cell_type": "code",
      "source": [
        "def rms_prop_step(p, lr, square_avg, eps, grad_avg=None, **kwargs):\n",
        "    denom = square_avg.sqrt().add_(eps)\n",
        "    p.data.addcdiv_(p.grad, denom, value=-lr)"
      ],
      "metadata": {
        "id": "KKcXk00wN6D0"
      },
      "execution_count": 79,
      "outputs": []
    },
    {
      "cell_type": "code",
      "source": [
        "opt_func = partial(Optimizer, cbs=[average_square_grad, rms_prop_step],\n",
        "                   square_mom=0.99, eps=1e-8)"
      ],
      "metadata": {
        "id": "R48PUoK0OfJp"
      },
      "execution_count": 80,
      "outputs": []
    },
    {
      "cell_type": "code",
      "source": [
        "learn = get_learner(opt_func=opt_func)"
      ],
      "metadata": {
        "id": "dUnhyMXYOltW"
      },
      "execution_count": 81,
      "outputs": []
    },
    {
      "cell_type": "code",
      "source": [
        "learn.fit_one_cycle(3, 3e-3)"
      ],
      "metadata": {
        "colab": {
          "base_uri": "https://localhost:8080/",
          "height": 143
        },
        "id": "2SUDYz15PLNc",
        "outputId": "3c3d299e-b619-4801-f128-77330204e074"
      },
      "execution_count": 83,
      "outputs": [
        {
          "output_type": "display_data",
          "data": {
            "text/plain": [
              "<IPython.core.display.HTML object>"
            ],
            "text/html": [
              "\n",
              "<style>\n",
              "    /* Turns off some styling */\n",
              "    progress {\n",
              "        /* gets rid of default border in Firefox and Opera. */\n",
              "        border: none;\n",
              "        /* Needs to be in here for Safari polyfill so background images work as expected. */\n",
              "        background-size: auto;\n",
              "    }\n",
              "    .progress-bar-interrupted, .progress-bar-interrupted::-webkit-progress-bar {\n",
              "        background: #F44336;\n",
              "    }\n",
              "</style>\n"
            ]
          },
          "metadata": {}
        },
        {
          "output_type": "display_data",
          "data": {
            "text/plain": [
              "<IPython.core.display.HTML object>"
            ],
            "text/html": [
              "<table border=\"1\" class=\"dataframe\">\n",
              "  <thead>\n",
              "    <tr style=\"text-align: left;\">\n",
              "      <th>epoch</th>\n",
              "      <th>train_loss</th>\n",
              "      <th>valid_loss</th>\n",
              "      <th>accuracy</th>\n",
              "      <th>time</th>\n",
              "    </tr>\n",
              "  </thead>\n",
              "  <tbody>\n",
              "    <tr>\n",
              "      <td>0</td>\n",
              "      <td>2.801922</td>\n",
              "      <td>2.450024</td>\n",
              "      <td>0.147516</td>\n",
              "      <td>00:47</td>\n",
              "    </tr>\n",
              "    <tr>\n",
              "      <td>1</td>\n",
              "      <td>2.389270</td>\n",
              "      <td>2.579986</td>\n",
              "      <td>0.290955</td>\n",
              "      <td>00:48</td>\n",
              "    </tr>\n",
              "    <tr>\n",
              "      <td>2</td>\n",
              "      <td>1.955754</td>\n",
              "      <td>1.685765</td>\n",
              "      <td>0.450955</td>\n",
              "      <td>00:47</td>\n",
              "    </tr>\n",
              "  </tbody>\n",
              "</table>"
            ]
          },
          "metadata": {}
        }
      ]
    },
    {
      "cell_type": "markdown",
      "source": [
        "## **Ada**ptive learning rates and **m**omentum - Adam"
      ],
      "metadata": {
        "id": "tjuToiqHQVuc"
      }
    },
    {
      "cell_type": "markdown",
      "source": [
        "You know, it would be nice if we could have both momentum for the gradients while also having adaptive learning rates. If only... oh, there's Adam. Hypothetically, Adam will stand for adaptive learning rates and momentum, where you take the moving average of the gradients for direction (we were just using the current gradient in RMSProp) and the moving average of the gradients squared for adaptive learning rates. \n",
        "\n",
        "However, instead of taking the moving average of the gradients, we take the *unbiased* moving average, which is:\n",
        "\n",
        "```python\n",
        "weight_avg   = beta * weight_avg + (1 - beta) * weight.grad\n",
        "unbiased_avg = weight.avg / (1 - beta ** (i + 1))\n",
        "```\n",
        "\n",
        "Where we divide the moving average by `1 - beta ** (i + 1)` which becomes closer to 1 as `i`, the `i`-th iteration of `n` batches in an epoch, reaches `n`. The unbiased moving average will look more like the gradients at the beginning (`weight_avg` is initialized as `0`s so we don't want mostly `0` gradients at the beginning) and become closer to the normal moving average over time. \n",
        "\n",
        "Overall, Adam looks like:\n",
        "\n",
        "```python\n",
        "weight_avg   = beta * weight_avg + (1 - beta) * weight.grad\n",
        "unbiased_avg = weight.avg / (1 - beta ** (i + 1))\n",
        "weight.square_avg = alpha * weight.square_avg + (1 - alpha) * (weight.grad ** 2)\n",
        "new_weight        = weight - lr * unbiased_avg / math.sqrt(weight.square_avg + eps)\n",
        "```\n",
        "\n",
        "The default for `(beta, alpha)` is `(0.9, 0.99)` and `eps` is `1e-8`. \n",
        "\n",
        "In the end, we get the combined benefits of momentum and adaptive learning rates to get:"
      ],
      "metadata": {
        "id": "n9KWTeQjRO0V"
      }
    },
    {
      "cell_type": "code",
      "source": [
        "learn = get_learner()\n",
        "learn.fit_one_cycle(3, 3e-3)"
      ],
      "metadata": {
        "colab": {
          "base_uri": "https://localhost:8080/",
          "height": 143
        },
        "outputId": "e7f2e6fe-253a-407d-87ed-cb7d4c699b65",
        "id": "DWKk-5YodU6W"
      },
      "execution_count": null,
      "outputs": [
        {
          "output_type": "display_data",
          "data": {
            "text/plain": [
              "<IPython.core.display.HTML object>"
            ],
            "text/html": [
              "\n",
              "<style>\n",
              "    /* Turns off some styling */\n",
              "    progress {\n",
              "        /* gets rid of default border in Firefox and Opera. */\n",
              "        border: none;\n",
              "        /* Needs to be in here for Safari polyfill so background images work as expected. */\n",
              "        background-size: auto;\n",
              "    }\n",
              "    .progress-bar-interrupted, .progress-bar-interrupted::-webkit-progress-bar {\n",
              "        background: #F44336;\n",
              "    }\n",
              "</style>\n"
            ]
          },
          "metadata": {}
        },
        {
          "output_type": "display_data",
          "data": {
            "text/plain": [
              "<IPython.core.display.HTML object>"
            ],
            "text/html": [
              "<table border=\"1\" class=\"dataframe\">\n",
              "  <thead>\n",
              "    <tr style=\"text-align: left;\">\n",
              "      <th>epoch</th>\n",
              "      <th>train_loss</th>\n",
              "      <th>valid_loss</th>\n",
              "      <th>accuracy</th>\n",
              "      <th>time</th>\n",
              "    </tr>\n",
              "  </thead>\n",
              "  <tbody>\n",
              "    <tr>\n",
              "      <td>0</td>\n",
              "      <td>2.515065</td>\n",
              "      <td>1.997084</td>\n",
              "      <td>0.380892</td>\n",
              "      <td>00:48</td>\n",
              "    </tr>\n",
              "    <tr>\n",
              "      <td>1</td>\n",
              "      <td>1.837666</td>\n",
              "      <td>1.562741</td>\n",
              "      <td>0.468790</td>\n",
              "      <td>01:01</td>\n",
              "    </tr>\n",
              "    <tr>\n",
              "      <td>2</td>\n",
              "      <td>1.487112</td>\n",
              "      <td>1.273339</td>\n",
              "      <td>0.580637</td>\n",
              "      <td>00:51</td>\n",
              "    </tr>\n",
              "  </tbody>\n",
              "</table>"
            ]
          },
          "metadata": {}
        }
      ]
    },
    {
      "cell_type": "markdown",
      "source": [
        "## The more correct weight decay school of thought"
      ],
      "metadata": {
        "id": "CpTKi7ujU0XD"
      }
    },
    {
      "cell_type": "markdown",
      "source": [
        "Weight decay can be thought in two ways. I mostly thought of it as adding the square of the weights to the loss, where it can instead be added to the gradient like: \n",
        "\n",
        "```python\n",
        "weight.grad += wd * weight\n",
        "```\n",
        "\n",
        "The other way is to decay the weights by `lr * wd` and add it to the new weights like\n",
        "\n",
        "```python\n",
        "new_weight = weight - lr * weight.grad - lr * wd * weight\n",
        "```\n",
        "\n",
        "The two are equivalent through the lens of vanilla SGD. However, when we introduce momentum, we can no longer think of it as adding `wd * weight` to `weight.grad` since we'd end up having something like:\n",
        "\n",
        "```python\n",
        "weight_avg = beta * weight_avg + (1 - beta) * (weight.grad + wd * weight)\n",
        "```\n",
        "\n",
        "Instead, we use the second method. With Adam, it would look like:\n",
        "\n",
        "```python\n",
        "new_weight = weight - lr * unbiased_avg / math.sqrt(weight.square_avg + eps) - lr * wd * weight\n",
        "```"
      ],
      "metadata": {
        "id": "XQnch2vRU312"
      }
    },
    {
      "cell_type": "markdown",
      "source": [
        "## Conclusion"
      ],
      "metadata": {
        "id": "u8pwH9VmXs6W"
      }
    },
    {
      "cell_type": "markdown",
      "source": [
        "Althought fastai uses Adam as its default optimizer, which you can verify with the summary we had in [this blog](https://geon-youn.github.io/DunGeon/vision/2022/04/30/Convolutional-Neural-Networks.html), there are also a variety of other ones that fastai provides [here](https://github.com/fastai/fastai/blob/master/nbs/12_optimizer.ipynb). The main takeaway for this blog would be momentum and adaptive learning rates.\n",
        "\n",
        "Momentum allows us to train the model with more stability since we aren't instantaneously changing direction according to the new gradients. Instead, we slowly change direction through a moving average of the previous gradients.\n",
        "\n",
        "With the idea of moving averages, we have adaptive learning rates that allow each parameter to be special and learn at its own, although forcefully accelerated, pace. \n",
        "\n",
        "Combining these two ideas give us Adam, which has shown to be much more efficient than vanilla SGD, and using only one of the two ideas (SGD with momentum and RMSProp)."
      ],
      "metadata": {
        "id": "KhNSxLQuXuOs"
      }
    }
  ]
}