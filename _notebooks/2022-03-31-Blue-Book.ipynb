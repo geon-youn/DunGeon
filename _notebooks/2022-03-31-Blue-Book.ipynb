{
 "cells": [
  {
   "cell_type": "code",
   "execution_count": 1,
   "metadata": {
    "colab": {
     "base_uri": "https://localhost:8080/",
     "height": 711
    },
    "id": "zGIq3EKFMCBj",
    "outputId": "0e87dc9c-82da-4c23-e54e-cfd25532da8f"
   },
   "outputs": [
    {
     "name": "stdout",
     "output_type": "stream",
     "text": [
      "\u001b[K     |████████████████████████████████| 720 kB 33.2 MB/s \n",
      "\u001b[K     |████████████████████████████████| 61 kB 303 kB/s \n",
      "\u001b[K     |████████████████████████████████| 187 kB 61.4 MB/s \n",
      "\u001b[K     |████████████████████████████████| 1.2 MB 44.6 MB/s \n",
      "\u001b[K     |████████████████████████████████| 49 kB 7.6 MB/s \n",
      "\u001b[K     |████████████████████████████████| 56 kB 6.0 MB/s \n",
      "\u001b[K     |████████████████████████████████| 51 kB 382 kB/s \n",
      "\u001b[K     |████████████████████████████████| 561 kB 69.3 MB/s \n",
      "\u001b[K     |████████████████████████████████| 130 kB 70.4 MB/s \n",
      "\u001b[K     |████████████████████████████████| 428 kB 66.8 MB/s \n",
      "\u001b[?25h  Building wheel for waterfallcharts (setup.py) ... \u001b[?25l\u001b[?25hdone\n",
      "  Building wheel for dtreeviz (setup.py) ... \u001b[?25l\u001b[?25hdone\n",
      "\u001b[31mERROR: pip's dependency resolver does not currently take into account all the packages that are installed. This behaviour is the source of the following dependency conflicts.\n",
      "google-colab 1.0.0 requires tornado~=5.1.0; python_version >= \"3.0\", but you have tornado 6.1 which is incompatible.\u001b[0m\n",
      "Collecting tornado==5.1\n",
      "  Downloading tornado-5.1.tar.gz (516 kB)\n",
      "\u001b[K     |████████████████████████████████| 516 kB 22.8 MB/s \n",
      "\u001b[?25hBuilding wheels for collected packages: tornado\n",
      "  Building wheel for tornado (setup.py) ... \u001b[?25l\u001b[?25hdone\n",
      "  Created wheel for tornado: filename=tornado-5.1-cp37-cp37m-linux_x86_64.whl size=462841 sha256=d7a1ad8bff1fe5307250473333ead8f47c672c27255aa4e7d1a5ffab51d2232b\n",
      "  Stored in directory: /root/.cache/pip/wheels/8e/53/de/6a6860ebf6d2958e20a9a8337f25b0369f1666002ade0ce284\n",
      "Successfully built tornado\n",
      "Installing collected packages: tornado\n",
      "  Attempting uninstall: tornado\n",
      "    Found existing installation: tornado 6.1\n",
      "    Uninstalling tornado-6.1:\n",
      "      Successfully uninstalled tornado-6.1\n",
      "\u001b[31mERROR: pip's dependency resolver does not currently take into account all the packages that are installed. This behaviour is the source of the following dependency conflicts.\n",
      "jupyter-client 7.2.1 requires tornado>=6.0, but you have tornado 5.1 which is incompatible.\u001b[0m\n",
      "Successfully installed tornado-5.1\n"
     ]
    },
    {
     "data": {
      "application/vnd.colab-display-data+json": {
       "pip_warning": {
        "packages": [
         "tornado"
        ]
       }
      }
     },
     "metadata": {},
     "output_type": "display_data"
    },
    {
     "name": "stdout",
     "output_type": "stream",
     "text": [
      "Mounted at /content/gdrive\n"
     ]
    }
   ],
   "source": [
    "#hide\n",
    "!pip install -Uqq fastbook kaggle waterfallcharts treeinterpreter dtreeviz\n",
    "# required since March 30, 2022\n",
    "!pip install tornado==5.1\n",
    "import fastbook\n",
    "fastbook.setup_book()"
   ]
  },
  {
   "cell_type": "code",
   "execution_count": 2,
   "metadata": {
    "id": "5v7OXG8YiVrI"
   },
   "outputs": [],
   "source": [
    "#hide\n",
    "from fastbook import *\n",
    "from pandas.api.types import is_string_dtype, is_numeric_dtype, is_categorical_dtype\n",
    "from fastai.tabular.all import *\n",
    "from sklearn.ensemble import RandomForestRegressor\n",
    "from sklearn.tree import DecisionTreeRegressor\n",
    "from dtreeviz.trees import *\n",
    "from IPython.display import Image, display_svg, SVG\n",
    "\n",
    "pd.options.display.max_rows = 20\n",
    "pd.options.display.max_columns = 8"
   ]
  },
  {
   "cell_type": "code",
   "execution_count": 3,
   "metadata": {
    "colab": {
     "base_uri": "https://localhost:8080/"
    },
    "id": "IGfoTDgYmBSc",
    "outputId": "6ae6efca-8123-46d6-a20e-a9dd120cd5ca"
   },
   "outputs": [
    {
     "name": "stdout",
     "output_type": "stream",
     "text": [
      "Mounted at /content/gdrive\n"
     ]
    }
   ],
   "source": [
    "#hide\n",
    "# Mount the drive for our notebook\n",
    "from google.colab import drive\n",
    "drive.mount(\"/content/gdrive\", force_remount=True)"
   ]
  },
  {
   "cell_type": "code",
   "execution_count": 4,
   "metadata": {
    "colab": {
     "base_uri": "https://localhost:8080/"
    },
    "id": "_wvVJV8jmnhF",
    "outputId": "efb9ac72-f883-4149-9436-a830c75a8112"
   },
   "outputs": [
    {
     "name": "stdout",
     "output_type": "stream",
     "text": [
      "/content/gdrive/MyDrive/data_sets/bluebook\n"
     ]
    }
   ],
   "source": [
    "#hide\n",
    "# Change directory to a specific folder for the data set\n",
    "%cd /content/gdrive/MyDrive/data_sets/bluebook/"
   ]
  },
  {
   "cell_type": "code",
   "execution_count": 5,
   "metadata": {
    "id": "lX6BKyQHm4sm"
   },
   "outputs": [],
   "source": [
    "#hide\n",
    "# Set the environment variable for where kaggle.json is located\n",
    "import os\n",
    "os.environ['KAGGLE_CONFIG_DIR'] = '/content/gdrive/MyDrive/data_sets/bluebook/'"
   ]
  },
  {
   "cell_type": "code",
   "execution_count": null,
   "metadata": {
    "colab": {
     "base_uri": "https://localhost:8080/"
    },
    "id": "enFEXozOlObg",
    "outputId": "9fddc529-f460-40d4-8c91-c323c1280a4c"
   },
   "outputs": [
    {
     "name": "stdout",
     "output_type": "stream",
     "text": [
      "Downloading bluebook-for-bulldozers.zip to /content/gdrive/MyDrive/data_sets/bluebook\n",
      " 68% 33.0M/48.4M [00:01<00:00, 20.6MB/s]\n",
      "100% 48.4M/48.4M [00:01<00:00, 26.4MB/s]\n"
     ]
    }
   ],
   "source": [
    "#hide\n",
    "# Download the data set (only needs to be done once)\n",
    "!kaggle competitions download -c bluebook-for-bulldozers"
   ]
  },
  {
   "cell_type": "code",
   "execution_count": null,
   "metadata": {
    "colab": {
     "base_uri": "https://localhost:8080/"
    },
    "id": "s5yPrutcowpN",
    "outputId": "e88da8b0-05a2-4eca-e9ad-53bb54b1f102"
   },
   "outputs": [
    {
     "name": "stdout",
     "output_type": "stream",
     "text": [
      "\n",
      "7-Zip [64] 16.02 : Copyright (c) 1999-2016 Igor Pavlov : 2016-05-21\n",
      "p7zip Version 16.02 (locale=en_US.UTF-8,Utf16=on,HugeFiles=on,64 bits,2 CPUs Intel(R) Xeon(R) CPU @ 2.30GHz (306F0),ASM,AES-NI)\n",
      "\n",
      "Scanning the drive for archives:\n",
      "  0M Scan\b\b\b\b\b\b\b\b\b         \b\b\b\b\b\b\b\b\b1 file, 50792941 bytes (49 MiB)\n",
      "\n",
      "Extracting archive: bluebook-for-bulldozers.zip\n",
      "--\n",
      "Path = bluebook-for-bulldozers.zip\n",
      "Type = zip\n",
      "Physical Size = 50792941\n",
      "\n",
      "  0%\b\b\b\b    \b\b\b\b  8% 1 - Machine_Appendix.csv\b\b\b\b\b\b\b\b\b\b\b\b\b\b\b\b\b\b\b\b\b\b\b\b\b\b\b\b\b                             \b\b\b\b\b\b\b\b\b\b\b\b\b\b\b\b\b\b\b\b\b\b\b\b\b\b\b\b\b 17% 1 - Machine_Appendix.csv\b\b\b\b\b\b\b\b\b\b\b\b\b\b\b\b\b\b\b\b\b\b\b\b\b\b\b\b\b                             \b\b\b\b\b\b\b\b\b\b\b\b\b\b\b\b\b\b\b\b\b\b\b\b\b\b\b\b\b 25% 3 - Train.7z\b\b\b\b\b\b\b\b\b\b\b\b\b\b\b\b\b                 \b\b\b\b\b\b\b\b\b\b\b\b\b\b\b\b\b 33% 4 - Train.zip\b\b\b\b\b\b\b\b\b\b\b\b\b\b\b\b\b\b                  \b\b\b\b\b\b\b\b\b\b\b\b\b\b\b\b\b\b 41% 6 - TrainAndValid.csv\b\b\b\b\b\b\b\b\b\b\b\b\b\b\b\b\b\b\b\b\b\b\b\b\b\b                          \b\b\b\b\b\b\b\b\b\b\b\b\b\b\b\b\b\b\b\b\b\b\b\b\b\b 51% 6 - TrainAndValid.csv\b\b\b\b\b\b\b\b\b\b\b\b\b\b\b\b\b\b\b\b\b\b\b\b\b\b                          \b\b\b\b\b\b\b\b\b\b\b\b\b\b\b\b\b\b\b\b\b\b\b\b\b\b 59% 6 - TrainAndValid.csv\b\b\b\b\b\b\b\b\b\b\b\b\b\b\b\b\b\b\b\b\b\b\b\b\b\b                          \b\b\b\b\b\b\b\b\b\b\b\b\b\b\b\b\b\b\b\b\b\b\b\b\b\b 67% 6 - TrainAndValid.csv\b\b\b\b\b\b\b\b\b\b\b\b\b\b\b\b\b\b\b\b\b\b\b\b\b\b                          \b\b\b\b\b\b\b\b\b\b\b\b\b\b\b\b\b\b\b\b\b\b\b\b\b\b 75% 6 - TrainAndValid.csv\b\b\b\b\b\b\b\b\b\b\b\b\b\b\b\b\b\b\b\b\b\b\b\b\b\b                          \b\b\b\b\b\b\b\b\b\b\b\b\b\b\b\b\b\b\b\b\b\b\b\b\b\b 84% 6 - TrainAndValid.csv\b\b\b\b\b\b\b\b\b\b\b\b\b\b\b\b\b\b\b\b\b\b\b\b\b\b                          \b\b\b\b\b\b\b\b\b\b\b\b\b\b\b\b\b\b\b\b\b\b\b\b\b\b 93% 7\b\b\b\b\b\b      \b\b\b\b\b\b 99% 10 - Valid.zip\b\b\b\b\b\b\b\b\b\b\b\b\b\b\b\b\b\b\b                   \b\b\b\b\b\b\b\b\b\b\b\b\b\b\b\b\b\b\bEverything is Ok\n",
      "\n",
      "Files: 14\n",
      "Size:       213807924\n",
      "Compressed: 50792941\n"
     ]
    }
   ],
   "source": [
    "#hide\n",
    "# Extract the data set\n",
    "!7z x bluebook-for-bulldozers.zip"
   ]
  },
  {
   "cell_type": "markdown",
   "metadata": {
    "id": "yvV499EFiUgD"
   },
   "source": [
    "# \"Using auction data to predict sale price\"\n",
    "> \"You mean you can predict my worth?\"\n",
    "\n",
    "- categories: [tabular]"
   ]
  },
  {
   "cell_type": "markdown",
   "metadata": {
    "id": "n7d--40ligXs"
   },
   "source": [
    "To practice the theory from my [previous post](https://geon-youn.github.io/DunGeon/2022/03/23/Decision-Trees.html), I'm going to be training a random forest model on a data set used by a previous Kaggle competition: [\"Blue Book for Bulldozers\"](https://www.kaggle.com/c/bluebook-for-bulldozers). \n",
    "\n",
    "The contest took place 9 years ago and was sponsored by Fast Iron. Here is its description:\n",
    "\n",
    "> The goal of the contest is to predict the sale price of a particular piece of heavy equiment at auction based on it's usage, equipment type, and configuaration.  The data is sourced from auction result postings and includes information on usage and equipment configurations.\n",
    "> \n",
    "> Fast Iron is creating a \"blue book for bull dozers,\" for customers to value what their heavy equipment fleet is worth at auction.\n",
    "\n"
   ]
  },
  {
   "cell_type": "markdown",
   "metadata": {
    "id": "uBrmMHO7VZ3c"
   },
   "source": [
    "## Preprocessing the data set"
   ]
  },
  {
   "cell_type": "markdown",
   "metadata": {
    "id": "ElPxwUZgrg-p"
   },
   "source": [
    "First, we download the data set using the Kaggle API (to see how I did this, open the blog in Colab). Post download, we have these files:"
   ]
  },
  {
   "cell_type": "code",
   "execution_count": null,
   "metadata": {
    "colab": {
     "base_uri": "https://localhost:8080/"
    },
    "id": "Qm1KwiQ7i_Wy",
    "outputId": "9f13e9e0-df70-4536-c5e1-78898c9234d0"
   },
   "outputs": [
    {
     "name": "stdout",
     "output_type": "stream",
     "text": [
      " bluebook-for-bulldozers.zip\t    Test.csv\t        Train.zip\n",
      "'Data Dictionary.xlsx'\t\t    tp.pkl\t        Valid.7z\n",
      " kaggle.json\t\t\t    Train.7z\t        Valid.csv\n",
      " Machine_Appendix.csv\t\t    TrainAndValid.7z    ValidSolution.csv\n",
      " median_benchmark.csv\t\t    TrainAndValid.csv   Valid.zip\n",
      " random_forest_benchmark_test.csv   TrainAndValid.zip\n"
     ]
    }
   ],
   "source": [
    "!ls"
   ]
  },
  {
   "cell_type": "markdown",
   "metadata": {
    "id": "XuOEACR7rsal"
   },
   "source": [
    "Then, we can import the full data set into a Pandas `DataFrame` object:"
   ]
  },
  {
   "cell_type": "code",
   "execution_count": null,
   "metadata": {
    "id": "pvV6LIU0peC8"
   },
   "outputs": [],
   "source": [
    "#\n",
    "# When low_memory = True (default), Pandas only looks at a\n",
    "# few rows to see what type the data in a specific column\n",
    "# is. If we want to minimize errors and don't run into a\n",
    "# low memory issue, we should set low_memory = False.\n",
    "df = pd.read_csv('TrainAndValid.csv', low_memory = False)"
   ]
  },
  {
   "cell_type": "markdown",
   "metadata": {
    "id": "PKrs4D7KsAgF"
   },
   "source": [
    "This data set contains 53 different features:"
   ]
  },
  {
   "cell_type": "code",
   "execution_count": null,
   "metadata": {
    "colab": {
     "base_uri": "https://localhost:8080/"
    },
    "id": "g2HzfTdJprUv",
    "outputId": "bf9bf24f-6508-4880-de72-827e9a36c20c"
   },
   "outputs": [
    {
     "data": {
      "text/plain": [
       "(Index(['SalesID', 'SalePrice', 'MachineID', 'ModelID', 'datasource',\n",
       "        'auctioneerID', 'YearMade', 'MachineHoursCurrentMeter', 'UsageBand',\n",
       "        'saledate', 'fiModelDesc', 'fiBaseModel', 'fiSecondaryDesc',\n",
       "        'fiModelSeries', 'fiModelDescriptor', 'ProductSize',\n",
       "        'fiProductClassDesc', 'state', 'ProductGroup', 'ProductGroupDesc',\n",
       "        'Drive_System', 'Enclosure', 'Forks', 'Pad_Type', 'Ride_Control',\n",
       "        'Stick', 'Transmission', 'Turbocharged', 'Blade_Extension',\n",
       "        'Blade_Width', 'Enclosure_Type', 'Engine_Horsepower', 'Hydraulics',\n",
       "        'Pushblock', 'Ripper', 'Scarifier', 'Tip_Control', 'Tire_Size',\n",
       "        'Coupler', 'Coupler_System', 'Grouser_Tracks', 'Hydraulics_Flow',\n",
       "        'Track_Type', 'Undercarriage_Pad_Width', 'Stick_Length', 'Thumb',\n",
       "        'Pattern_Changer', 'Grouser_Type', 'Backhoe_Mounting', 'Blade_Type',\n",
       "        'Travel_Controls', 'Differential_Type', 'Steering_Controls'],\n",
       "       dtype='object'), 53)"
      ]
     },
     "execution_count": 15,
     "metadata": {},
     "output_type": "execute_result"
    }
   ],
   "source": [
    "df.columns, len(df.columns)"
   ]
  },
  {
   "cell_type": "markdown",
   "metadata": {
    "id": "z_R5_OfksJDR"
   },
   "source": [
    "According to the \"Data\" tab in the [Kaggle competition page](https://www.kaggle.com/competitions/bluebook-for-bulldozers/data), the key features are in the data set are:\n",
    "\n",
    "- `SalesID`: the uniue identifier of the sale.\n",
    "- `MachineID`: the unique identifier of a machine.  A machine can be sold multiple times.\n",
    "- `SalePrice`: what the machine sold for at auction (only provided in train.csv).\n",
    "- `saledate`: the date of the sale."
   ]
  },
  {
   "cell_type": "markdown",
   "metadata": {
    "id": "K-lNfAGItY-Z"
   },
   "source": [
    "After we read the data, we should handle the orderable categorical variables (called ordinal). We can do so by explicitly setting an order and telling Pandas that we want this column to be ordered by this new rule. The only feature for which this applies is the `ProductSize` column:"
   ]
  },
  {
   "cell_type": "code",
   "execution_count": null,
   "metadata": {
    "colab": {
     "base_uri": "https://localhost:8080/"
    },
    "id": "5mxpncmppu2X",
    "outputId": "ca957b87-be42-48be-8483-70b3fcca7d1e"
   },
   "outputs": [
    {
     "data": {
      "text/plain": [
       "array([nan, 'Medium', 'Small', 'Large / Medium', 'Mini', 'Large', 'Compact'], dtype=object)"
      ]
     },
     "execution_count": 16,
     "metadata": {},
     "output_type": "execute_result"
    }
   ],
   "source": [
    "df['ProductSize'].unique()"
   ]
  },
  {
   "cell_type": "markdown",
   "metadata": {
    "id": "RoagwBhmCxmR"
   },
   "source": [
    "Currently, it's in a random order, but we can give it a specific order:"
   ]
  },
  {
   "cell_type": "code",
   "execution_count": null,
   "metadata": {
    "id": "FqzD95ucp75N"
   },
   "outputs": [],
   "source": [
    "sizes = 'Large','Large / Medium','Medium','Small','Mini','Compact'\n",
    "df['ProductSize'] = df['ProductSize'].astype('category')\n",
    "df['ProductSize'] = df['ProductSize'].cat.set_categories(sizes, ordered = True)"
   ]
  },
  {
   "cell_type": "code",
   "execution_count": null,
   "metadata": {
    "colab": {
     "base_uri": "https://localhost:8080/"
    },
    "id": "oweFL-nhqWhY",
    "outputId": "39f2e154-4068-4d4f-d8c2-92927bf5bfbf"
   },
   "outputs": [
    {
     "data": {
      "text/plain": [
       "[NaN, 'Medium', 'Small', 'Large / Medium', 'Mini', 'Large', 'Compact']\n",
       "Categories (6, object): ['Large' < 'Large / Medium' < 'Medium' < 'Small' < 'Mini' < 'Compact']"
      ]
     },
     "execution_count": 18,
     "metadata": {},
     "output_type": "execute_result"
    }
   ],
   "source": [
    "df['ProductSize'].unique()"
   ]
  },
  {
   "cell_type": "markdown",
   "metadata": {
    "id": "aiMiAIdjuFU5"
   },
   "source": [
    "Next, we have to use the correct metric for the competition. For regression problems, we usually use RMSE, but the Kaggle competition usually states which metric to use. For this competition, we use RMSLE (root mean squared log error, which is the same as RMSE, but the predictions are log'd before RMSE). So, as a little preprocessing, we log the `SalePrice` column (and we can just use RMSE later and handle smaller prediction values while training):"
   ]
  },
  {
   "cell_type": "code",
   "execution_count": null,
   "metadata": {
    "id": "9ZNuAHILqsOf"
   },
   "outputs": [],
   "source": [
    "df['SalePrice'] = np.log(df['SalePrice'])"
   ]
  },
  {
   "cell_type": "markdown",
   "metadata": {
    "id": "Gx1nmo3c0Rli"
   },
   "source": [
    "RMSLE is better to use than RMSE when you want to get a more accurate prediction. RMSLE is also larger for when you underestimate vs. when you overestimate. To learn more about RMSLE, read [this blog post](https://medium.com/analytics-vidhya/root-mean-square-log-error-rmse-vs-rmlse-935c6cc1802a)."
   ]
  },
  {
   "cell_type": "markdown",
   "metadata": {
    "id": "7YBWsElY0sxJ"
   },
   "source": [
    "We should also handle dates. Currently, the dates are just... the dates. "
   ]
  },
  {
   "cell_type": "code",
   "execution_count": null,
   "metadata": {
    "colab": {
     "base_uri": "https://localhost:8080/"
    },
    "id": "P-F-HxuW01Oo",
    "outputId": "37338c69-af02-444c-f81e-3533347f3588"
   },
   "outputs": [
    {
     "data": {
      "text/plain": [
       "0    11/16/2006 0:00\n",
       "1     3/26/2004 0:00\n",
       "2     2/26/2004 0:00\n",
       "3     5/19/2011 0:00\n",
       "4     7/23/2009 0:00\n",
       "Name: saledate, dtype: object"
      ]
     },
     "execution_count": 20,
     "metadata": {},
     "output_type": "execute_result"
    }
   ],
   "source": [
    "df['saledate'].head()"
   ]
  },
  {
   "cell_type": "markdown",
   "metadata": {
    "id": "hdAZloLb1D9O"
   },
   "source": [
    "Dates are pretty special since some dates are more important than others. There's holidays, Fridays, Mondays, weekends, end of quarter, end of year, etc. So, we use fastai's `add_datepart` function that splits the date column into metadata columns. "
   ]
  },
  {
   "cell_type": "code",
   "execution_count": null,
   "metadata": {
    "id": "5wC9vd7M13YE"
   },
   "outputs": [],
   "source": [
    "df = add_datepart(df, 'saledate')"
   ]
  },
  {
   "cell_type": "markdown",
   "metadata": {
    "id": "LLFmCBRh2KNG"
   },
   "source": [
    "Evidently, fastai has generated many metadata columns and we now have 13 date related features:"
   ]
  },
  {
   "cell_type": "code",
   "execution_count": null,
   "metadata": {
    "colab": {
     "base_uri": "https://localhost:8080/"
    },
    "id": "FriJZcm-17k4",
    "outputId": "948c74c9-4f61-4e20-8594-142e76f5768c"
   },
   "outputs": [
    {
     "data": {
      "text/plain": [
       "((#13) ['saleYear','saleMonth','saleWeek','saleDay','saleDayofweek','saleDayofyear','saleIs_month_end','saleIs_month_start','saleIs_quarter_end','saleIs_quarter_start'...],\n",
       " 65)"
      ]
     },
     "execution_count": 22,
     "metadata": {},
     "output_type": "execute_result"
    }
   ],
   "source": [
    "L([i for i in df if i.startswith('sale')]), len(df.columns)"
   ]
  },
  {
   "cell_type": "markdown",
   "metadata": {
    "id": "JM1EwKbL2dl7"
   },
   "source": [
    "Next, we need to transform our data such that it has no strings or missing values. To do so, we use fastai's `TabularPandas` by passing in the `DataFrame`, `TabularProc`s, which features are categorical and which are continuous, what the dependent variable is, and how we're splitting the data. "
   ]
  },
  {
   "cell_type": "markdown",
   "metadata": {
    "id": "-kipYT5oamQO"
   },
   "source": [
    "A `TabularProc` is a special kind of `Transform` that performs the transform when it's called instead of lazily as it's accessed, and returns the exact same object after modifying it in place. \n",
    "\n",
    "`Categorify` sets a number to each level in categorical columns, effectively making them continuous, with each assigned number having no meaning (the model learns the meanings on its own). If we defined an order beforehand like we did with `ProductSize`, then it takes that order instead of assigning a random ordering.\n",
    "\n",
    "`FillMissing` takes missing values in continuous columns and assigns the average value of that continuous column. "
   ]
  },
  {
   "cell_type": "code",
   "execution_count": null,
   "metadata": {
    "id": "OY3XqqBL6aU-"
   },
   "outputs": [],
   "source": [
    "procs = [Categorify, FillMissing]"
   ]
  },
  {
   "cell_type": "markdown",
   "metadata": {
    "id": "6DKudtgbbfWY"
   },
   "source": [
    "We can use fastai's `cont_cat_split` that returns a tuple: `(continuous labels, categorical labels)`. When we define `dep_var = 'SalePrice'`, we tell `cont_cat_split` to ignore that column. The `1` is for the cardinality. Any column with cardinality greater than 1 will be assigned as continuous. "
   ]
  },
  {
   "cell_type": "code",
   "execution_count": null,
   "metadata": {
    "colab": {
     "base_uri": "https://localhost:8080/"
    },
    "id": "wSic44lV5-73",
    "outputId": "46b50395-fa86-4a32-da81-d7e675f71dce"
   },
   "outputs": [
    {
     "data": {
      "text/plain": [
       "((#14) ['SalesID','MachineID','ModelID','datasource','auctioneerID','YearMade','MachineHoursCurrentMeter','saleYear','saleMonth','saleWeek'...],\n",
       " (#50) ['UsageBand','fiModelDesc','fiBaseModel','fiSecondaryDesc','fiModelSeries','fiModelDescriptor','ProductSize','fiProductClassDesc','state','ProductGroup'...])"
      ]
     },
     "execution_count": 24,
     "metadata": {},
     "output_type": "execute_result"
    }
   ],
   "source": [
    "cont, cat = cont_cat_split(df, 1, dep_var = 'SalePrice')\n",
    "L(cont), L(cat)"
   ]
  },
  {
   "cell_type": "markdown",
   "metadata": {
    "id": "dDEIOfBHdwV1"
   },
   "source": [
    "To split our data as training and validation, we want to construct it so that our model can generalize to unseen data. Since this is a time series data set, we want our training set to occur before our validation set. So, we can split it according to time (`TrainAndValid.csv` goes up to April 2012, with `Test.csv` being six months after May 2012. We'll split our data such that the training is six months before April 2012: before November 2011):"
   ]
  },
  {
   "cell_type": "code",
   "execution_count": null,
   "metadata": {
    "id": "b9901GmC3x8W"
   },
   "outputs": [],
   "source": [
    "#\n",
    "# Forms a copy of our current DataFrame, but has\n",
    "# a True where the condition is true. The pipe\n",
    "# '|' acts as 'union' for the sets. So, our\n",
    "# condition is that it is before 2011 or November\n",
    "cond = (df['saleYear'] < 2011) | (df['saleMonth'] < 11)\n",
    "\n",
    "# The first element of the tuple produced by\n",
    "# np.where contains the indices, i, where cond[i]\n",
    "# was True\n",
    "train_idx = np.where( cond)[0]\n",
    "\n",
    "# Applying ~ to cond turns all True values to\n",
    "# False and False to True\n",
    "valid_idx = np.where(~cond)[0]\n",
    "\n",
    "splits = (list(train_idx), list(valid_idx))"
   ]
  },
  {
   "cell_type": "markdown",
   "metadata": {
    "id": "0XBevPx2hlCh"
   },
   "source": [
    "Now, we can put all of them inside of a `TabularPandas`:"
   ]
  },
  {
   "cell_type": "code",
   "execution_count": null,
   "metadata": {
    "id": "kwrom1oh6Sif"
   },
   "outputs": [],
   "source": [
    "tp = TabularPandas(df, procs, cat, cont, y_names = 'SalePrice', splits = splits)"
   ]
  },
  {
   "cell_type": "markdown",
   "metadata": {
    "id": "fBS4-A2BhrQW"
   },
   "source": [
    "When we display the data, they don't seem changed:"
   ]
  },
  {
   "cell_type": "code",
   "execution_count": null,
   "metadata": {
    "colab": {
     "base_uri": "https://localhost:8080/",
     "height": 233
    },
    "id": "6Jl5GRTZ7NB5",
    "outputId": "4e1aab1f-5317-407f-fa0f-9f0d0023599b"
   },
   "outputs": [
    {
     "data": {
      "text/html": [
       "<table border=\"1\" class=\"dataframe\">\n",
       "  <thead>\n",
       "    <tr style=\"text-align: right;\">\n",
       "      <th></th>\n",
       "      <th>UsageBand</th>\n",
       "      <th>fiModelDesc</th>\n",
       "      <th>fiBaseModel</th>\n",
       "      <th>fiSecondaryDesc</th>\n",
       "      <th>fiModelSeries</th>\n",
       "      <th>fiModelDescriptor</th>\n",
       "      <th>ProductSize</th>\n",
       "      <th>fiProductClassDesc</th>\n",
       "      <th>state</th>\n",
       "      <th>ProductGroup</th>\n",
       "      <th>ProductGroupDesc</th>\n",
       "      <th>Drive_System</th>\n",
       "      <th>Enclosure</th>\n",
       "      <th>Forks</th>\n",
       "      <th>Pad_Type</th>\n",
       "      <th>Ride_Control</th>\n",
       "      <th>Stick</th>\n",
       "      <th>Transmission</th>\n",
       "      <th>Turbocharged</th>\n",
       "      <th>Blade_Extension</th>\n",
       "      <th>Blade_Width</th>\n",
       "      <th>Enclosure_Type</th>\n",
       "      <th>Engine_Horsepower</th>\n",
       "      <th>Hydraulics</th>\n",
       "      <th>Pushblock</th>\n",
       "      <th>Ripper</th>\n",
       "      <th>Scarifier</th>\n",
       "      <th>Tip_Control</th>\n",
       "      <th>Tire_Size</th>\n",
       "      <th>Coupler</th>\n",
       "      <th>Coupler_System</th>\n",
       "      <th>Grouser_Tracks</th>\n",
       "      <th>Hydraulics_Flow</th>\n",
       "      <th>Track_Type</th>\n",
       "      <th>Undercarriage_Pad_Width</th>\n",
       "      <th>Stick_Length</th>\n",
       "      <th>Thumb</th>\n",
       "      <th>Pattern_Changer</th>\n",
       "      <th>Grouser_Type</th>\n",
       "      <th>Backhoe_Mounting</th>\n",
       "      <th>Blade_Type</th>\n",
       "      <th>Travel_Controls</th>\n",
       "      <th>Differential_Type</th>\n",
       "      <th>Steering_Controls</th>\n",
       "      <th>saleIs_month_end</th>\n",
       "      <th>saleIs_month_start</th>\n",
       "      <th>saleIs_quarter_end</th>\n",
       "      <th>saleIs_quarter_start</th>\n",
       "      <th>saleIs_year_end</th>\n",
       "      <th>saleIs_year_start</th>\n",
       "      <th>auctioneerID_na</th>\n",
       "      <th>MachineHoursCurrentMeter_na</th>\n",
       "      <th>SalesID</th>\n",
       "      <th>MachineID</th>\n",
       "      <th>ModelID</th>\n",
       "      <th>datasource</th>\n",
       "      <th>auctioneerID</th>\n",
       "      <th>YearMade</th>\n",
       "      <th>MachineHoursCurrentMeter</th>\n",
       "      <th>saleYear</th>\n",
       "      <th>saleMonth</th>\n",
       "      <th>saleWeek</th>\n",
       "      <th>saleDay</th>\n",
       "      <th>saleDayofweek</th>\n",
       "      <th>saleDayofyear</th>\n",
       "      <th>saleElapsed</th>\n",
       "      <th>SalePrice</th>\n",
       "    </tr>\n",
       "  </thead>\n",
       "  <tbody>\n",
       "    <tr>\n",
       "      <th>0</th>\n",
       "      <td>Low</td>\n",
       "      <td>521D</td>\n",
       "      <td>521</td>\n",
       "      <td>D</td>\n",
       "      <td>#na#</td>\n",
       "      <td>#na#</td>\n",
       "      <td>#na#</td>\n",
       "      <td>Wheel Loader - 110.0 to 120.0 Horsepower</td>\n",
       "      <td>Alabama</td>\n",
       "      <td>WL</td>\n",
       "      <td>Wheel Loader</td>\n",
       "      <td>#na#</td>\n",
       "      <td>EROPS w AC</td>\n",
       "      <td>None or Unspecified</td>\n",
       "      <td>#na#</td>\n",
       "      <td>None or Unspecified</td>\n",
       "      <td>#na#</td>\n",
       "      <td>#na#</td>\n",
       "      <td>#na#</td>\n",
       "      <td>#na#</td>\n",
       "      <td>#na#</td>\n",
       "      <td>#na#</td>\n",
       "      <td>#na#</td>\n",
       "      <td>2 Valve</td>\n",
       "      <td>#na#</td>\n",
       "      <td>#na#</td>\n",
       "      <td>#na#</td>\n",
       "      <td>#na#</td>\n",
       "      <td>None or Unspecified</td>\n",
       "      <td>None or Unspecified</td>\n",
       "      <td>#na#</td>\n",
       "      <td>#na#</td>\n",
       "      <td>#na#</td>\n",
       "      <td>#na#</td>\n",
       "      <td>#na#</td>\n",
       "      <td>#na#</td>\n",
       "      <td>#na#</td>\n",
       "      <td>#na#</td>\n",
       "      <td>#na#</td>\n",
       "      <td>#na#</td>\n",
       "      <td>#na#</td>\n",
       "      <td>#na#</td>\n",
       "      <td>Standard</td>\n",
       "      <td>Conventional</td>\n",
       "      <td>False</td>\n",
       "      <td>False</td>\n",
       "      <td>False</td>\n",
       "      <td>False</td>\n",
       "      <td>False</td>\n",
       "      <td>False</td>\n",
       "      <td>False</td>\n",
       "      <td>False</td>\n",
       "      <td>1139246</td>\n",
       "      <td>999089</td>\n",
       "      <td>3157</td>\n",
       "      <td>121</td>\n",
       "      <td>3.0</td>\n",
       "      <td>2004</td>\n",
       "      <td>68.0</td>\n",
       "      <td>2006</td>\n",
       "      <td>11</td>\n",
       "      <td>46</td>\n",
       "      <td>16</td>\n",
       "      <td>3</td>\n",
       "      <td>320</td>\n",
       "      <td>1.163635e+09</td>\n",
       "      <td>11.097410</td>\n",
       "    </tr>\n",
       "    <tr>\n",
       "      <th>1</th>\n",
       "      <td>Low</td>\n",
       "      <td>950FII</td>\n",
       "      <td>950</td>\n",
       "      <td>F</td>\n",
       "      <td>II</td>\n",
       "      <td>#na#</td>\n",
       "      <td>Medium</td>\n",
       "      <td>Wheel Loader - 150.0 to 175.0 Horsepower</td>\n",
       "      <td>North Carolina</td>\n",
       "      <td>WL</td>\n",
       "      <td>Wheel Loader</td>\n",
       "      <td>#na#</td>\n",
       "      <td>EROPS w AC</td>\n",
       "      <td>None or Unspecified</td>\n",
       "      <td>#na#</td>\n",
       "      <td>None or Unspecified</td>\n",
       "      <td>#na#</td>\n",
       "      <td>#na#</td>\n",
       "      <td>#na#</td>\n",
       "      <td>#na#</td>\n",
       "      <td>#na#</td>\n",
       "      <td>#na#</td>\n",
       "      <td>#na#</td>\n",
       "      <td>2 Valve</td>\n",
       "      <td>#na#</td>\n",
       "      <td>#na#</td>\n",
       "      <td>#na#</td>\n",
       "      <td>#na#</td>\n",
       "      <td>23.5</td>\n",
       "      <td>None or Unspecified</td>\n",
       "      <td>#na#</td>\n",
       "      <td>#na#</td>\n",
       "      <td>#na#</td>\n",
       "      <td>#na#</td>\n",
       "      <td>#na#</td>\n",
       "      <td>#na#</td>\n",
       "      <td>#na#</td>\n",
       "      <td>#na#</td>\n",
       "      <td>#na#</td>\n",
       "      <td>#na#</td>\n",
       "      <td>#na#</td>\n",
       "      <td>#na#</td>\n",
       "      <td>Standard</td>\n",
       "      <td>Conventional</td>\n",
       "      <td>False</td>\n",
       "      <td>False</td>\n",
       "      <td>False</td>\n",
       "      <td>False</td>\n",
       "      <td>False</td>\n",
       "      <td>False</td>\n",
       "      <td>False</td>\n",
       "      <td>False</td>\n",
       "      <td>1139248</td>\n",
       "      <td>117657</td>\n",
       "      <td>77</td>\n",
       "      <td>121</td>\n",
       "      <td>3.0</td>\n",
       "      <td>1996</td>\n",
       "      <td>4640.0</td>\n",
       "      <td>2004</td>\n",
       "      <td>3</td>\n",
       "      <td>13</td>\n",
       "      <td>26</td>\n",
       "      <td>4</td>\n",
       "      <td>86</td>\n",
       "      <td>1.080259e+09</td>\n",
       "      <td>10.950807</td>\n",
       "    </tr>\n",
       "    <tr>\n",
       "      <th>2</th>\n",
       "      <td>High</td>\n",
       "      <td>226</td>\n",
       "      <td>226</td>\n",
       "      <td>#na#</td>\n",
       "      <td>#na#</td>\n",
       "      <td>#na#</td>\n",
       "      <td>#na#</td>\n",
       "      <td>Skid Steer Loader - 1351.0 to 1601.0 Lb Operating Capacity</td>\n",
       "      <td>New York</td>\n",
       "      <td>SSL</td>\n",
       "      <td>Skid Steer Loaders</td>\n",
       "      <td>#na#</td>\n",
       "      <td>OROPS</td>\n",
       "      <td>None or Unspecified</td>\n",
       "      <td>#na#</td>\n",
       "      <td>#na#</td>\n",
       "      <td>#na#</td>\n",
       "      <td>#na#</td>\n",
       "      <td>#na#</td>\n",
       "      <td>#na#</td>\n",
       "      <td>#na#</td>\n",
       "      <td>#na#</td>\n",
       "      <td>#na#</td>\n",
       "      <td>Auxiliary</td>\n",
       "      <td>#na#</td>\n",
       "      <td>#na#</td>\n",
       "      <td>#na#</td>\n",
       "      <td>#na#</td>\n",
       "      <td>#na#</td>\n",
       "      <td>None or Unspecified</td>\n",
       "      <td>None or Unspecified</td>\n",
       "      <td>None or Unspecified</td>\n",
       "      <td>Standard</td>\n",
       "      <td>#na#</td>\n",
       "      <td>#na#</td>\n",
       "      <td>#na#</td>\n",
       "      <td>#na#</td>\n",
       "      <td>#na#</td>\n",
       "      <td>#na#</td>\n",
       "      <td>#na#</td>\n",
       "      <td>#na#</td>\n",
       "      <td>#na#</td>\n",
       "      <td>#na#</td>\n",
       "      <td>#na#</td>\n",
       "      <td>False</td>\n",
       "      <td>False</td>\n",
       "      <td>False</td>\n",
       "      <td>False</td>\n",
       "      <td>False</td>\n",
       "      <td>False</td>\n",
       "      <td>False</td>\n",
       "      <td>False</td>\n",
       "      <td>1139249</td>\n",
       "      <td>434808</td>\n",
       "      <td>7009</td>\n",
       "      <td>121</td>\n",
       "      <td>3.0</td>\n",
       "      <td>2001</td>\n",
       "      <td>2838.0</td>\n",
       "      <td>2004</td>\n",
       "      <td>2</td>\n",
       "      <td>9</td>\n",
       "      <td>26</td>\n",
       "      <td>3</td>\n",
       "      <td>57</td>\n",
       "      <td>1.077754e+09</td>\n",
       "      <td>9.210340</td>\n",
       "    </tr>\n",
       "  </tbody>\n",
       "</table>"
      ],
      "text/plain": [
       "<IPython.core.display.HTML object>"
      ]
     },
     "metadata": {},
     "output_type": "display_data"
    }
   ],
   "source": [
    "tp.show(3)"
   ]
  },
  {
   "cell_type": "markdown",
   "metadata": {
    "id": "QO_kRz1HhyY1"
   },
   "source": [
    "But when we display them as items (what our model's going to see), all the categorical variables are changed to continuous variables:"
   ]
  },
  {
   "cell_type": "code",
   "execution_count": null,
   "metadata": {
    "colab": {
     "base_uri": "https://localhost:8080/",
     "height": 173
    },
    "id": "LZLsDG0c7PG6",
    "outputId": "deb614f0-c394-4b23-ca11-d1fa4488c218"
   },
   "outputs": [
    {
     "data": {
      "text/html": [
       "\n",
       "  <div id=\"df-65881bfd-3e82-4605-857e-e45a9fa80065\">\n",
       "    <div class=\"colab-df-container\">\n",
       "      <div>\n",
       "<style scoped>\n",
       "    .dataframe tbody tr th:only-of-type {\n",
       "        vertical-align: middle;\n",
       "    }\n",
       "\n",
       "    .dataframe tbody tr th {\n",
       "        vertical-align: top;\n",
       "    }\n",
       "\n",
       "    .dataframe thead th {\n",
       "        text-align: right;\n",
       "    }\n",
       "</style>\n",
       "<table border=\"1\" class=\"dataframe\">\n",
       "  <thead>\n",
       "    <tr style=\"text-align: right;\">\n",
       "      <th></th>\n",
       "      <th>SalesID</th>\n",
       "      <th>SalePrice</th>\n",
       "      <th>MachineID</th>\n",
       "      <th>ModelID</th>\n",
       "      <th>...</th>\n",
       "      <th>saleIs_year_start</th>\n",
       "      <th>saleElapsed</th>\n",
       "      <th>auctioneerID_na</th>\n",
       "      <th>MachineHoursCurrentMeter_na</th>\n",
       "    </tr>\n",
       "  </thead>\n",
       "  <tbody>\n",
       "    <tr>\n",
       "      <th>0</th>\n",
       "      <td>1139246</td>\n",
       "      <td>11.097410</td>\n",
       "      <td>999089</td>\n",
       "      <td>3157</td>\n",
       "      <td>...</td>\n",
       "      <td>1</td>\n",
       "      <td>1.163635e+09</td>\n",
       "      <td>1</td>\n",
       "      <td>1</td>\n",
       "    </tr>\n",
       "    <tr>\n",
       "      <th>1</th>\n",
       "      <td>1139248</td>\n",
       "      <td>10.950807</td>\n",
       "      <td>117657</td>\n",
       "      <td>77</td>\n",
       "      <td>...</td>\n",
       "      <td>1</td>\n",
       "      <td>1.080259e+09</td>\n",
       "      <td>1</td>\n",
       "      <td>1</td>\n",
       "    </tr>\n",
       "    <tr>\n",
       "      <th>2</th>\n",
       "      <td>1139249</td>\n",
       "      <td>9.210340</td>\n",
       "      <td>434808</td>\n",
       "      <td>7009</td>\n",
       "      <td>...</td>\n",
       "      <td>1</td>\n",
       "      <td>1.077754e+09</td>\n",
       "      <td>1</td>\n",
       "      <td>1</td>\n",
       "    </tr>\n",
       "  </tbody>\n",
       "</table>\n",
       "<p>3 rows × 67 columns</p>\n",
       "</div>\n",
       "      <button class=\"colab-df-convert\" onclick=\"convertToInteractive('df-65881bfd-3e82-4605-857e-e45a9fa80065')\"\n",
       "              title=\"Convert this dataframe to an interactive table.\"\n",
       "              style=\"display:none;\">\n",
       "        \n",
       "  <svg xmlns=\"http://www.w3.org/2000/svg\" height=\"24px\"viewBox=\"0 0 24 24\"\n",
       "       width=\"24px\">\n",
       "    <path d=\"M0 0h24v24H0V0z\" fill=\"none\"/>\n",
       "    <path d=\"M18.56 5.44l.94 2.06.94-2.06 2.06-.94-2.06-.94-.94-2.06-.94 2.06-2.06.94zm-11 1L8.5 8.5l.94-2.06 2.06-.94-2.06-.94L8.5 2.5l-.94 2.06-2.06.94zm10 10l.94 2.06.94-2.06 2.06-.94-2.06-.94-.94-2.06-.94 2.06-2.06.94z\"/><path d=\"M17.41 7.96l-1.37-1.37c-.4-.4-.92-.59-1.43-.59-.52 0-1.04.2-1.43.59L10.3 9.45l-7.72 7.72c-.78.78-.78 2.05 0 2.83L4 21.41c.39.39.9.59 1.41.59.51 0 1.02-.2 1.41-.59l7.78-7.78 2.81-2.81c.8-.78.8-2.07 0-2.86zM5.41 20L4 18.59l7.72-7.72 1.47 1.35L5.41 20z\"/>\n",
       "  </svg>\n",
       "      </button>\n",
       "      \n",
       "  <style>\n",
       "    .colab-df-container {\n",
       "      display:flex;\n",
       "      flex-wrap:wrap;\n",
       "      gap: 12px;\n",
       "    }\n",
       "\n",
       "    .colab-df-convert {\n",
       "      background-color: #E8F0FE;\n",
       "      border: none;\n",
       "      border-radius: 50%;\n",
       "      cursor: pointer;\n",
       "      display: none;\n",
       "      fill: #1967D2;\n",
       "      height: 32px;\n",
       "      padding: 0 0 0 0;\n",
       "      width: 32px;\n",
       "    }\n",
       "\n",
       "    .colab-df-convert:hover {\n",
       "      background-color: #E2EBFA;\n",
       "      box-shadow: 0px 1px 2px rgba(60, 64, 67, 0.3), 0px 1px 3px 1px rgba(60, 64, 67, 0.15);\n",
       "      fill: #174EA6;\n",
       "    }\n",
       "\n",
       "    [theme=dark] .colab-df-convert {\n",
       "      background-color: #3B4455;\n",
       "      fill: #D2E3FC;\n",
       "    }\n",
       "\n",
       "    [theme=dark] .colab-df-convert:hover {\n",
       "      background-color: #434B5C;\n",
       "      box-shadow: 0px 1px 3px 1px rgba(0, 0, 0, 0.15);\n",
       "      filter: drop-shadow(0px 1px 2px rgba(0, 0, 0, 0.3));\n",
       "      fill: #FFFFFF;\n",
       "    }\n",
       "  </style>\n",
       "\n",
       "      <script>\n",
       "        const buttonEl =\n",
       "          document.querySelector('#df-65881bfd-3e82-4605-857e-e45a9fa80065 button.colab-df-convert');\n",
       "        buttonEl.style.display =\n",
       "          google.colab.kernel.accessAllowed ? 'block' : 'none';\n",
       "\n",
       "        async function convertToInteractive(key) {\n",
       "          const element = document.querySelector('#df-65881bfd-3e82-4605-857e-e45a9fa80065');\n",
       "          const dataTable =\n",
       "            await google.colab.kernel.invokeFunction('convertToInteractive',\n",
       "                                                     [key], {});\n",
       "          if (!dataTable) return;\n",
       "\n",
       "          const docLinkHtml = 'Like what you see? Visit the ' +\n",
       "            '<a target=\"_blank\" href=https://colab.research.google.com/notebooks/data_table.ipynb>data table notebook</a>'\n",
       "            + ' to learn more about interactive tables.';\n",
       "          element.innerHTML = '';\n",
       "          dataTable['output_type'] = 'display_data';\n",
       "          await google.colab.output.renderOutput(dataTable, element);\n",
       "          const docLink = document.createElement('div');\n",
       "          docLink.innerHTML = docLinkHtml;\n",
       "          element.appendChild(docLink);\n",
       "        }\n",
       "      </script>\n",
       "    </div>\n",
       "  </div>\n",
       "  "
      ],
      "text/plain": [
       "   SalesID  SalePrice  MachineID  ModelID  ...  saleIs_year_start  \\\n",
       "0  1139246  11.097410     999089     3157  ...                  1   \n",
       "1  1139248  10.950807     117657       77  ...                  1   \n",
       "2  1139249   9.210340     434808     7009  ...                  1   \n",
       "\n",
       "    saleElapsed  auctioneerID_na  MachineHoursCurrentMeter_na  \n",
       "0  1.163635e+09                1                            1  \n",
       "1  1.080259e+09                1                            1  \n",
       "2  1.077754e+09                1                            1  \n",
       "\n",
       "[3 rows x 67 columns]"
      ]
     },
     "execution_count": 34,
     "metadata": {},
     "output_type": "execute_result"
    }
   ],
   "source": [
    "tp.items.head(3)"
   ]
  },
  {
   "cell_type": "markdown",
   "metadata": {
    "id": "eXDyeSKniGI6"
   },
   "source": [
    "And, like how we defined an order for `ProductSize`, the order is maintained:"
   ]
  },
  {
   "cell_type": "code",
   "execution_count": null,
   "metadata": {
    "colab": {
     "base_uri": "https://localhost:8080/"
    },
    "id": "dS6PwBuh73DH",
    "outputId": "b374827a-e445-416b-c915-f6b75b020f40"
   },
   "outputs": [
    {
     "data": {
      "text/plain": [
       "['#na#', 'Large', 'Large / Medium', 'Medium', 'Small', 'Mini', 'Compact']"
      ]
     },
     "execution_count": 39,
     "metadata": {},
     "output_type": "execute_result"
    }
   ],
   "source": [
    "tp.classes['ProductSize']"
   ]
  },
  {
   "cell_type": "markdown",
   "metadata": {
    "id": "HO4QFXbHiKjv"
   },
   "source": [
    "But for a feature whose order we didn't define, they're ordered alphabetically:"
   ]
  },
  {
   "cell_type": "code",
   "execution_count": null,
   "metadata": {
    "colab": {
     "base_uri": "https://localhost:8080/"
    },
    "id": "rbHKJxBp771J",
    "outputId": "bb692b13-10f9-404c-9fef-1ee00ad07cc3"
   },
   "outputs": [
    {
     "data": {
      "text/plain": [
       "['#na#', 'Alabama', 'Alaska', 'Arizona', 'Arkansas', 'California', 'Colorado', 'Connecticut', 'Delaware', 'Florida', 'Georgia', 'Hawaii', 'Idaho', 'Illinois', 'Indiana', 'Iowa', 'Kansas', 'Kentucky', 'Louisiana', 'Maine', 'Maryland', 'Massachusetts', 'Michigan', 'Minnesota', 'Mississippi', 'Missouri', 'Montana', 'Nebraska', 'Nevada', 'New Hampshire', 'New Jersey', 'New Mexico', 'New York', 'North Carolina', 'North Dakota', 'Ohio', 'Oklahoma', 'Oregon', 'Pennsylvania', 'Puerto Rico', 'Rhode Island', 'South Carolina', 'South Dakota', 'Tennessee', 'Texas', 'Unspecified', 'Utah', 'Vermont', 'Virginia', 'Washington', 'Washington DC', 'West Virginia', 'Wisconsin', 'Wyoming']"
      ]
     },
     "execution_count": 40,
     "metadata": {},
     "output_type": "execute_result"
    }
   ],
   "source": [
    "tp.classes['state']"
   ]
  },
  {
   "cell_type": "code",
   "execution_count": null,
   "metadata": {
    "id": "OZuCI_L_8LMl"
   },
   "outputs": [],
   "source": [
    "#hide\n",
    "save_pickle('tp.pkl', tp)"
   ]
  },
  {
   "cell_type": "code",
   "execution_count": 6,
   "metadata": {
    "colab": {
     "base_uri": "https://localhost:8080/",
     "height": 233
    },
    "id": "_-Rh4fkb8Qv7",
    "outputId": "7ccf1dad-4e61-442a-ee72-ce2599780e19"
   },
   "outputs": [
    {
     "data": {
      "text/html": [
       "<table border=\"1\" class=\"dataframe\">\n",
       "  <thead>\n",
       "    <tr style=\"text-align: right;\">\n",
       "      <th></th>\n",
       "      <th>UsageBand</th>\n",
       "      <th>fiModelDesc</th>\n",
       "      <th>fiBaseModel</th>\n",
       "      <th>fiSecondaryDesc</th>\n",
       "      <th>fiModelSeries</th>\n",
       "      <th>fiModelDescriptor</th>\n",
       "      <th>ProductSize</th>\n",
       "      <th>fiProductClassDesc</th>\n",
       "      <th>state</th>\n",
       "      <th>ProductGroup</th>\n",
       "      <th>ProductGroupDesc</th>\n",
       "      <th>Drive_System</th>\n",
       "      <th>Enclosure</th>\n",
       "      <th>Forks</th>\n",
       "      <th>Pad_Type</th>\n",
       "      <th>Ride_Control</th>\n",
       "      <th>Stick</th>\n",
       "      <th>Transmission</th>\n",
       "      <th>Turbocharged</th>\n",
       "      <th>Blade_Extension</th>\n",
       "      <th>Blade_Width</th>\n",
       "      <th>Enclosure_Type</th>\n",
       "      <th>Engine_Horsepower</th>\n",
       "      <th>Hydraulics</th>\n",
       "      <th>Pushblock</th>\n",
       "      <th>Ripper</th>\n",
       "      <th>Scarifier</th>\n",
       "      <th>Tip_Control</th>\n",
       "      <th>Tire_Size</th>\n",
       "      <th>Coupler</th>\n",
       "      <th>Coupler_System</th>\n",
       "      <th>Grouser_Tracks</th>\n",
       "      <th>Hydraulics_Flow</th>\n",
       "      <th>Track_Type</th>\n",
       "      <th>Undercarriage_Pad_Width</th>\n",
       "      <th>Stick_Length</th>\n",
       "      <th>Thumb</th>\n",
       "      <th>Pattern_Changer</th>\n",
       "      <th>Grouser_Type</th>\n",
       "      <th>Backhoe_Mounting</th>\n",
       "      <th>Blade_Type</th>\n",
       "      <th>Travel_Controls</th>\n",
       "      <th>Differential_Type</th>\n",
       "      <th>Steering_Controls</th>\n",
       "      <th>saleIs_month_end</th>\n",
       "      <th>saleIs_month_start</th>\n",
       "      <th>saleIs_quarter_end</th>\n",
       "      <th>saleIs_quarter_start</th>\n",
       "      <th>saleIs_year_end</th>\n",
       "      <th>saleIs_year_start</th>\n",
       "      <th>auctioneerID_na</th>\n",
       "      <th>MachineHoursCurrentMeter_na</th>\n",
       "      <th>SalesID</th>\n",
       "      <th>MachineID</th>\n",
       "      <th>ModelID</th>\n",
       "      <th>datasource</th>\n",
       "      <th>auctioneerID</th>\n",
       "      <th>YearMade</th>\n",
       "      <th>MachineHoursCurrentMeter</th>\n",
       "      <th>saleYear</th>\n",
       "      <th>saleMonth</th>\n",
       "      <th>saleWeek</th>\n",
       "      <th>saleDay</th>\n",
       "      <th>saleDayofweek</th>\n",
       "      <th>saleDayofyear</th>\n",
       "      <th>saleElapsed</th>\n",
       "      <th>SalePrice</th>\n",
       "    </tr>\n",
       "  </thead>\n",
       "  <tbody>\n",
       "    <tr>\n",
       "      <th>0</th>\n",
       "      <td>Low</td>\n",
       "      <td>521D</td>\n",
       "      <td>521</td>\n",
       "      <td>D</td>\n",
       "      <td>#na#</td>\n",
       "      <td>#na#</td>\n",
       "      <td>#na#</td>\n",
       "      <td>Wheel Loader - 110.0 to 120.0 Horsepower</td>\n",
       "      <td>Alabama</td>\n",
       "      <td>WL</td>\n",
       "      <td>Wheel Loader</td>\n",
       "      <td>#na#</td>\n",
       "      <td>EROPS w AC</td>\n",
       "      <td>None or Unspecified</td>\n",
       "      <td>#na#</td>\n",
       "      <td>None or Unspecified</td>\n",
       "      <td>#na#</td>\n",
       "      <td>#na#</td>\n",
       "      <td>#na#</td>\n",
       "      <td>#na#</td>\n",
       "      <td>#na#</td>\n",
       "      <td>#na#</td>\n",
       "      <td>#na#</td>\n",
       "      <td>2 Valve</td>\n",
       "      <td>#na#</td>\n",
       "      <td>#na#</td>\n",
       "      <td>#na#</td>\n",
       "      <td>#na#</td>\n",
       "      <td>None or Unspecified</td>\n",
       "      <td>None or Unspecified</td>\n",
       "      <td>#na#</td>\n",
       "      <td>#na#</td>\n",
       "      <td>#na#</td>\n",
       "      <td>#na#</td>\n",
       "      <td>#na#</td>\n",
       "      <td>#na#</td>\n",
       "      <td>#na#</td>\n",
       "      <td>#na#</td>\n",
       "      <td>#na#</td>\n",
       "      <td>#na#</td>\n",
       "      <td>#na#</td>\n",
       "      <td>#na#</td>\n",
       "      <td>Standard</td>\n",
       "      <td>Conventional</td>\n",
       "      <td>False</td>\n",
       "      <td>False</td>\n",
       "      <td>False</td>\n",
       "      <td>False</td>\n",
       "      <td>False</td>\n",
       "      <td>False</td>\n",
       "      <td>False</td>\n",
       "      <td>False</td>\n",
       "      <td>1139246</td>\n",
       "      <td>999089</td>\n",
       "      <td>3157</td>\n",
       "      <td>121</td>\n",
       "      <td>3.0</td>\n",
       "      <td>2004</td>\n",
       "      <td>68.0</td>\n",
       "      <td>2006</td>\n",
       "      <td>11</td>\n",
       "      <td>46</td>\n",
       "      <td>16</td>\n",
       "      <td>3</td>\n",
       "      <td>320</td>\n",
       "      <td>1.163635e+09</td>\n",
       "      <td>11.097410</td>\n",
       "    </tr>\n",
       "    <tr>\n",
       "      <th>1</th>\n",
       "      <td>Low</td>\n",
       "      <td>950FII</td>\n",
       "      <td>950</td>\n",
       "      <td>F</td>\n",
       "      <td>II</td>\n",
       "      <td>#na#</td>\n",
       "      <td>Medium</td>\n",
       "      <td>Wheel Loader - 150.0 to 175.0 Horsepower</td>\n",
       "      <td>North Carolina</td>\n",
       "      <td>WL</td>\n",
       "      <td>Wheel Loader</td>\n",
       "      <td>#na#</td>\n",
       "      <td>EROPS w AC</td>\n",
       "      <td>None or Unspecified</td>\n",
       "      <td>#na#</td>\n",
       "      <td>None or Unspecified</td>\n",
       "      <td>#na#</td>\n",
       "      <td>#na#</td>\n",
       "      <td>#na#</td>\n",
       "      <td>#na#</td>\n",
       "      <td>#na#</td>\n",
       "      <td>#na#</td>\n",
       "      <td>#na#</td>\n",
       "      <td>2 Valve</td>\n",
       "      <td>#na#</td>\n",
       "      <td>#na#</td>\n",
       "      <td>#na#</td>\n",
       "      <td>#na#</td>\n",
       "      <td>23.5</td>\n",
       "      <td>None or Unspecified</td>\n",
       "      <td>#na#</td>\n",
       "      <td>#na#</td>\n",
       "      <td>#na#</td>\n",
       "      <td>#na#</td>\n",
       "      <td>#na#</td>\n",
       "      <td>#na#</td>\n",
       "      <td>#na#</td>\n",
       "      <td>#na#</td>\n",
       "      <td>#na#</td>\n",
       "      <td>#na#</td>\n",
       "      <td>#na#</td>\n",
       "      <td>#na#</td>\n",
       "      <td>Standard</td>\n",
       "      <td>Conventional</td>\n",
       "      <td>False</td>\n",
       "      <td>False</td>\n",
       "      <td>False</td>\n",
       "      <td>False</td>\n",
       "      <td>False</td>\n",
       "      <td>False</td>\n",
       "      <td>False</td>\n",
       "      <td>False</td>\n",
       "      <td>1139248</td>\n",
       "      <td>117657</td>\n",
       "      <td>77</td>\n",
       "      <td>121</td>\n",
       "      <td>3.0</td>\n",
       "      <td>1996</td>\n",
       "      <td>4640.0</td>\n",
       "      <td>2004</td>\n",
       "      <td>3</td>\n",
       "      <td>13</td>\n",
       "      <td>26</td>\n",
       "      <td>4</td>\n",
       "      <td>86</td>\n",
       "      <td>1.080259e+09</td>\n",
       "      <td>10.950807</td>\n",
       "    </tr>\n",
       "    <tr>\n",
       "      <th>2</th>\n",
       "      <td>High</td>\n",
       "      <td>226</td>\n",
       "      <td>226</td>\n",
       "      <td>#na#</td>\n",
       "      <td>#na#</td>\n",
       "      <td>#na#</td>\n",
       "      <td>#na#</td>\n",
       "      <td>Skid Steer Loader - 1351.0 to 1601.0 Lb Operating Capacity</td>\n",
       "      <td>New York</td>\n",
       "      <td>SSL</td>\n",
       "      <td>Skid Steer Loaders</td>\n",
       "      <td>#na#</td>\n",
       "      <td>OROPS</td>\n",
       "      <td>None or Unspecified</td>\n",
       "      <td>#na#</td>\n",
       "      <td>#na#</td>\n",
       "      <td>#na#</td>\n",
       "      <td>#na#</td>\n",
       "      <td>#na#</td>\n",
       "      <td>#na#</td>\n",
       "      <td>#na#</td>\n",
       "      <td>#na#</td>\n",
       "      <td>#na#</td>\n",
       "      <td>Auxiliary</td>\n",
       "      <td>#na#</td>\n",
       "      <td>#na#</td>\n",
       "      <td>#na#</td>\n",
       "      <td>#na#</td>\n",
       "      <td>#na#</td>\n",
       "      <td>None or Unspecified</td>\n",
       "      <td>None or Unspecified</td>\n",
       "      <td>None or Unspecified</td>\n",
       "      <td>Standard</td>\n",
       "      <td>#na#</td>\n",
       "      <td>#na#</td>\n",
       "      <td>#na#</td>\n",
       "      <td>#na#</td>\n",
       "      <td>#na#</td>\n",
       "      <td>#na#</td>\n",
       "      <td>#na#</td>\n",
       "      <td>#na#</td>\n",
       "      <td>#na#</td>\n",
       "      <td>#na#</td>\n",
       "      <td>#na#</td>\n",
       "      <td>False</td>\n",
       "      <td>False</td>\n",
       "      <td>False</td>\n",
       "      <td>False</td>\n",
       "      <td>False</td>\n",
       "      <td>False</td>\n",
       "      <td>False</td>\n",
       "      <td>False</td>\n",
       "      <td>1139249</td>\n",
       "      <td>434808</td>\n",
       "      <td>7009</td>\n",
       "      <td>121</td>\n",
       "      <td>3.0</td>\n",
       "      <td>2001</td>\n",
       "      <td>2838.0</td>\n",
       "      <td>2004</td>\n",
       "      <td>2</td>\n",
       "      <td>9</td>\n",
       "      <td>26</td>\n",
       "      <td>3</td>\n",
       "      <td>57</td>\n",
       "      <td>1.077754e+09</td>\n",
       "      <td>9.210340</td>\n",
       "    </tr>\n",
       "  </tbody>\n",
       "</table>"
      ],
      "text/plain": [
       "<IPython.core.display.HTML object>"
      ]
     },
     "metadata": {},
     "output_type": "display_data"
    }
   ],
   "source": [
    "#hide\n",
    "tp = load_pickle('tp.pkl')\n",
    "tp.show(3)"
   ]
  },
  {
   "cell_type": "markdown",
   "metadata": {
    "id": "LFY8RkA9igSG"
   },
   "source": [
    "Now we processed our data and we can start training a random forest model!"
   ]
  },
  {
   "cell_type": "markdown",
   "metadata": {
    "id": "GHhCw3KNVgUY"
   },
   "source": [
    "## Modeling"
   ]
  },
  {
   "cell_type": "markdown",
   "metadata": {
    "id": "DfL3YsaQVhyD"
   },
   "source": [
    "First, we'll get the split data from our `TabularPandas` object:"
   ]
  },
  {
   "cell_type": "code",
   "execution_count": null,
   "metadata": {
    "id": "xZ65XRt6VufB"
   },
   "outputs": [],
   "source": [
    "train_xs, train_y = tp.train.xs, tp.train.y\n",
    "valid_xs, valid_y = tp.valid.xs, tp.valid.y"
   ]
  },
  {
   "cell_type": "markdown",
   "metadata": {
    "id": "cc871TW_gVyJ"
   },
   "source": [
    "Then, we'll make a decision tree model as a baseline"
   ]
  },
  {
   "cell_type": "code",
   "execution_count": null,
   "metadata": {
    "colab": {
     "base_uri": "https://localhost:8080/"
    },
    "id": "C3lQ9tVbgVDH",
    "outputId": "1273d965-b51e-486b-cf42-a5108dc766c7"
   },
   "outputs": [
    {
     "data": {
      "text/plain": [
       "DecisionTreeRegressor(min_samples_leaf=25)"
      ]
     },
     "execution_count": 8,
     "metadata": {},
     "output_type": "execute_result"
    }
   ],
   "source": [
    "dt = DecisionTreeRegressor(min_samples_leaf = 25)\n",
    "dt.fit(train_xs, train_y)"
   ]
  },
  {
   "cell_type": "markdown",
   "metadata": {
    "id": "cOXuGro3X4da"
   },
   "source": [
    "To see how well our model did, we can take the RMSE of our predictions since we took the log beforehand (so our models predict the log of the sale price). We'll define the functions so that we don't have to repeat it later:"
   ]
  },
  {
   "cell_type": "code",
   "execution_count": 7,
   "metadata": {
    "id": "MK_mfF3aX9dX"
   },
   "outputs": [],
   "source": [
    "def r_mse(preds, y):\n",
    "    return round(math.sqrt(((preds - y)**2).mean()), 6)\n",
    "    \n",
    "def m_rmse(m, preds, y):\n",
    "    return r_mse(m.predict(preds), y)"
   ]
  },
  {
   "cell_type": "code",
   "execution_count": null,
   "metadata": {
    "colab": {
     "base_uri": "https://localhost:8080/"
    },
    "id": "EhNSllIRgxx6",
    "outputId": "03c284f2-a852-4834-96ab-e585713ccf00"
   },
   "outputs": [
    {
     "data": {
      "text/plain": [
       "(0.211429, 0.266451)"
      ]
     },
     "execution_count": 10,
     "metadata": {},
     "output_type": "execute_result"
    }
   ],
   "source": [
    "m_rmse(dt, train_xs, train_y), m_rmse(dt, valid_xs, valid_y)"
   ]
  },
  {
   "cell_type": "markdown",
   "metadata": {
    "id": "OyHeglashbJ6"
   },
   "source": [
    "So, we should be trying to train a model that has a better RMSE than 0.266."
   ]
  },
  {
   "cell_type": "code",
   "execution_count": null,
   "metadata": {
    "colab": {
     "base_uri": "https://localhost:8080/",
     "height": 424
    },
    "id": "q642Bc5mhf_p",
    "outputId": "cf2c45b2-f570-4143-b493-8d8aed1471eb"
   },
   "outputs": [
    {
     "data": {
      "text/html": [
       "\n",
       "  <div id=\"df-db0b17fa-6874-4021-9f92-824d9ad90945\">\n",
       "    <div class=\"colab-df-container\">\n",
       "      <div>\n",
       "<style scoped>\n",
       "    .dataframe tbody tr th:only-of-type {\n",
       "        vertical-align: middle;\n",
       "    }\n",
       "\n",
       "    .dataframe tbody tr th {\n",
       "        vertical-align: top;\n",
       "    }\n",
       "\n",
       "    .dataframe thead th {\n",
       "        text-align: right;\n",
       "    }\n",
       "</style>\n",
       "<table border=\"1\" class=\"dataframe\">\n",
       "  <thead>\n",
       "    <tr style=\"text-align: right;\">\n",
       "      <th></th>\n",
       "      <th>cols</th>\n",
       "      <th>imp</th>\n",
       "    </tr>\n",
       "  </thead>\n",
       "  <tbody>\n",
       "    <tr>\n",
       "      <th>30</th>\n",
       "      <td>Coupler_System</td>\n",
       "      <td>0.223597</td>\n",
       "    </tr>\n",
       "    <tr>\n",
       "      <th>57</th>\n",
       "      <td>YearMade</td>\n",
       "      <td>0.186213</td>\n",
       "    </tr>\n",
       "    <tr>\n",
       "      <th>6</th>\n",
       "      <td>ProductSize</td>\n",
       "      <td>0.136194</td>\n",
       "    </tr>\n",
       "    <tr>\n",
       "      <th>7</th>\n",
       "      <td>fiProductClassDesc</td>\n",
       "      <td>0.119341</td>\n",
       "    </tr>\n",
       "    <tr>\n",
       "      <th>54</th>\n",
       "      <td>ModelID</td>\n",
       "      <td>0.095098</td>\n",
       "    </tr>\n",
       "    <tr>\n",
       "      <th>...</th>\n",
       "      <td>...</td>\n",
       "      <td>...</td>\n",
       "    </tr>\n",
       "    <tr>\n",
       "      <th>47</th>\n",
       "      <td>saleIs_quarter_start</td>\n",
       "      <td>0.000000</td>\n",
       "    </tr>\n",
       "    <tr>\n",
       "      <th>19</th>\n",
       "      <td>Blade_Extension</td>\n",
       "      <td>0.000000</td>\n",
       "    </tr>\n",
       "    <tr>\n",
       "      <th>18</th>\n",
       "      <td>Turbocharged</td>\n",
       "      <td>0.000000</td>\n",
       "    </tr>\n",
       "    <tr>\n",
       "      <th>46</th>\n",
       "      <td>saleIs_quarter_end</td>\n",
       "      <td>0.000000</td>\n",
       "    </tr>\n",
       "    <tr>\n",
       "      <th>45</th>\n",
       "      <td>saleIs_month_start</td>\n",
       "      <td>0.000000</td>\n",
       "    </tr>\n",
       "  </tbody>\n",
       "</table>\n",
       "<p>66 rows × 2 columns</p>\n",
       "</div>\n",
       "      <button class=\"colab-df-convert\" onclick=\"convertToInteractive('df-db0b17fa-6874-4021-9f92-824d9ad90945')\"\n",
       "              title=\"Convert this dataframe to an interactive table.\"\n",
       "              style=\"display:none;\">\n",
       "        \n",
       "  <svg xmlns=\"http://www.w3.org/2000/svg\" height=\"24px\"viewBox=\"0 0 24 24\"\n",
       "       width=\"24px\">\n",
       "    <path d=\"M0 0h24v24H0V0z\" fill=\"none\"/>\n",
       "    <path d=\"M18.56 5.44l.94 2.06.94-2.06 2.06-.94-2.06-.94-.94-2.06-.94 2.06-2.06.94zm-11 1L8.5 8.5l.94-2.06 2.06-.94-2.06-.94L8.5 2.5l-.94 2.06-2.06.94zm10 10l.94 2.06.94-2.06 2.06-.94-2.06-.94-.94-2.06-.94 2.06-2.06.94z\"/><path d=\"M17.41 7.96l-1.37-1.37c-.4-.4-.92-.59-1.43-.59-.52 0-1.04.2-1.43.59L10.3 9.45l-7.72 7.72c-.78.78-.78 2.05 0 2.83L4 21.41c.39.39.9.59 1.41.59.51 0 1.02-.2 1.41-.59l7.78-7.78 2.81-2.81c.8-.78.8-2.07 0-2.86zM5.41 20L4 18.59l7.72-7.72 1.47 1.35L5.41 20z\"/>\n",
       "  </svg>\n",
       "      </button>\n",
       "      \n",
       "  <style>\n",
       "    .colab-df-container {\n",
       "      display:flex;\n",
       "      flex-wrap:wrap;\n",
       "      gap: 12px;\n",
       "    }\n",
       "\n",
       "    .colab-df-convert {\n",
       "      background-color: #E8F0FE;\n",
       "      border: none;\n",
       "      border-radius: 50%;\n",
       "      cursor: pointer;\n",
       "      display: none;\n",
       "      fill: #1967D2;\n",
       "      height: 32px;\n",
       "      padding: 0 0 0 0;\n",
       "      width: 32px;\n",
       "    }\n",
       "\n",
       "    .colab-df-convert:hover {\n",
       "      background-color: #E2EBFA;\n",
       "      box-shadow: 0px 1px 2px rgba(60, 64, 67, 0.3), 0px 1px 3px 1px rgba(60, 64, 67, 0.15);\n",
       "      fill: #174EA6;\n",
       "    }\n",
       "\n",
       "    [theme=dark] .colab-df-convert {\n",
       "      background-color: #3B4455;\n",
       "      fill: #D2E3FC;\n",
       "    }\n",
       "\n",
       "    [theme=dark] .colab-df-convert:hover {\n",
       "      background-color: #434B5C;\n",
       "      box-shadow: 0px 1px 3px 1px rgba(0, 0, 0, 0.15);\n",
       "      filter: drop-shadow(0px 1px 2px rgba(0, 0, 0, 0.3));\n",
       "      fill: #FFFFFF;\n",
       "    }\n",
       "  </style>\n",
       "\n",
       "      <script>\n",
       "        const buttonEl =\n",
       "          document.querySelector('#df-db0b17fa-6874-4021-9f92-824d9ad90945 button.colab-df-convert');\n",
       "        buttonEl.style.display =\n",
       "          google.colab.kernel.accessAllowed ? 'block' : 'none';\n",
       "\n",
       "        async function convertToInteractive(key) {\n",
       "          const element = document.querySelector('#df-db0b17fa-6874-4021-9f92-824d9ad90945');\n",
       "          const dataTable =\n",
       "            await google.colab.kernel.invokeFunction('convertToInteractive',\n",
       "                                                     [key], {});\n",
       "          if (!dataTable) return;\n",
       "\n",
       "          const docLinkHtml = 'Like what you see? Visit the ' +\n",
       "            '<a target=\"_blank\" href=https://colab.research.google.com/notebooks/data_table.ipynb>data table notebook</a>'\n",
       "            + ' to learn more about interactive tables.';\n",
       "          element.innerHTML = '';\n",
       "          dataTable['output_type'] = 'display_data';\n",
       "          await google.colab.output.renderOutput(dataTable, element);\n",
       "          const docLink = document.createElement('div');\n",
       "          docLink.innerHTML = docLinkHtml;\n",
       "          element.appendChild(docLink);\n",
       "        }\n",
       "      </script>\n",
       "    </div>\n",
       "  </div>\n",
       "  "
      ],
      "text/plain": [
       "                    cols       imp\n",
       "30        Coupler_System  0.223597\n",
       "57              YearMade  0.186213\n",
       "6            ProductSize  0.136194\n",
       "7     fiProductClassDesc  0.119341\n",
       "54               ModelID  0.095098\n",
       "..                   ...       ...\n",
       "47  saleIs_quarter_start  0.000000\n",
       "19       Blade_Extension  0.000000\n",
       "18          Turbocharged  0.000000\n",
       "46    saleIs_quarter_end  0.000000\n",
       "45    saleIs_month_start  0.000000\n",
       "\n",
       "[66 rows x 2 columns]"
      ]
     },
     "execution_count": 16,
     "metadata": {},
     "output_type": "execute_result"
    }
   ],
   "source": [
    "#hide\n",
    "pd.DataFrame({'cols': train_xs.columns, 'imp': dt.feature_importances_}).sort_values('imp', ascending = False)"
   ]
  },
  {
   "cell_type": "markdown",
   "metadata": {
    "id": "ck1i4xXZVt3o"
   },
   "source": [
    "We'll train our random forest model as an ensemble of 40 decision trees:"
   ]
  },
  {
   "cell_type": "code",
   "execution_count": 8,
   "metadata": {
    "id": "Ye-1vs87Wmvz"
   },
   "outputs": [],
   "source": [
    "def rf(xs, y, n_estimators = 40, max_samples = 200_000, \n",
    "       max_features = 0.5, min_samples_leaf = 5, **kwargs):\n",
    "    return RandomForestRegressor(\n",
    "        n_jobs       = -1,                   # use all CPU cores\n",
    "        n_estimators = n_estimators,         # number of decision trees\n",
    "        max_samples  = max_samples,          # max number of rows to get\n",
    "        max_features = max_features,         # how many columns to get (%)\n",
    "        min_samples_leaf = min_samples_leaf, # leaf nodes must have at least this many (to prevent overfitting)\n",
    "        oob_score    = True                  # track out-of-box error score\n",
    "    ).fit(xs, y)"
   ]
  },
  {
   "cell_type": "code",
   "execution_count": null,
   "metadata": {
    "id": "4uRgHZ05W3MT"
   },
   "outputs": [],
   "source": [
    "m = rf(train_xs, train_y)"
   ]
  },
  {
   "cell_type": "code",
   "execution_count": null,
   "metadata": {
    "colab": {
     "base_uri": "https://localhost:8080/"
    },
    "id": "op2rlXuYYb3e",
    "outputId": "1c7da5e8-87aa-4095-ff13-08ac45a76c8d"
   },
   "outputs": [
    {
     "data": {
      "text/plain": [
       "(0.171233, 0.23292)"
      ]
     },
     "execution_count": 76,
     "metadata": {},
     "output_type": "execute_result"
    }
   ],
   "source": [
    "m_rmse(m, train_xs, train_y), m_rmse(m, valid_xs, valid_y)"
   ]
  },
  {
   "cell_type": "markdown",
   "metadata": {
    "id": "op61nu0AZkyE"
   },
   "source": [
    "And, our out-of-bag error is:"
   ]
  },
  {
   "cell_type": "code",
   "execution_count": null,
   "metadata": {
    "colab": {
     "base_uri": "https://localhost:8080/"
    },
    "id": "RD3JltMxZaXY",
    "outputId": "bb5f4419-ce6f-499d-96a9-3bb66fd8ba8c"
   },
   "outputs": [
    {
     "data": {
      "text/plain": [
       "0.210877"
      ]
     },
     "execution_count": 74,
     "metadata": {},
     "output_type": "execute_result"
    }
   ],
   "source": [
    "r_mse(m.oob_prediction_, train_y)"
   ]
  },
  {
   "cell_type": "markdown",
   "metadata": {
    "id": "Db72wK0DZn91"
   },
   "source": [
    "Since it's smaller than our validation error, our model shouldn't be overfitting and is instead having other problems."
   ]
  },
  {
   "cell_type": "code",
   "execution_count": null,
   "metadata": {
    "id": "62LUA3Hmi8Pk"
   },
   "outputs": [],
   "source": [
    "#hide\n",
    "save_pickle('m.pkl', m)"
   ]
  },
  {
   "cell_type": "code",
   "execution_count": null,
   "metadata": {
    "id": "FrtTzH1TjCb2"
   },
   "outputs": [],
   "source": [
    "#hide\n",
    "m = load_pickle('m.pkl')"
   ]
  },
  {
   "cell_type": "markdown",
   "metadata": {
    "id": "ZXWz7Q8Piz84"
   },
   "source": [
    "## Interpretation"
   ]
  },
  {
   "cell_type": "markdown",
   "metadata": {
    "id": "VAz68UjBi1gS"
   },
   "source": [
    "First, we'll look at the confidence of each tree:"
   ]
  },
  {
   "cell_type": "code",
   "execution_count": null,
   "metadata": {
    "colab": {
     "base_uri": "https://localhost:8080/"
    },
    "id": "6lhSpq-di7sT",
    "outputId": "06f0eb23-c9e2-4c2e-b371-423a01ff682f"
   },
   "outputs": [
    {
     "data": {
      "text/plain": [
       "(40, 5754)"
      ]
     },
     "execution_count": 77,
     "metadata": {},
     "output_type": "execute_result"
    }
   ],
   "source": [
    "preds = np.stack([t.predict(valid_xs.values) for t in m.estimators_])\n",
    "preds.shape # we should have 40 trees"
   ]
  },
  {
   "cell_type": "code",
   "execution_count": null,
   "metadata": {
    "colab": {
     "base_uri": "https://localhost:8080/"
    },
    "id": "wE0kAkDokH6N",
    "outputId": "0331667a-8fb5-4e53-8386-35c67375bee4"
   },
   "outputs": [
    {
     "data": {
      "text/plain": [
       "array([0.04779576, 0.05120998, 0.0513565 , ..., 0.5755972 , 0.57621563, 0.57734788])"
      ]
     },
     "execution_count": 78,
     "metadata": {},
     "output_type": "execute_result"
    }
   ],
   "source": [
    "preds_std = preds.std(0)\n",
    "preds_std.sort()\n",
    "preds_std"
   ]
  },
  {
   "cell_type": "markdown",
   "metadata": {
    "id": "eEAxO3zskcga"
   },
   "source": [
    "The standard deviations of the predictions for each auction ranges from 0.00478 to 0.57735 since the trees for some auctions agree (low standard deviation), while other times they disagree (high standard deviation). In production, you could warn the user to be more wary of the prediction if the standard deviation is above a certain threshold."
   ]
  },
  {
   "cell_type": "markdown",
   "metadata": {
    "id": "-ivYnavAT6Is"
   },
   "source": [
    "To see which features were the most important, we can use the `.feature_imporances_` attribute of our `RandomForestRegressor` model to get each columns' feature importance score. We can pair it up with the column names in a `DataFrame` and sort it to see which features were the most important."
   ]
  },
  {
   "cell_type": "code",
   "execution_count": 9,
   "metadata": {
    "id": "ThRrzvPiUNoA"
   },
   "outputs": [],
   "source": [
    "def feature_importance(df, m):\n",
    "    return pd.DataFrame({'Feature': df.columns, 'Importance': m.feature_importances_}).sort_values('Importance', ascending = False)"
   ]
  },
  {
   "cell_type": "code",
   "execution_count": null,
   "metadata": {
    "id": "7WOvWabCUbuV"
   },
   "outputs": [],
   "source": [
    "fi = feature_importance(train_xs, m)"
   ]
  },
  {
   "cell_type": "code",
   "execution_count": null,
   "metadata": {
    "colab": {
     "base_uri": "https://localhost:8080/",
     "height": 363
    },
    "id": "ygtNI1FgV5Mp",
    "outputId": "bd07564c-81d1-4ec8-e562-3b9f2c6f517f"
   },
   "outputs": [
    {
     "data": {
      "text/html": [
       "\n",
       "  <div id=\"df-069adc96-c6ac-47a9-8574-8fbaece3da2e\">\n",
       "    <div class=\"colab-df-container\">\n",
       "      <div>\n",
       "<style scoped>\n",
       "    .dataframe tbody tr th:only-of-type {\n",
       "        vertical-align: middle;\n",
       "    }\n",
       "\n",
       "    .dataframe tbody tr th {\n",
       "        vertical-align: top;\n",
       "    }\n",
       "\n",
       "    .dataframe thead th {\n",
       "        text-align: right;\n",
       "    }\n",
       "</style>\n",
       "<table border=\"1\" class=\"dataframe\">\n",
       "  <thead>\n",
       "    <tr style=\"text-align: right;\">\n",
       "      <th></th>\n",
       "      <th>Feature</th>\n",
       "      <th>Importance</th>\n",
       "    </tr>\n",
       "  </thead>\n",
       "  <tbody>\n",
       "    <tr>\n",
       "      <th>57</th>\n",
       "      <td>YearMade</td>\n",
       "      <td>0.184860</td>\n",
       "    </tr>\n",
       "    <tr>\n",
       "      <th>6</th>\n",
       "      <td>ProductSize</td>\n",
       "      <td>0.114785</td>\n",
       "    </tr>\n",
       "    <tr>\n",
       "      <th>30</th>\n",
       "      <td>Coupler_System</td>\n",
       "      <td>0.114240</td>\n",
       "    </tr>\n",
       "    <tr>\n",
       "      <th>7</th>\n",
       "      <td>fiProductClassDesc</td>\n",
       "      <td>0.078662</td>\n",
       "    </tr>\n",
       "    <tr>\n",
       "      <th>54</th>\n",
       "      <td>ModelID</td>\n",
       "      <td>0.058189</td>\n",
       "    </tr>\n",
       "    <tr>\n",
       "      <th>65</th>\n",
       "      <td>saleElapsed</td>\n",
       "      <td>0.050378</td>\n",
       "    </tr>\n",
       "    <tr>\n",
       "      <th>3</th>\n",
       "      <td>fiSecondaryDesc</td>\n",
       "      <td>0.038825</td>\n",
       "    </tr>\n",
       "    <tr>\n",
       "      <th>12</th>\n",
       "      <td>Enclosure</td>\n",
       "      <td>0.038811</td>\n",
       "    </tr>\n",
       "    <tr>\n",
       "      <th>32</th>\n",
       "      <td>Hydraulics_Flow</td>\n",
       "      <td>0.036170</td>\n",
       "    </tr>\n",
       "    <tr>\n",
       "      <th>1</th>\n",
       "      <td>fiModelDesc</td>\n",
       "      <td>0.032337</td>\n",
       "    </tr>\n",
       "  </tbody>\n",
       "</table>\n",
       "</div>\n",
       "      <button class=\"colab-df-convert\" onclick=\"convertToInteractive('df-069adc96-c6ac-47a9-8574-8fbaece3da2e')\"\n",
       "              title=\"Convert this dataframe to an interactive table.\"\n",
       "              style=\"display:none;\">\n",
       "        \n",
       "  <svg xmlns=\"http://www.w3.org/2000/svg\" height=\"24px\"viewBox=\"0 0 24 24\"\n",
       "       width=\"24px\">\n",
       "    <path d=\"M0 0h24v24H0V0z\" fill=\"none\"/>\n",
       "    <path d=\"M18.56 5.44l.94 2.06.94-2.06 2.06-.94-2.06-.94-.94-2.06-.94 2.06-2.06.94zm-11 1L8.5 8.5l.94-2.06 2.06-.94-2.06-.94L8.5 2.5l-.94 2.06-2.06.94zm10 10l.94 2.06.94-2.06 2.06-.94-2.06-.94-.94-2.06-.94 2.06-2.06.94z\"/><path d=\"M17.41 7.96l-1.37-1.37c-.4-.4-.92-.59-1.43-.59-.52 0-1.04.2-1.43.59L10.3 9.45l-7.72 7.72c-.78.78-.78 2.05 0 2.83L4 21.41c.39.39.9.59 1.41.59.51 0 1.02-.2 1.41-.59l7.78-7.78 2.81-2.81c.8-.78.8-2.07 0-2.86zM5.41 20L4 18.59l7.72-7.72 1.47 1.35L5.41 20z\"/>\n",
       "  </svg>\n",
       "      </button>\n",
       "      \n",
       "  <style>\n",
       "    .colab-df-container {\n",
       "      display:flex;\n",
       "      flex-wrap:wrap;\n",
       "      gap: 12px;\n",
       "    }\n",
       "\n",
       "    .colab-df-convert {\n",
       "      background-color: #E8F0FE;\n",
       "      border: none;\n",
       "      border-radius: 50%;\n",
       "      cursor: pointer;\n",
       "      display: none;\n",
       "      fill: #1967D2;\n",
       "      height: 32px;\n",
       "      padding: 0 0 0 0;\n",
       "      width: 32px;\n",
       "    }\n",
       "\n",
       "    .colab-df-convert:hover {\n",
       "      background-color: #E2EBFA;\n",
       "      box-shadow: 0px 1px 2px rgba(60, 64, 67, 0.3), 0px 1px 3px 1px rgba(60, 64, 67, 0.15);\n",
       "      fill: #174EA6;\n",
       "    }\n",
       "\n",
       "    [theme=dark] .colab-df-convert {\n",
       "      background-color: #3B4455;\n",
       "      fill: #D2E3FC;\n",
       "    }\n",
       "\n",
       "    [theme=dark] .colab-df-convert:hover {\n",
       "      background-color: #434B5C;\n",
       "      box-shadow: 0px 1px 3px 1px rgba(0, 0, 0, 0.15);\n",
       "      filter: drop-shadow(0px 1px 2px rgba(0, 0, 0, 0.3));\n",
       "      fill: #FFFFFF;\n",
       "    }\n",
       "  </style>\n",
       "\n",
       "      <script>\n",
       "        const buttonEl =\n",
       "          document.querySelector('#df-069adc96-c6ac-47a9-8574-8fbaece3da2e button.colab-df-convert');\n",
       "        buttonEl.style.display =\n",
       "          google.colab.kernel.accessAllowed ? 'block' : 'none';\n",
       "\n",
       "        async function convertToInteractive(key) {\n",
       "          const element = document.querySelector('#df-069adc96-c6ac-47a9-8574-8fbaece3da2e');\n",
       "          const dataTable =\n",
       "            await google.colab.kernel.invokeFunction('convertToInteractive',\n",
       "                                                     [key], {});\n",
       "          if (!dataTable) return;\n",
       "\n",
       "          const docLinkHtml = 'Like what you see? Visit the ' +\n",
       "            '<a target=\"_blank\" href=https://colab.research.google.com/notebooks/data_table.ipynb>data table notebook</a>'\n",
       "            + ' to learn more about interactive tables.';\n",
       "          element.innerHTML = '';\n",
       "          dataTable['output_type'] = 'display_data';\n",
       "          await google.colab.output.renderOutput(dataTable, element);\n",
       "          const docLink = document.createElement('div');\n",
       "          docLink.innerHTML = docLinkHtml;\n",
       "          element.appendChild(docLink);\n",
       "        }\n",
       "      </script>\n",
       "    </div>\n",
       "  </div>\n",
       "  "
      ],
      "text/plain": [
       "               Feature  Importance\n",
       "57            YearMade    0.184860\n",
       "6          ProductSize    0.114785\n",
       "30      Coupler_System    0.114240\n",
       "7   fiProductClassDesc    0.078662\n",
       "54             ModelID    0.058189\n",
       "65         saleElapsed    0.050378\n",
       "3      fiSecondaryDesc    0.038825\n",
       "12           Enclosure    0.038811\n",
       "32     Hydraulics_Flow    0.036170\n",
       "1          fiModelDesc    0.032337"
      ]
     },
     "execution_count": 82,
     "metadata": {},
     "output_type": "execute_result"
    }
   ],
   "source": [
    "fi[:10]"
   ]
  },
  {
   "cell_type": "markdown",
   "metadata": {
    "id": "1NHGzUnvYZkN"
   },
   "source": [
    "We'll try removing the unimportant features and see if it affects the model's performance. First, we set a threshold (0.005) and only take the columns whose importance is greater than that threshold:"
   ]
  },
  {
   "cell_type": "code",
   "execution_count": null,
   "metadata": {
    "colab": {
     "base_uri": "https://localhost:8080/"
    },
    "id": "fdrmQZBWVNBJ",
    "outputId": "8b3adcc5-21e5-43be-9f7c-ca6def7262f5"
   },
   "outputs": [
    {
     "data": {
      "text/plain": [
       "21"
      ]
     },
     "execution_count": 87,
     "metadata": {},
     "output_type": "execute_result"
    }
   ],
   "source": [
    "imp = fi[fi.Importance > 0.005].Feature\n",
    "len(imp)"
   ]
  },
  {
   "cell_type": "markdown",
   "metadata": {
    "id": "nGLbHZwJYcnb"
   },
   "source": [
    "Then, we make new training and validation sets:"
   ]
  },
  {
   "cell_type": "code",
   "execution_count": null,
   "metadata": {
    "colab": {
     "base_uri": "https://localhost:8080/",
     "height": 424
    },
    "id": "WgLEgVztYmzu",
    "outputId": "79dbaa47-e3e1-4897-a696-96332d7c4336"
   },
   "outputs": [
    {
     "data": {
      "text/html": [
       "\n",
       "  <div id=\"df-cef0822f-0cde-4faf-b340-5af7a188b5e8\">\n",
       "    <div class=\"colab-df-container\">\n",
       "      <div>\n",
       "<style scoped>\n",
       "    .dataframe tbody tr th:only-of-type {\n",
       "        vertical-align: middle;\n",
       "    }\n",
       "\n",
       "    .dataframe tbody tr th {\n",
       "        vertical-align: top;\n",
       "    }\n",
       "\n",
       "    .dataframe thead th {\n",
       "        text-align: right;\n",
       "    }\n",
       "</style>\n",
       "<table border=\"1\" class=\"dataframe\">\n",
       "  <thead>\n",
       "    <tr style=\"text-align: right;\">\n",
       "      <th></th>\n",
       "      <th>YearMade</th>\n",
       "      <th>ProductSize</th>\n",
       "      <th>Coupler_System</th>\n",
       "      <th>fiProductClassDesc</th>\n",
       "      <th>...</th>\n",
       "      <th>Drive_System</th>\n",
       "      <th>MachineID</th>\n",
       "      <th>Hydraulics</th>\n",
       "      <th>Tire_Size</th>\n",
       "    </tr>\n",
       "  </thead>\n",
       "  <tbody>\n",
       "    <tr>\n",
       "      <th>0</th>\n",
       "      <td>2004</td>\n",
       "      <td>0</td>\n",
       "      <td>0</td>\n",
       "      <td>59</td>\n",
       "      <td>...</td>\n",
       "      <td>0</td>\n",
       "      <td>999089</td>\n",
       "      <td>1</td>\n",
       "      <td>17</td>\n",
       "    </tr>\n",
       "    <tr>\n",
       "      <th>1</th>\n",
       "      <td>1996</td>\n",
       "      <td>3</td>\n",
       "      <td>0</td>\n",
       "      <td>62</td>\n",
       "      <td>...</td>\n",
       "      <td>0</td>\n",
       "      <td>117657</td>\n",
       "      <td>1</td>\n",
       "      <td>12</td>\n",
       "    </tr>\n",
       "    <tr>\n",
       "      <th>2</th>\n",
       "      <td>2001</td>\n",
       "      <td>0</td>\n",
       "      <td>1</td>\n",
       "      <td>39</td>\n",
       "      <td>...</td>\n",
       "      <td>0</td>\n",
       "      <td>434808</td>\n",
       "      <td>4</td>\n",
       "      <td>0</td>\n",
       "    </tr>\n",
       "    <tr>\n",
       "      <th>3</th>\n",
       "      <td>2001</td>\n",
       "      <td>4</td>\n",
       "      <td>0</td>\n",
       "      <td>8</td>\n",
       "      <td>...</td>\n",
       "      <td>0</td>\n",
       "      <td>1026470</td>\n",
       "      <td>1</td>\n",
       "      <td>0</td>\n",
       "    </tr>\n",
       "    <tr>\n",
       "      <th>4</th>\n",
       "      <td>2007</td>\n",
       "      <td>0</td>\n",
       "      <td>1</td>\n",
       "      <td>40</td>\n",
       "      <td>...</td>\n",
       "      <td>0</td>\n",
       "      <td>1057373</td>\n",
       "      <td>4</td>\n",
       "      <td>0</td>\n",
       "    </tr>\n",
       "    <tr>\n",
       "      <th>...</th>\n",
       "      <td>...</td>\n",
       "      <td>...</td>\n",
       "      <td>...</td>\n",
       "      <td>...</td>\n",
       "      <td>...</td>\n",
       "      <td>...</td>\n",
       "      <td>...</td>\n",
       "      <td>...</td>\n",
       "      <td>...</td>\n",
       "    </tr>\n",
       "    <tr>\n",
       "      <th>412693</th>\n",
       "      <td>2005</td>\n",
       "      <td>5</td>\n",
       "      <td>0</td>\n",
       "      <td>13</td>\n",
       "      <td>...</td>\n",
       "      <td>0</td>\n",
       "      <td>1919201</td>\n",
       "      <td>12</td>\n",
       "      <td>0</td>\n",
       "    </tr>\n",
       "    <tr>\n",
       "      <th>412694</th>\n",
       "      <td>2005</td>\n",
       "      <td>5</td>\n",
       "      <td>0</td>\n",
       "      <td>17</td>\n",
       "      <td>...</td>\n",
       "      <td>0</td>\n",
       "      <td>1882122</td>\n",
       "      <td>4</td>\n",
       "      <td>0</td>\n",
       "    </tr>\n",
       "    <tr>\n",
       "      <th>412695</th>\n",
       "      <td>2005</td>\n",
       "      <td>5</td>\n",
       "      <td>0</td>\n",
       "      <td>13</td>\n",
       "      <td>...</td>\n",
       "      <td>0</td>\n",
       "      <td>1944213</td>\n",
       "      <td>4</td>\n",
       "      <td>0</td>\n",
       "    </tr>\n",
       "    <tr>\n",
       "      <th>412696</th>\n",
       "      <td>2006</td>\n",
       "      <td>5</td>\n",
       "      <td>0</td>\n",
       "      <td>13</td>\n",
       "      <td>...</td>\n",
       "      <td>0</td>\n",
       "      <td>1794518</td>\n",
       "      <td>4</td>\n",
       "      <td>0</td>\n",
       "    </tr>\n",
       "    <tr>\n",
       "      <th>412697</th>\n",
       "      <td>2006</td>\n",
       "      <td>5</td>\n",
       "      <td>0</td>\n",
       "      <td>17</td>\n",
       "      <td>...</td>\n",
       "      <td>0</td>\n",
       "      <td>1944743</td>\n",
       "      <td>4</td>\n",
       "      <td>0</td>\n",
       "    </tr>\n",
       "  </tbody>\n",
       "</table>\n",
       "<p>406944 rows × 21 columns</p>\n",
       "</div>\n",
       "      <button class=\"colab-df-convert\" onclick=\"convertToInteractive('df-cef0822f-0cde-4faf-b340-5af7a188b5e8')\"\n",
       "              title=\"Convert this dataframe to an interactive table.\"\n",
       "              style=\"display:none;\">\n",
       "        \n",
       "  <svg xmlns=\"http://www.w3.org/2000/svg\" height=\"24px\"viewBox=\"0 0 24 24\"\n",
       "       width=\"24px\">\n",
       "    <path d=\"M0 0h24v24H0V0z\" fill=\"none\"/>\n",
       "    <path d=\"M18.56 5.44l.94 2.06.94-2.06 2.06-.94-2.06-.94-.94-2.06-.94 2.06-2.06.94zm-11 1L8.5 8.5l.94-2.06 2.06-.94-2.06-.94L8.5 2.5l-.94 2.06-2.06.94zm10 10l.94 2.06.94-2.06 2.06-.94-2.06-.94-.94-2.06-.94 2.06-2.06.94z\"/><path d=\"M17.41 7.96l-1.37-1.37c-.4-.4-.92-.59-1.43-.59-.52 0-1.04.2-1.43.59L10.3 9.45l-7.72 7.72c-.78.78-.78 2.05 0 2.83L4 21.41c.39.39.9.59 1.41.59.51 0 1.02-.2 1.41-.59l7.78-7.78 2.81-2.81c.8-.78.8-2.07 0-2.86zM5.41 20L4 18.59l7.72-7.72 1.47 1.35L5.41 20z\"/>\n",
       "  </svg>\n",
       "      </button>\n",
       "      \n",
       "  <style>\n",
       "    .colab-df-container {\n",
       "      display:flex;\n",
       "      flex-wrap:wrap;\n",
       "      gap: 12px;\n",
       "    }\n",
       "\n",
       "    .colab-df-convert {\n",
       "      background-color: #E8F0FE;\n",
       "      border: none;\n",
       "      border-radius: 50%;\n",
       "      cursor: pointer;\n",
       "      display: none;\n",
       "      fill: #1967D2;\n",
       "      height: 32px;\n",
       "      padding: 0 0 0 0;\n",
       "      width: 32px;\n",
       "    }\n",
       "\n",
       "    .colab-df-convert:hover {\n",
       "      background-color: #E2EBFA;\n",
       "      box-shadow: 0px 1px 2px rgba(60, 64, 67, 0.3), 0px 1px 3px 1px rgba(60, 64, 67, 0.15);\n",
       "      fill: #174EA6;\n",
       "    }\n",
       "\n",
       "    [theme=dark] .colab-df-convert {\n",
       "      background-color: #3B4455;\n",
       "      fill: #D2E3FC;\n",
       "    }\n",
       "\n",
       "    [theme=dark] .colab-df-convert:hover {\n",
       "      background-color: #434B5C;\n",
       "      box-shadow: 0px 1px 3px 1px rgba(0, 0, 0, 0.15);\n",
       "      filter: drop-shadow(0px 1px 2px rgba(0, 0, 0, 0.3));\n",
       "      fill: #FFFFFF;\n",
       "    }\n",
       "  </style>\n",
       "\n",
       "      <script>\n",
       "        const buttonEl =\n",
       "          document.querySelector('#df-cef0822f-0cde-4faf-b340-5af7a188b5e8 button.colab-df-convert');\n",
       "        buttonEl.style.display =\n",
       "          google.colab.kernel.accessAllowed ? 'block' : 'none';\n",
       "\n",
       "        async function convertToInteractive(key) {\n",
       "          const element = document.querySelector('#df-cef0822f-0cde-4faf-b340-5af7a188b5e8');\n",
       "          const dataTable =\n",
       "            await google.colab.kernel.invokeFunction('convertToInteractive',\n",
       "                                                     [key], {});\n",
       "          if (!dataTable) return;\n",
       "\n",
       "          const docLinkHtml = 'Like what you see? Visit the ' +\n",
       "            '<a target=\"_blank\" href=https://colab.research.google.com/notebooks/data_table.ipynb>data table notebook</a>'\n",
       "            + ' to learn more about interactive tables.';\n",
       "          element.innerHTML = '';\n",
       "          dataTable['output_type'] = 'display_data';\n",
       "          await google.colab.output.renderOutput(dataTable, element);\n",
       "          const docLink = document.createElement('div');\n",
       "          docLink.innerHTML = docLinkHtml;\n",
       "          element.appendChild(docLink);\n",
       "        }\n",
       "      </script>\n",
       "    </div>\n",
       "  </div>\n",
       "  "
      ],
      "text/plain": [
       "        YearMade  ProductSize  Coupler_System  fiProductClassDesc  ...  \\\n",
       "0           2004            0               0                  59  ...   \n",
       "1           1996            3               0                  62  ...   \n",
       "2           2001            0               1                  39  ...   \n",
       "3           2001            4               0                   8  ...   \n",
       "4           2007            0               1                  40  ...   \n",
       "...          ...          ...             ...                 ...  ...   \n",
       "412693      2005            5               0                  13  ...   \n",
       "412694      2005            5               0                  17  ...   \n",
       "412695      2005            5               0                  13  ...   \n",
       "412696      2006            5               0                  13  ...   \n",
       "412697      2006            5               0                  17  ...   \n",
       "\n",
       "        Drive_System  MachineID  Hydraulics  Tire_Size  \n",
       "0                  0     999089           1         17  \n",
       "1                  0     117657           1         12  \n",
       "2                  0     434808           4          0  \n",
       "3                  0    1026470           1          0  \n",
       "4                  0    1057373           4          0  \n",
       "...              ...        ...         ...        ...  \n",
       "412693             0    1919201          12          0  \n",
       "412694             0    1882122           4          0  \n",
       "412695             0    1944213           4          0  \n",
       "412696             0    1794518           4          0  \n",
       "412697             0    1944743           4          0  \n",
       "\n",
       "[406944 rows x 21 columns]"
      ]
     },
     "execution_count": 88,
     "metadata": {},
     "output_type": "execute_result"
    }
   ],
   "source": [
    "train_xs_imp = train_xs[imp]\n",
    "valid_xs_imp = valid_xs[imp]\n",
    "train_xs_imp"
   ]
  },
  {
   "cell_type": "markdown",
   "metadata": {
    "id": "DORmiraxZUEU"
   },
   "source": [
    "Finally, we train a new model using the new training set:"
   ]
  },
  {
   "cell_type": "code",
   "execution_count": null,
   "metadata": {
    "id": "fE_-6BK_ZQsC"
   },
   "outputs": [],
   "source": [
    "m_imp = rf(train_xs_imp, train_y)"
   ]
  },
  {
   "cell_type": "code",
   "execution_count": null,
   "metadata": {
    "colab": {
     "base_uri": "https://localhost:8080/"
    },
    "id": "R26g3etkZZ77",
    "outputId": "c0dfab46-82a0-47ba-fc26-9d4d0e4d5dbf"
   },
   "outputs": [
    {
     "data": {
      "text/plain": [
       "(0.181282, 0.233111)"
      ]
     },
     "execution_count": 90,
     "metadata": {},
     "output_type": "execute_result"
    }
   ],
   "source": [
    "m_rmse(m_imp, train_xs_imp, train_y), m_rmse(m_imp, valid_xs_imp, valid_y)"
   ]
  },
  {
   "cell_type": "markdown",
   "metadata": {
    "id": "FoBJNyNaZp8m"
   },
   "source": [
    "Although our training metric become a bit worse, our validation metric isn't far off, so we can train future models using this new training set since we can effectively remove 2/3 of the \"unncessary\" columns. "
   ]
  },
  {
   "cell_type": "code",
   "execution_count": null,
   "metadata": {
    "id": "Kof8W2NPa79o"
   },
   "outputs": [],
   "source": [
    "#hide\n",
    "save_pickle(\"xs_imp.pkl\", train_xs_imp)\n",
    "save_pickle(\"valid_xs_imp.pkl\", valid_xs_imp)"
   ]
  },
  {
   "cell_type": "code",
   "execution_count": null,
   "metadata": {
    "id": "FEW5NNkib0-e"
   },
   "outputs": [],
   "source": [
    "#hide\n",
    "train_xs_imp = load_pickle(\"xs_imp.pkl\")\n",
    "valid_xs_imp = load_pickle(\"valid_xs_imp.pkl\")\n",
    "train_y, valid_y = tp.train.y, tp.valid.y"
   ]
  },
  {
   "cell_type": "markdown",
   "metadata": {
    "id": "ahx0MccbacK6"
   },
   "source": [
    "Next, we'll remove the redundant columns. We'll use `cluster_columns` which determines feature similarity through rank correlation. "
   ]
  },
  {
   "cell_type": "code",
   "execution_count": null,
   "metadata": {
    "colab": {
     "base_uri": "https://localhost:8080/",
     "height": 374
    },
    "id": "w06Yx46LZ0VW",
    "outputId": "e92a2cf1-8995-462b-e9c2-48db76945871"
   },
   "outputs": [
    {
     "data": {
      "image/png": "[encoded data removed]",
      "text/plain": [
       "<Figure size 720x432 with 1 Axes>"
      ]
     },
     "metadata": {
      "needs_background": "light"
     },
     "output_type": "display_data"
    }
   ],
   "source": [
    "cluster_columns(train_xs_imp)"
   ]
  },
  {
   "cell_type": "markdown",
   "metadata": {
    "id": "jDD9oKuNJ_sX"
   },
   "source": [
    "We'll see how removing each redundant feature affects the model's capability by defining a function that trains a quick random forest model and returns its out-of-box error:"
   ]
  },
  {
   "cell_type": "code",
   "execution_count": 10,
   "metadata": {
    "id": "cc1Zo2qJKI2L"
   },
   "outputs": [],
   "source": [
    "def get_oob(df):\n",
    "    m = RandomForestRegressor(\n",
    "        n_estimators = 40, \n",
    "        min_samples_leaf = 15, # higher to have a shorter depth tree\n",
    "        max_samples = 50_000,\n",
    "        max_features = 0.5,\n",
    "        n_jobs = -1,\n",
    "        oob_score = True).fit(df, train_y)\n",
    "    return m.oob_score_"
   ]
  },
  {
   "cell_type": "markdown",
   "metadata": {
    "id": "fAikFqApK9LW"
   },
   "source": [
    "The `oob_score_`, unlike `oob_prediction_`, returns $R^2$, so a perfect model has a score of 1.0 while a random models has 0.0. As a baseline, we'll first find the `oob_score_` of our current training set:"
   ]
  },
  {
   "cell_type": "code",
   "execution_count": null,
   "metadata": {
    "colab": {
     "base_uri": "https://localhost:8080/"
    },
    "id": "dejyNUNiLdNE",
    "outputId": "3f6cd7cd-da19-429c-8c6d-ff65ab111e9c"
   },
   "outputs": [
    {
     "data": {
      "text/plain": [
       "0.8771422789129072"
      ]
     },
     "execution_count": 17,
     "metadata": {},
     "output_type": "execute_result"
    }
   ],
   "source": [
    "get_oob(train_xs_imp)"
   ]
  },
  {
   "cell_type": "markdown",
   "metadata": {
    "id": "Ol9xdBreLnFG"
   },
   "source": [
    "Then, we'll try removing each possibly redundant feature one by one:"
   ]
  },
  {
   "cell_type": "code",
   "execution_count": null,
   "metadata": {
    "colab": {
     "base_uri": "https://localhost:8080/"
    },
    "id": "2-WXX4uBLrry",
    "outputId": "f86faed1-c8f3-4263-fb0c-913a549f17e4"
   },
   "outputs": [
    {
     "data": {
      "text/plain": [
       "{'Coupler_System': 0.8777286429358461,\n",
       " 'Grouser_Tracks': 0.8781106723829636,\n",
       " 'Hydraulics_Flow': 0.8778805337963219,\n",
       " 'ProductGroup': 0.87719310108094,\n",
       " 'ProductGroupDesc': 0.877706764282738,\n",
       " 'fiBaseModel': 0.8755285591209638,\n",
       " 'fiModelDesc': 0.8760491649430575,\n",
       " 'saleElapsed': 0.8726949857217733,\n",
       " 'saleYear': 0.8762485106840037}"
      ]
     },
     "execution_count": 19,
     "metadata": {},
     "output_type": "execute_result"
    }
   ],
   "source": [
    "{c: get_oob(train_xs_imp.drop(labels = c, axis = 'columns'))\n",
    "            for c in ('saleYear', 'saleElapsed', 'Grouser_Tracks', \n",
    "                      'Hydraulics_Flow', 'Coupler_System', \n",
    "                      'ProductGroup', 'ProductGroupDesc',\n",
    "                      'fiBaseModel', 'fiModelDesc')}"
   ]
  },
  {
   "cell_type": "markdown",
   "metadata": {
    "id": "HUFD8ZjyNntv"
   },
   "source": [
    "Since the out-of-box score didn't change much, we'll try leaving just one of them in each group:"
   ]
  },
  {
   "cell_type": "code",
   "execution_count": null,
   "metadata": {
    "colab": {
     "base_uri": "https://localhost:8080/"
    },
    "id": "KuznGT3fNt2h",
    "outputId": "ddf0891a-2b96-4540-e2eb-4954c2171917"
   },
   "outputs": [
    {
     "data": {
      "text/plain": [
       "0.8754873568883906"
      ]
     },
     "execution_count": 21,
     "metadata": {},
     "output_type": "execute_result"
    }
   ],
   "source": [
    "to_drop = ['saleYear', 'Grouser_Tracks', 'Hydraulics_Flow', 'ProductGroup', 'fiBaseModel']\n",
    "get_oob(train_xs_imp.drop(to_drop, axis = 1))"
   ]
  },
  {
   "cell_type": "markdown",
   "metadata": {
    "id": "Im584in8Oj9m"
   },
   "source": [
    "The score ultimately only goes down by 0.002 from our baseline, so we'll drop these labels from our training and validation set."
   ]
  },
  {
   "cell_type": "code",
   "execution_count": null,
   "metadata": {
    "id": "_glPRhXBOwkp"
   },
   "outputs": [],
   "source": [
    "train_xs_fin = train_xs_imp.drop(to_drop, axis = 1)\n",
    "valid_xs_fin = valid_xs_imp.drop(to_drop, axis = 1)"
   ]
  },
  {
   "cell_type": "markdown",
   "metadata": {
    "id": "iXHMyGZCSKnS"
   },
   "source": [
    "While we're at it, we'll also adjust the years so that the minimum year isn't at 1000 but instead at 1950"
   ]
  },
  {
   "cell_type": "code",
   "execution_count": null,
   "metadata": {
    "id": "Wd9vMK07ST7J"
   },
   "outputs": [],
   "source": [
    "train_xs_fin.loc[train_xs_fin.YearMade < 1950, 'YearMade'] = 1950\n",
    "valid_xs_fin.loc[valid_xs_fin.YearMade < 1950, 'YearMade'] = 1950"
   ]
  },
  {
   "cell_type": "code",
   "execution_count": null,
   "metadata": {
    "id": "rYP0_ZlUO8T8"
   },
   "outputs": [],
   "source": [
    "#hide\n",
    "save_pickle('train_xs_fin.pkl', train_xs_fin)\n",
    "save_pickle('valid_xs_fin.pkl', valid_xs_fin)"
   ]
  },
  {
   "cell_type": "code",
   "execution_count": null,
   "metadata": {
    "id": "9EIzR5d4PEuO"
   },
   "outputs": [],
   "source": [
    "#hide\n",
    "train_xs_fin = load_pickle(\"train_xs_fin.pkl\")\n",
    "valid_xs_fin = load_pickle(\"valid_xs_fin.pkl\")\n",
    "train_y, valid_y = tp.train.y, tp.valid.y"
   ]
  },
  {
   "cell_type": "markdown",
   "metadata": {
    "id": "x2XNCUe6PLRN"
   },
   "source": [
    "Now, we'll check that our RMSE didn't decrease significantly:"
   ]
  },
  {
   "cell_type": "code",
   "execution_count": null,
   "metadata": {
    "colab": {
     "base_uri": "https://localhost:8080/"
    },
    "id": "o10BT8FEPJ0N",
    "outputId": "95f377e2-5c7f-4907-e697-ca417606a555"
   },
   "outputs": [
    {
     "data": {
      "text/plain": [
       "(0.182645, 0.234452)"
      ]
     },
     "execution_count": 16,
     "metadata": {},
     "output_type": "execute_result"
    }
   ],
   "source": [
    "m = rf(train_xs_fin, train_y)\n",
    "m_rmse(m, train_xs_fin, train_y), m_rmse(m, valid_xs_fin, valid_y)"
   ]
  },
  {
   "cell_type": "markdown",
   "metadata": {
    "id": "m0ZlbrHsP8gk"
   },
   "source": [
    "The validation RMSE didn't decrease much and now we only have 16 columns instead of 66. "
   ]
  },
  {
   "cell_type": "code",
   "execution_count": null,
   "metadata": {
    "colab": {
     "base_uri": "https://localhost:8080/"
    },
    "id": "O51iJCGKP78K",
    "outputId": "4ffca181-4d97-40e3-ccb6-dd489e224d5d"
   },
   "outputs": [
    {
     "data": {
      "text/plain": [
       "16"
      ]
     },
     "execution_count": 44,
     "metadata": {},
     "output_type": "execute_result"
    }
   ],
   "source": [
    "len(train_xs_fin.columns)"
   ]
  },
  {
   "cell_type": "code",
   "execution_count": null,
   "metadata": {
    "colab": {
     "base_uri": "https://localhost:8080/",
     "height": 551
    },
    "id": "J1Db2N7FQM88",
    "outputId": "386f57bd-283e-48c2-9aa1-dc81154a5a67"
   },
   "outputs": [
    {
     "data": {
      "text/html": [
       "\n",
       "  <div id=\"df-68f05940-b9d4-460d-8a96-4d4c8caeea6b\">\n",
       "    <div class=\"colab-df-container\">\n",
       "      <div>\n",
       "<style scoped>\n",
       "    .dataframe tbody tr th:only-of-type {\n",
       "        vertical-align: middle;\n",
       "    }\n",
       "\n",
       "    .dataframe tbody tr th {\n",
       "        vertical-align: top;\n",
       "    }\n",
       "\n",
       "    .dataframe thead th {\n",
       "        text-align: right;\n",
       "    }\n",
       "</style>\n",
       "<table border=\"1\" class=\"dataframe\">\n",
       "  <thead>\n",
       "    <tr style=\"text-align: right;\">\n",
       "      <th></th>\n",
       "      <th>Feature</th>\n",
       "      <th>Importance</th>\n",
       "    </tr>\n",
       "  </thead>\n",
       "  <tbody>\n",
       "    <tr>\n",
       "      <th>0</th>\n",
       "      <td>YearMade</td>\n",
       "      <td>0.174341</td>\n",
       "    </tr>\n",
       "    <tr>\n",
       "      <th>2</th>\n",
       "      <td>Coupler_System</td>\n",
       "      <td>0.145615</td>\n",
       "    </tr>\n",
       "    <tr>\n",
       "      <th>1</th>\n",
       "      <td>ProductSize</td>\n",
       "      <td>0.120675</td>\n",
       "    </tr>\n",
       "    <tr>\n",
       "      <th>3</th>\n",
       "      <td>fiProductClassDesc</td>\n",
       "      <td>0.075403</td>\n",
       "    </tr>\n",
       "    <tr>\n",
       "      <th>5</th>\n",
       "      <td>saleElapsed</td>\n",
       "      <td>0.074216</td>\n",
       "    </tr>\n",
       "    <tr>\n",
       "      <th>7</th>\n",
       "      <td>Enclosure</td>\n",
       "      <td>0.064746</td>\n",
       "    </tr>\n",
       "    <tr>\n",
       "      <th>4</th>\n",
       "      <td>ModelID</td>\n",
       "      <td>0.059728</td>\n",
       "    </tr>\n",
       "    <tr>\n",
       "      <th>6</th>\n",
       "      <td>fiSecondaryDesc</td>\n",
       "      <td>0.058188</td>\n",
       "    </tr>\n",
       "    <tr>\n",
       "      <th>10</th>\n",
       "      <td>ProductGroupDesc</td>\n",
       "      <td>0.051185</td>\n",
       "    </tr>\n",
       "    <tr>\n",
       "      <th>8</th>\n",
       "      <td>fiModelDesc</td>\n",
       "      <td>0.047211</td>\n",
       "    </tr>\n",
       "    <tr>\n",
       "      <th>9</th>\n",
       "      <td>SalesID</td>\n",
       "      <td>0.035118</td>\n",
       "    </tr>\n",
       "    <tr>\n",
       "      <th>11</th>\n",
       "      <td>fiModelDescriptor</td>\n",
       "      <td>0.028028</td>\n",
       "    </tr>\n",
       "    <tr>\n",
       "      <th>14</th>\n",
       "      <td>Hydraulics</td>\n",
       "      <td>0.024462</td>\n",
       "    </tr>\n",
       "    <tr>\n",
       "      <th>13</th>\n",
       "      <td>MachineID</td>\n",
       "      <td>0.020888</td>\n",
       "    </tr>\n",
       "    <tr>\n",
       "      <th>15</th>\n",
       "      <td>Tire_Size</td>\n",
       "      <td>0.010649</td>\n",
       "    </tr>\n",
       "    <tr>\n",
       "      <th>12</th>\n",
       "      <td>Drive_System</td>\n",
       "      <td>0.009547</td>\n",
       "    </tr>\n",
       "  </tbody>\n",
       "</table>\n",
       "</div>\n",
       "      <button class=\"colab-df-convert\" onclick=\"convertToInteractive('df-68f05940-b9d4-460d-8a96-4d4c8caeea6b')\"\n",
       "              title=\"Convert this dataframe to an interactive table.\"\n",
       "              style=\"display:none;\">\n",
       "        \n",
       "  <svg xmlns=\"http://www.w3.org/2000/svg\" height=\"24px\"viewBox=\"0 0 24 24\"\n",
       "       width=\"24px\">\n",
       "    <path d=\"M0 0h24v24H0V0z\" fill=\"none\"/>\n",
       "    <path d=\"M18.56 5.44l.94 2.06.94-2.06 2.06-.94-2.06-.94-.94-2.06-.94 2.06-2.06.94zm-11 1L8.5 8.5l.94-2.06 2.06-.94-2.06-.94L8.5 2.5l-.94 2.06-2.06.94zm10 10l.94 2.06.94-2.06 2.06-.94-2.06-.94-.94-2.06-.94 2.06-2.06.94z\"/><path d=\"M17.41 7.96l-1.37-1.37c-.4-.4-.92-.59-1.43-.59-.52 0-1.04.2-1.43.59L10.3 9.45l-7.72 7.72c-.78.78-.78 2.05 0 2.83L4 21.41c.39.39.9.59 1.41.59.51 0 1.02-.2 1.41-.59l7.78-7.78 2.81-2.81c.8-.78.8-2.07 0-2.86zM5.41 20L4 18.59l7.72-7.72 1.47 1.35L5.41 20z\"/>\n",
       "  </svg>\n",
       "      </button>\n",
       "      \n",
       "  <style>\n",
       "    .colab-df-container {\n",
       "      display:flex;\n",
       "      flex-wrap:wrap;\n",
       "      gap: 12px;\n",
       "    }\n",
       "\n",
       "    .colab-df-convert {\n",
       "      background-color: #E8F0FE;\n",
       "      border: none;\n",
       "      border-radius: 50%;\n",
       "      cursor: pointer;\n",
       "      display: none;\n",
       "      fill: #1967D2;\n",
       "      height: 32px;\n",
       "      padding: 0 0 0 0;\n",
       "      width: 32px;\n",
       "    }\n",
       "\n",
       "    .colab-df-convert:hover {\n",
       "      background-color: #E2EBFA;\n",
       "      box-shadow: 0px 1px 2px rgba(60, 64, 67, 0.3), 0px 1px 3px 1px rgba(60, 64, 67, 0.15);\n",
       "      fill: #174EA6;\n",
       "    }\n",
       "\n",
       "    [theme=dark] .colab-df-convert {\n",
       "      background-color: #3B4455;\n",
       "      fill: #D2E3FC;\n",
       "    }\n",
       "\n",
       "    [theme=dark] .colab-df-convert:hover {\n",
       "      background-color: #434B5C;\n",
       "      box-shadow: 0px 1px 3px 1px rgba(0, 0, 0, 0.15);\n",
       "      filter: drop-shadow(0px 1px 2px rgba(0, 0, 0, 0.3));\n",
       "      fill: #FFFFFF;\n",
       "    }\n",
       "  </style>\n",
       "\n",
       "      <script>\n",
       "        const buttonEl =\n",
       "          document.querySelector('#df-68f05940-b9d4-460d-8a96-4d4c8caeea6b button.colab-df-convert');\n",
       "        buttonEl.style.display =\n",
       "          google.colab.kernel.accessAllowed ? 'block' : 'none';\n",
       "\n",
       "        async function convertToInteractive(key) {\n",
       "          const element = document.querySelector('#df-68f05940-b9d4-460d-8a96-4d4c8caeea6b');\n",
       "          const dataTable =\n",
       "            await google.colab.kernel.invokeFunction('convertToInteractive',\n",
       "                                                     [key], {});\n",
       "          if (!dataTable) return;\n",
       "\n",
       "          const docLinkHtml = 'Like what you see? Visit the ' +\n",
       "            '<a target=\"_blank\" href=https://colab.research.google.com/notebooks/data_table.ipynb>data table notebook</a>'\n",
       "            + ' to learn more about interactive tables.';\n",
       "          element.innerHTML = '';\n",
       "          dataTable['output_type'] = 'display_data';\n",
       "          await google.colab.output.renderOutput(dataTable, element);\n",
       "          const docLink = document.createElement('div');\n",
       "          docLink.innerHTML = docLinkHtml;\n",
       "          element.appendChild(docLink);\n",
       "        }\n",
       "      </script>\n",
       "    </div>\n",
       "  </div>\n",
       "  "
      ],
      "text/plain": [
       "               Feature  Importance\n",
       "0             YearMade    0.174341\n",
       "2       Coupler_System    0.145615\n",
       "1          ProductSize    0.120675\n",
       "3   fiProductClassDesc    0.075403\n",
       "5          saleElapsed    0.074216\n",
       "7            Enclosure    0.064746\n",
       "4              ModelID    0.059728\n",
       "6      fiSecondaryDesc    0.058188\n",
       "10    ProductGroupDesc    0.051185\n",
       "8          fiModelDesc    0.047211\n",
       "9              SalesID    0.035118\n",
       "11   fiModelDescriptor    0.028028\n",
       "14          Hydraulics    0.024462\n",
       "13           MachineID    0.020888\n",
       "15           Tire_Size    0.010649\n",
       "12        Drive_System    0.009547"
      ]
     },
     "execution_count": 45,
     "metadata": {},
     "output_type": "execute_result"
    }
   ],
   "source": [
    "#hide\n",
    "fi = feature_importance(train_xs_fin, m)\n",
    "fi"
   ]
  },
  {
   "cell_type": "markdown",
   "metadata": {
    "id": "cqLlHWRBTW5j"
   },
   "source": [
    "With most of the unnecessary features removed, we can revisit feature importance and look at the partial dependence plots of some of the most important features and how our predictions depend on the features:"
   ]
  },
  {
   "cell_type": "code",
   "execution_count": null,
   "metadata": {
    "colab": {
     "base_uri": "https://localhost:8080/",
     "height": 297
    },
    "id": "cHsohpS1QfnR",
    "outputId": "9347e246-2347-4fdc-9b98-100d64966887"
   },
   "outputs": [
    {
     "data": {
      "text/plain": [
       "<sklearn.inspection._plot.partial_dependence.PartialDependenceDisplay at 0x7fa97cbd3150>"
      ]
     },
     "execution_count": 47,
     "metadata": {},
     "output_type": "execute_result"
    },
    {
     "data": {
      "image/png": "[encoded data removed]",
      "text/plain": [
       "<Figure size 1296x288 with 4 Axes>"
      ]
     },
     "metadata": {
      "needs_background": "light"
     },
     "output_type": "display_data"
    }
   ],
   "source": [
    "from sklearn.inspection import PartialDependenceDisplay\n",
    "\n",
    "fig, ax = plt.subplots(figsize = (18, 4))\n",
    "PartialDependenceDisplay.from_estimator(m, train_xs_fin, \n",
    "    ['YearMade', 'Coupler_System', 'ProductSize'], grid_resolution = 20, ax = ax)"
   ]
  },
  {
   "cell_type": "markdown",
   "metadata": {
    "id": "v2rz_BVGTsY4"
   },
   "source": [
    "From these plots, it appears that price has an exponential relationship with year, which makes sense (since products tend to depreciate exponentially over time). But for the other two, the missing data seems to be quite important:"
   ]
  },
  {
   "cell_type": "code",
   "execution_count": null,
   "metadata": {
    "colab": {
     "base_uri": "https://localhost:8080/"
    },
    "id": "dPYQCDoNT6cO",
    "outputId": "c5aacfbe-e915-45ab-a798-02b434f331f8"
   },
   "outputs": [
    {
     "data": {
      "text/plain": [
       "(['#na#', 'None or Unspecified', 'Yes'],\n",
       " ['#na#', 'Large', 'Large / Medium', 'Medium', 'Small', 'Mini', 'Compact'])"
      ]
     },
     "execution_count": 54,
     "metadata": {},
     "output_type": "execute_result"
    }
   ],
   "source": [
    "tp.classes['Coupler_System'], tp.classes['ProductSize']"
   ]
  },
  {
   "cell_type": "markdown",
   "metadata": {
    "id": "QPvO6z88Ucbb"
   },
   "source": [
    "Coupler systems, although it's the second most important feature, makes its most important decision on whether it was filled out or not... and with product sizes, although it makes sense that the price decreases as the size decreases, no size mentioned also plays a significant role. \n",
    "\n",
    "If we were the ones who created the data set, it would be interesting to see why that might be the case. Maybe only data entered after a certain date contained these values, or maybe these columns aren't as important. "
   ]
  },
  {
   "cell_type": "markdown",
   "metadata": {
    "id": "hPGqc944Dvz4"
   },
   "source": [
    "Next, we can look at how the features influence the prediction. To do so, we can use the `treeinterpreter` library to see how the features influence the prediction, and then use the `waterfallcharts` library to draw it."
   ]
  },
  {
   "cell_type": "code",
   "execution_count": null,
   "metadata": {
    "id": "7_SBu8oCD4vz"
   },
   "outputs": [],
   "source": [
    "#hide\n",
    "import warnings\n",
    "warnings.simplefilter('ignore', FutureWarning)\n",
    "\n",
    "from treeinterpreter import treeinterpreter\n",
    "from waterfall_chart import plot as waterfall"
   ]
  },
  {
   "cell_type": "markdown",
   "metadata": {
    "id": "ekQRIpjzENjU"
   },
   "source": [
    "For the `treeinterpreter`, we pass the model and the rows of data for which we want predictions. Then, it returns a tuple of three items:\n",
    "- `prediction` is the predicted value for the dependent variable.\n",
    "- `bias` is the mean of the dependent variable. \n",
    "- `contributions` is a list of contributions made by each feature.\n",
    "\n",
    "So, `prediction = bias - contributions.sum()`. And, we'll plot the contributions using a waterfall chart. "
   ]
  },
  {
   "cell_type": "code",
   "execution_count": null,
   "metadata": {
    "colab": {
     "base_uri": "https://localhost:8080/"
    },
    "id": "k_WKlJ32EcKP",
    "outputId": "aab294fe-a7bb-47ae-cb8a-2edc6258b6b8"
   },
   "outputs": [
    {
     "data": {
      "text/plain": [
       "(array([10.64886316]), 10.104243648162724, 0.5446195099995459)"
      ]
     },
     "execution_count": 22,
     "metadata": {},
     "output_type": "execute_result"
    }
   ],
   "source": [
    "nrows = 1\n",
    "row = 0\n",
    "prediction, bias, contributions = treeinterpreter.predict(m, valid_xs_fin[:nrows].values)\n",
    "prediction[row], bias[row], contributions[row].sum()"
   ]
  },
  {
   "cell_type": "code",
   "execution_count": null,
   "metadata": {
    "colab": {
     "base_uri": "https://localhost:8080/",
     "height": 310
    },
    "id": "yYUDVYWNFwtR",
    "outputId": "5dd26655-1d3b-4971-dd15-d19168a3b59f"
   },
   "outputs": [
    {
     "data": {
      "text/plain": [
       "<module 'matplotlib.pyplot' from '/usr/local/lib/python3.7/dist-packages/matplotlib/pyplot.py'>"
      ]
     },
     "execution_count": 39,
     "metadata": {},
     "output_type": "execute_result"
    },
    {
     "data": {
      "image/png": "[encoded data removed]",
      "text/plain": [
       "<Figure size 432x288 with 1 Axes>"
      ]
     },
     "metadata": {
      "needs_background": "light"
     },
     "output_type": "display_data"
    }
   ],
   "source": [
    "waterfall(valid_xs_fin.columns, contributions[row], \n",
    "          rotation_value = 90, formatting = '{:,.2f}', net_label = 'Total')"
   ]
  },
  {
   "cell_type": "markdown",
   "metadata": {
    "id": "8AAfP9odHKFJ"
   },
   "source": [
    "So, it seems that `YearMade`, `ModelID`, `fiSecondaryDesc`, and `fiModelDesc` were the most important features for this row's prediction. \n",
    "\n",
    "But, it's a bit weird that `ModelID` is an important feature. What would happen when we have a new system for `ModelID` in the future? So, we should try to find out-of-domain data by combining our training and validation sets and train a model to predict whether a row is from the training or validation set."
   ]
  },
  {
   "cell_type": "code",
   "execution_count": null,
   "metadata": {
    "id": "gQKUKu-rHZhQ"
   },
   "outputs": [],
   "source": [
    "df_domain = pd.concat([train_xs_fin, valid_xs_fin])\n",
    "is_valid  = np.array([0] * len(train_xs_fin) + [1] * len(valid_xs_fin))\n",
    "m         = rf(df_domain, is_valid)"
   ]
  },
  {
   "cell_type": "code",
   "execution_count": null,
   "metadata": {
    "colab": {
     "base_uri": "https://localhost:8080/",
     "height": 238
    },
    "id": "0Iph_kXqIO9v",
    "outputId": "bb0cd9a0-5746-40ee-b222-eac1f537036a"
   },
   "outputs": [
    {
     "data": {
      "text/html": [
       "\n",
       "  <div id=\"df-a43ae98a-084f-4f5f-a274-5f606f46f32d\">\n",
       "    <div class=\"colab-df-container\">\n",
       "      <div>\n",
       "<style scoped>\n",
       "    .dataframe tbody tr th:only-of-type {\n",
       "        vertical-align: middle;\n",
       "    }\n",
       "\n",
       "    .dataframe tbody tr th {\n",
       "        vertical-align: top;\n",
       "    }\n",
       "\n",
       "    .dataframe thead th {\n",
       "        text-align: right;\n",
       "    }\n",
       "</style>\n",
       "<table border=\"1\" class=\"dataframe\">\n",
       "  <thead>\n",
       "    <tr style=\"text-align: right;\">\n",
       "      <th></th>\n",
       "      <th>Feature</th>\n",
       "      <th>Importance</th>\n",
       "    </tr>\n",
       "  </thead>\n",
       "  <tbody>\n",
       "    <tr>\n",
       "      <th>5</th>\n",
       "      <td>saleElapsed</td>\n",
       "      <td>0.919558</td>\n",
       "    </tr>\n",
       "    <tr>\n",
       "      <th>9</th>\n",
       "      <td>SalesID</td>\n",
       "      <td>0.061309</td>\n",
       "    </tr>\n",
       "    <tr>\n",
       "      <th>13</th>\n",
       "      <td>MachineID</td>\n",
       "      <td>0.014026</td>\n",
       "    </tr>\n",
       "    <tr>\n",
       "      <th>0</th>\n",
       "      <td>YearMade</td>\n",
       "      <td>0.000824</td>\n",
       "    </tr>\n",
       "    <tr>\n",
       "      <th>4</th>\n",
       "      <td>ModelID</td>\n",
       "      <td>0.000767</td>\n",
       "    </tr>\n",
       "    <tr>\n",
       "      <th>11</th>\n",
       "      <td>fiModelDescriptor</td>\n",
       "      <td>0.000733</td>\n",
       "    </tr>\n",
       "  </tbody>\n",
       "</table>\n",
       "</div>\n",
       "      <button class=\"colab-df-convert\" onclick=\"convertToInteractive('df-a43ae98a-084f-4f5f-a274-5f606f46f32d')\"\n",
       "              title=\"Convert this dataframe to an interactive table.\"\n",
       "              style=\"display:none;\">\n",
       "        \n",
       "  <svg xmlns=\"http://www.w3.org/2000/svg\" height=\"24px\"viewBox=\"0 0 24 24\"\n",
       "       width=\"24px\">\n",
       "    <path d=\"M0 0h24v24H0V0z\" fill=\"none\"/>\n",
       "    <path d=\"M18.56 5.44l.94 2.06.94-2.06 2.06-.94-2.06-.94-.94-2.06-.94 2.06-2.06.94zm-11 1L8.5 8.5l.94-2.06 2.06-.94-2.06-.94L8.5 2.5l-.94 2.06-2.06.94zm10 10l.94 2.06.94-2.06 2.06-.94-2.06-.94-.94-2.06-.94 2.06-2.06.94z\"/><path d=\"M17.41 7.96l-1.37-1.37c-.4-.4-.92-.59-1.43-.59-.52 0-1.04.2-1.43.59L10.3 9.45l-7.72 7.72c-.78.78-.78 2.05 0 2.83L4 21.41c.39.39.9.59 1.41.59.51 0 1.02-.2 1.41-.59l7.78-7.78 2.81-2.81c.8-.78.8-2.07 0-2.86zM5.41 20L4 18.59l7.72-7.72 1.47 1.35L5.41 20z\"/>\n",
       "  </svg>\n",
       "      </button>\n",
       "      \n",
       "  <style>\n",
       "    .colab-df-container {\n",
       "      display:flex;\n",
       "      flex-wrap:wrap;\n",
       "      gap: 12px;\n",
       "    }\n",
       "\n",
       "    .colab-df-convert {\n",
       "      background-color: #E8F0FE;\n",
       "      border: none;\n",
       "      border-radius: 50%;\n",
       "      cursor: pointer;\n",
       "      display: none;\n",
       "      fill: #1967D2;\n",
       "      height: 32px;\n",
       "      padding: 0 0 0 0;\n",
       "      width: 32px;\n",
       "    }\n",
       "\n",
       "    .colab-df-convert:hover {\n",
       "      background-color: #E2EBFA;\n",
       "      box-shadow: 0px 1px 2px rgba(60, 64, 67, 0.3), 0px 1px 3px 1px rgba(60, 64, 67, 0.15);\n",
       "      fill: #174EA6;\n",
       "    }\n",
       "\n",
       "    [theme=dark] .colab-df-convert {\n",
       "      background-color: #3B4455;\n",
       "      fill: #D2E3FC;\n",
       "    }\n",
       "\n",
       "    [theme=dark] .colab-df-convert:hover {\n",
       "      background-color: #434B5C;\n",
       "      box-shadow: 0px 1px 3px 1px rgba(0, 0, 0, 0.15);\n",
       "      filter: drop-shadow(0px 1px 2px rgba(0, 0, 0, 0.3));\n",
       "      fill: #FFFFFF;\n",
       "    }\n",
       "  </style>\n",
       "\n",
       "      <script>\n",
       "        const buttonEl =\n",
       "          document.querySelector('#df-a43ae98a-084f-4f5f-a274-5f606f46f32d button.colab-df-convert');\n",
       "        buttonEl.style.display =\n",
       "          google.colab.kernel.accessAllowed ? 'block' : 'none';\n",
       "\n",
       "        async function convertToInteractive(key) {\n",
       "          const element = document.querySelector('#df-a43ae98a-084f-4f5f-a274-5f606f46f32d');\n",
       "          const dataTable =\n",
       "            await google.colab.kernel.invokeFunction('convertToInteractive',\n",
       "                                                     [key], {});\n",
       "          if (!dataTable) return;\n",
       "\n",
       "          const docLinkHtml = 'Like what you see? Visit the ' +\n",
       "            '<a target=\"_blank\" href=https://colab.research.google.com/notebooks/data_table.ipynb>data table notebook</a>'\n",
       "            + ' to learn more about interactive tables.';\n",
       "          element.innerHTML = '';\n",
       "          dataTable['output_type'] = 'display_data';\n",
       "          await google.colab.output.renderOutput(dataTable, element);\n",
       "          const docLink = document.createElement('div');\n",
       "          docLink.innerHTML = docLinkHtml;\n",
       "          element.appendChild(docLink);\n",
       "        }\n",
       "      </script>\n",
       "    </div>\n",
       "  </div>\n",
       "  "
      ],
      "text/plain": [
       "              Feature  Importance\n",
       "5         saleElapsed    0.919558\n",
       "9             SalesID    0.061309\n",
       "13          MachineID    0.014026\n",
       "0            YearMade    0.000824\n",
       "4             ModelID    0.000767\n",
       "11  fiModelDescriptor    0.000733"
      ]
     },
     "execution_count": 45,
     "metadata": {},
     "output_type": "execute_result"
    }
   ],
   "source": [
    "feature_importance(df_domain, m)[:6]"
   ]
  },
  {
   "cell_type": "markdown",
   "metadata": {
    "id": "pYPt1ZUMIkE0"
   },
   "source": [
    "So, the main things that appear to change from the training and validation set are `saleElapsed`, `SalesID`,and `MachineID`. Like before, let's try removing each of them and see how our model changes."
   ]
  },
  {
   "cell_type": "code",
   "execution_count": null,
   "metadata": {
    "colab": {
     "base_uri": "https://localhost:8080/"
    },
    "id": "zAxb3XWmI_iX",
    "outputId": "8cabb943-5ed7-4c89-ee16-32a0cf020d6d"
   },
   "outputs": [
    {
     "data": {
      "text/plain": [
       "0.23369"
      ]
     },
     "execution_count": 47,
     "metadata": {},
     "output_type": "execute_result"
    }
   ],
   "source": [
    "m = rf(train_xs_fin, train_y)\n",
    "m_rmse(m, valid_xs_fin, valid_y)"
   ]
  },
  {
   "cell_type": "code",
   "execution_count": null,
   "metadata": {
    "colab": {
     "base_uri": "https://localhost:8080/"
    },
    "id": "hdMzXCiiIO4U",
    "outputId": "66eeec38-4bb5-4610-9c3a-40a616491e94"
   },
   "outputs": [
    {
     "data": {
      "text/plain": [
       "{'MachineID': 0.233734,\n",
       " 'ModelID': 0.238536,\n",
       " 'SalesID': 0.231391,\n",
       " 'YearMade': 0.268748,\n",
       " 'saleElapsed': 0.237849}"
      ]
     },
     "execution_count": 50,
     "metadata": {},
     "output_type": "execute_result"
    }
   ],
   "source": [
    "{c: m_rmse(rf(train_xs_fin.drop(c, axis = 1), train_y), \n",
    "           valid_xs_fin.drop(c, axis = 1),\n",
    "           valid_y)\n",
    " for c in ['saleElapsed', 'SalesID', 'MachineID', 'YearMade', 'ModelID']}"
   ]
  },
  {
   "cell_type": "markdown",
   "metadata": {
    "id": "HpQKXi0YKNBg"
   },
   "source": [
    "So, it appears that we can remove `MachineID` and `SalesID` without worry (the model actually improved when we removed `SalesID`)."
   ]
  },
  {
   "cell_type": "code",
   "execution_count": null,
   "metadata": {
    "id": "0NsOPWczKWLX"
   },
   "outputs": [],
   "source": [
    "to_drop = ['MachineID', 'SalesID']\n",
    "xs_new       = train_xs_fin.drop(to_drop, axis = 1)\n",
    "valid_xs_new = valid_xs_fin.drop(to_drop, axis = 1)"
   ]
  },
  {
   "cell_type": "markdown",
   "metadata": {
    "id": "X4Dv6flxKqMh"
   },
   "source": [
    "And we'll double check our model's RMSE didn't go up significantly:"
   ]
  },
  {
   "cell_type": "code",
   "execution_count": 13,
   "metadata": {
    "colab": {
     "base_uri": "https://localhost:8080/"
    },
    "id": "JsoLwu0rKvKz",
    "outputId": "f2108878-e196-4ca9-b2e2-9c848f069a94"
   },
   "outputs": [
    {
     "data": {
      "text/plain": [
       "0.230939"
      ]
     },
     "execution_count": 13,
     "metadata": {},
     "output_type": "execute_result"
    }
   ],
   "source": [
    "m = rf(xs_new, train_y)\n",
    "m_rmse(m, valid_xs_new, valid_y)"
   ]
  },
  {
   "cell_type": "markdown",
   "metadata": {
    "id": "eXZweDWHK8oW"
   },
   "source": [
    "Not only did it not go up, it actually went down. So, removing `MachineID` and `SalesID`, which probably correlated with `YearMade` and `saleElapsed`, made the model better. "
   ]
  },
  {
   "cell_type": "code",
   "execution_count": null,
   "metadata": {
    "id": "gzSVRFRWN4-x"
   },
   "outputs": [],
   "source": [
    "#hide\n",
    "save_pickle('xs_new.pkl', xs_new)\n",
    "save_pickle('valid_xs_new.pkl', valid_xs_new)"
   ]
  },
  {
   "cell_type": "code",
   "execution_count": 11,
   "metadata": {
    "id": "cDQAVLsEODO2"
   },
   "outputs": [],
   "source": [
    "#hide\n",
    "xs_new       = load_pickle('xs_new.pkl') \n",
    "valid_xs_new = load_pickle('valid_xs_new.pkl')\n",
    "train_y, valid_y = tp.train.y, tp.valid.y"
   ]
  },
  {
   "cell_type": "markdown",
   "metadata": {
    "id": "UqlSqOk1B1Bu"
   },
   "source": [
    "For the next blog, I'll train a deep learning model using the information gained through training and analyzing a random forest model. Then, I'll use the embeddings learned by the neural network to retrain a random forest model and try to beat the #1 gold-medal-level model on the leaderboards. "
   ]
  }
 ],
 "metadata": {
  "accelerator": "GPU",
  "colab": {
   "collapsed_sections": [],
   "name": "2022-03-24-Prices.ipynb",
   "provenance": []
  },
  "kernelspec": {
   "display_name": "Python 3 (ipykernel)",
   "language": "python",
   "name": "python3"
  },
  "language_info": {
   "codemirror_mode": {
    "name": "ipython",
    "version": 3
   },
   "file_extension": ".py",
   "mimetype": "text/x-python",
   "name": "python",
   "nbconvert_exporter": "python",
   "pygments_lexer": "ipython3",
   "version": "3.10.4"
  }
 },
 "nbformat": 4,
 "nbformat_minor": 1
}
