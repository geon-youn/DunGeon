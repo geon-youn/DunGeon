{
 "cells": [
  {
   "cell_type": "markdown",
   "metadata": {
    "id": "WHPR7Rzb8FIy"
   },
   "source": [
    "# \"So you want to code collaborative filtering\"\n",
    "> \"Wait... doesn't this go against the top-down approach of fast.ai?\"\n",
    "\n",
    "- categories: [tabular]"
   ]
  },
  {
   "cell_type": "markdown",
   "metadata": {
    "id": "Mjxcit7k8Nsj"
   },
   "source": [
    "Hopefully you've read my [last blog post](https://geon-youn.github.io/DunGeon/2022/03/12/Collaborative-Filtering.html) which explains everything I'm going to be doing in today's blog. We're going to be coding a collaborative filtering model in two ways: by probabilistic matrix factorization and then through deep learning. If you'd like to learn how deep learning works, check out my [other blog post](https://geon-youn.github.io/DunGeon/2022/03/07/What-Is-Deep-Learning.html). "
   ]
  },
  {
   "cell_type": "code",
   "execution_count": 1,
   "metadata": {
    "colab": {
     "base_uri": "https://localhost:8080/"
    },
    "id": "cnjiJSfq8wC_",
    "outputId": "a81d3f28-7529-4b39-f04f-c38b0a14adc8"
   },
   "outputs": [
    {
     "name": "stdout",
     "output_type": "stream",
     "text": [
      "\u001b[K     |████████████████████████████████| 720 kB 18.8 MB/s \n",
      "\u001b[K     |████████████████████████████████| 1.2 MB 55.5 MB/s \n",
      "\u001b[K     |████████████████████████████████| 189 kB 53.1 MB/s \n",
      "\u001b[K     |████████████████████████████████| 48 kB 2.7 MB/s \n",
      "\u001b[K     |████████████████████████████████| 55 kB 2.6 MB/s \n",
      "\u001b[K     |████████████████████████████████| 51 kB 189 kB/s \n",
      "\u001b[K     |████████████████████████████████| 561 kB 35.7 MB/s \n",
      "\u001b[K     |████████████████████████████████| 130 kB 12.2 MB/s \n",
      "\u001b[?25hMounted at /content/gdrive\n"
     ]
    }
   ],
   "source": [
    "#hide\n",
    "!pip install -Uqq fastbook\n",
    "import fastbook\n",
    "fastbook.setup_book()\n",
    "from fastbook import *"
   ]
  },
  {
   "cell_type": "markdown",
   "metadata": {
    "id": "YA5r_BQz86Vf"
   },
   "source": [
    "First, we'll download a subset of the MovieLens dataset, which contains 100,000 of the 25-million recommendation dataset. The main reason being that I'm using the GPUs on Colab and it would take too long to train a model with the full dataset. "
   ]
  },
  {
   "cell_type": "code",
   "execution_count": 2,
   "metadata": {
    "colab": {
     "base_uri": "https://localhost:8080/",
     "height": 54
    },
    "id": "DmCZ8ziu8_Md",
    "outputId": "55f589c3-5a10-4876-ded7-7d263ca5d460"
   },
   "outputs": [
    {
     "data": {
      "text/html": [
       "\n",
       "<style>\n",
       "    /* Turns off some styling */\n",
       "    progress {\n",
       "        /* gets rid of default border in Firefox and Opera. */\n",
       "        border: none;\n",
       "        /* Needs to be in here for Safari polyfill so background images work as expected. */\n",
       "        background-size: auto;\n",
       "    }\n",
       "    .progress-bar-interrupted, .progress-bar-interrupted::-webkit-progress-bar {\n",
       "        background: #F44336;\n",
       "    }\n",
       "</style>\n"
      ],
      "text/plain": [
       "<IPython.core.display.HTML object>"
      ]
     },
     "metadata": {},
     "output_type": "display_data"
    },
    {
     "data": {
      "text/html": [
       "\n",
       "    <div>\n",
       "      <progress value='4931584' class='' max='4924029' style='width:300px; height:20px; vertical-align: middle;'></progress>\n",
       "      100.15% [4931584/4924029 00:00<00:00]\n",
       "    </div>\n",
       "    "
      ],
      "text/plain": [
       "<IPython.core.display.HTML object>"
      ]
     },
     "metadata": {},
     "output_type": "display_data"
    },
    {
     "data": {
      "text/plain": [
       "(#23) [Path('ua.test'),Path('u.item'),Path('u2.base'),Path('u4.test'),Path('u.user'),Path('u.genre'),Path('u.occupation'),Path('u1.test'),Path('u5.base'),Path('u2.test')...]"
      ]
     },
     "execution_count": 2,
     "metadata": {},
     "output_type": "execute_result"
    }
   ],
   "source": [
    "#collapse-output\n",
    "from fastai.collab import *\n",
    "from fastai.tabular.all import *\n",
    "path = untar_data(URLs.ML_100k)\n",
    "Path.BASE_PATH = path\n",
    "path.ls()"
   ]
  },
  {
   "cell_type": "markdown",
   "metadata": {
    "id": "jGMig51Q_uhN"
   },
   "source": [
    "And we can read the README file using the `cat` command:"
   ]
  },
  {
   "cell_type": "code",
   "execution_count": 3,
   "metadata": {
    "colab": {
     "base_uri": "https://localhost:8080/"
    },
    "id": "zA-1ApcB_pmj",
    "outputId": "a50abc57-679d-40b4-ea39-88c7cd9b3fb7"
   },
   "outputs": [
    {
     "name": "stdout",
     "output_type": "stream",
     "text": [
      "SUMMARY & USAGE LICENSE\n",
      "=============================================\n",
      "\n",
      "MovieLens data sets were collected by the GroupLens Research Project\n",
      "at the University of Minnesota.\n",
      " \n",
      "This data set consists of:\n",
      "\t* 100,000 ratings (1-5) from 943 users on 1682 movies. \n",
      "\t* Each user has rated at least 20 movies. \n",
      "        * Simple demographic info for the users (age, gender, occupation, zip)\n",
      "\n",
      "The data was collected through the MovieLens web site\n",
      "(movielens.umn.edu) during the seven-month period from September 19th, \n",
      "1997 through April 22nd, 1998. This data has been cleaned up - users\n",
      "who had less than 20 ratings or did not have complete demographic\n",
      "information were removed from this data set. Detailed descriptions of\n",
      "the data file can be found at the end of this file.\n",
      "\n",
      "Neither the University of Minnesota nor any of the researchers\n",
      "involved can guarantee the correctness of the data, its suitability\n",
      "for any particular purpose, or the validity of results based on the\n",
      "use of the data set.  The data set may be used for any research\n",
      "purposes under the following conditions:\n",
      "\n",
      "     * The user may not state or imply any endorsement from the\n",
      "       University of Minnesota or the GroupLens Research Group.\n",
      "\n",
      "     * The user must acknowledge the use of the data set in\n",
      "       publications resulting from the use of the data set\n",
      "       (see below for citation information).\n",
      "\n",
      "     * The user may not redistribute the data without separate\n",
      "       permission.\n",
      "\n",
      "     * The user may not use this information for any commercial or\n",
      "       revenue-bearing purposes without first obtaining permission\n",
      "       from a faculty member of the GroupLens Research Project at the\n",
      "       University of Minnesota.\n",
      "\n",
      "If you have any further questions or comments, please contact GroupLens\n",
      "<grouplens-info@cs.umn.edu>. \n",
      "\n",
      "CITATION\n",
      "==============================================\n",
      "\n",
      "To acknowledge use of the dataset in publications, please cite the \n",
      "following paper:\n",
      "\n",
      "F. Maxwell Harper and Joseph A. Konstan. 2015. The MovieLens Datasets:\n",
      "History and Context. ACM Transactions on Interactive Intelligent\n",
      "Systems (TiiS) 5, 4, Article 19 (December 2015), 19 pages.\n",
      "DOI=http://dx.doi.org/10.1145/2827872\n",
      "\n",
      "\n",
      "ACKNOWLEDGEMENTS\n",
      "==============================================\n",
      "\n",
      "Thanks to Al Borchers for cleaning up this data and writing the\n",
      "accompanying scripts.\n",
      "\n",
      "PUBLISHED WORK THAT HAS USED THIS DATASET\n",
      "==============================================\n",
      "\n",
      "Herlocker, J., Konstan, J., Borchers, A., Riedl, J.. An Algorithmic\n",
      "Framework for Performing Collaborative Filtering. Proceedings of the\n",
      "1999 Conference on Research and Development in Information\n",
      "Retrieval. Aug. 1999.\n",
      "\n",
      "FURTHER INFORMATION ABOUT THE GROUPLENS RESEARCH PROJECT\n",
      "==============================================\n",
      "\n",
      "The GroupLens Research Project is a research group in the Department\n",
      "of Computer Science and Engineering at the University of Minnesota.\n",
      "Members of the GroupLens Research Project are involved in many\n",
      "research projects related to the fields of information filtering,\n",
      "collaborative filtering, and recommender systems. The project is lead\n",
      "by professors John Riedl and Joseph Konstan. The project began to\n",
      "explore automated collaborative filtering in 1992, but is most well\n",
      "known for its world wide trial of an automated collaborative filtering\n",
      "system for Usenet news in 1996.  The technology developed in the\n",
      "Usenet trial formed the base for the formation of Net Perceptions,\n",
      "Inc., which was founded by members of GroupLens Research. Since then\n",
      "the project has expanded its scope to research overall information\n",
      "filtering solutions, integrating in content-based methods as well as\n",
      "improving current collaborative filtering technology.\n",
      "\n",
      "Further information on the GroupLens Research project, including\n",
      "research publications, can be found at the following web site:\n",
      "        \n",
      "        http://www.grouplens.org/\n",
      "\n",
      "GroupLens Research currently operates a movie recommender based on\n",
      "collaborative filtering:\n",
      "\n",
      "        http://www.movielens.org/\n",
      "\n",
      "DETAILED DESCRIPTIONS OF DATA FILES\n",
      "==============================================\n",
      "\n",
      "Here are brief descriptions of the data.\n",
      "\n",
      "ml-data.tar.gz   -- Compressed tar file.  To rebuild the u data files do this:\n",
      "                gunzip ml-data.tar.gz\n",
      "                tar xvf ml-data.tar\n",
      "                mku.sh\n",
      "\n",
      "u.data     -- The full u data set, 100000 ratings by 943 users on 1682 items.\n",
      "              Each user has rated at least 20 movies.  Users and items are\n",
      "              numbered consecutively from 1.  The data is randomly\n",
      "              ordered. This is a tab separated list of \n",
      "\t         user id | item id | rating | timestamp. \n",
      "              The time stamps are unix seconds since 1/1/1970 UTC   \n",
      "\n",
      "u.info     -- The number of users, items, and ratings in the u data set.\n",
      "\n",
      "u.item     -- Information about the items (movies); this is a tab separated\n",
      "              list of\n",
      "              movie id | movie title | release date | video release date |\n",
      "              IMDb URL | unknown | Action | Adventure | Animation |\n",
      "              Children's | Comedy | Crime | Documentary | Drama | Fantasy |\n",
      "              Film-Noir | Horror | Musical | Mystery | Romance | Sci-Fi |\n",
      "              Thriller | War | Western |\n",
      "              The last 19 fields are the genres, a 1 indicates the movie\n",
      "              is of that genre, a 0 indicates it is not; movies can be in\n",
      "              several genres at once.\n",
      "              The movie ids are the ones used in the u.data data set.\n",
      "\n",
      "u.genre    -- A list of the genres.\n",
      "\n",
      "u.user     -- Demographic information about the users; this is a tab\n",
      "              separated list of\n",
      "              user id | age | gender | occupation | zip code\n",
      "              The user ids are the ones used in the u.data data set.\n",
      "\n",
      "u.occupation -- A list of the occupations.\n",
      "\n",
      "u1.base    -- The data sets u1.base and u1.test through u5.base and u5.test\n",
      "u1.test       are 80%/20% splits of the u data into training and test data.\n",
      "u2.base       Each of u1, ..., u5 have disjoint test sets; this if for\n",
      "u2.test       5 fold cross validation (where you repeat your experiment\n",
      "u3.base       with each training and test set and average the results).\n",
      "u3.test       These data sets can be generated from u.data by mku.sh.\n",
      "u4.base\n",
      "u4.test\n",
      "u5.base\n",
      "u5.test\n",
      "\n",
      "ua.base    -- The data sets ua.base, ua.test, ub.base, and ub.test\n",
      "ua.test       split the u data into a training set and a test set with\n",
      "ub.base       exactly 10 ratings per user in the test set.  The sets\n",
      "ub.test       ua.test and ub.test are disjoint.  These data sets can\n",
      "              be generated from u.data by mku.sh.\n",
      "\n",
      "allbut.pl  -- The script that generates training and test sets where\n",
      "              all but n of a users ratings are in the training data.\n",
      "\n",
      "mku.sh     -- A shell script to generate all the u data sets from u.data.\n"
     ]
    }
   ],
   "source": [
    "#collapse-output\n",
    "!cat {path}/README"
   ]
  },
  {
   "cell_type": "markdown",
   "metadata": {
    "id": "tkH7hfJa_27w"
   },
   "source": [
    "Which tells us that `u.data` contains the full data set, which is 100,000 ratings by 943 users on 1682 items, where each user rated at least 20 movies. The data is tab separated with column names: `user id`, `item/movie id`, `rating`, and `timestamp`. So, let's try reading the csv:"
   ]
  },
  {
   "cell_type": "code",
   "execution_count": 4,
   "metadata": {
    "colab": {
     "base_uri": "https://localhost:8080/",
     "height": 206
    },
    "id": "2syW-rv8AMeG",
    "outputId": "a0be1fd1-62c4-406a-fde8-9ce4124a4f33"
   },
   "outputs": [
    {
     "data": {
      "text/html": [
       "\n",
       "  <div id=\"df-050f4356-a7ba-4ebe-9bc5-98fbf720cd69\">\n",
       "    <div class=\"colab-df-container\">\n",
       "      <div>\n",
       "<style scoped>\n",
       "    .dataframe tbody tr th:only-of-type {\n",
       "        vertical-align: middle;\n",
       "    }\n",
       "\n",
       "    .dataframe tbody tr th {\n",
       "        vertical-align: top;\n",
       "    }\n",
       "\n",
       "    .dataframe thead th {\n",
       "        text-align: right;\n",
       "    }\n",
       "</style>\n",
       "<table border=\"1\" class=\"dataframe\">\n",
       "  <thead>\n",
       "    <tr style=\"text-align: right;\">\n",
       "      <th></th>\n",
       "      <th>user</th>\n",
       "      <th>movie</th>\n",
       "      <th>rating</th>\n",
       "      <th>timestamp</th>\n",
       "    </tr>\n",
       "  </thead>\n",
       "  <tbody>\n",
       "    <tr>\n",
       "      <th>0</th>\n",
       "      <td>196</td>\n",
       "      <td>242</td>\n",
       "      <td>3</td>\n",
       "      <td>881250949</td>\n",
       "    </tr>\n",
       "    <tr>\n",
       "      <th>1</th>\n",
       "      <td>186</td>\n",
       "      <td>302</td>\n",
       "      <td>3</td>\n",
       "      <td>891717742</td>\n",
       "    </tr>\n",
       "    <tr>\n",
       "      <th>2</th>\n",
       "      <td>22</td>\n",
       "      <td>377</td>\n",
       "      <td>1</td>\n",
       "      <td>878887116</td>\n",
       "    </tr>\n",
       "    <tr>\n",
       "      <th>3</th>\n",
       "      <td>244</td>\n",
       "      <td>51</td>\n",
       "      <td>2</td>\n",
       "      <td>880606923</td>\n",
       "    </tr>\n",
       "    <tr>\n",
       "      <th>4</th>\n",
       "      <td>166</td>\n",
       "      <td>346</td>\n",
       "      <td>1</td>\n",
       "      <td>886397596</td>\n",
       "    </tr>\n",
       "  </tbody>\n",
       "</table>\n",
       "</div>\n",
       "      <button class=\"colab-df-convert\" onclick=\"convertToInteractive('df-050f4356-a7ba-4ebe-9bc5-98fbf720cd69')\"\n",
       "              title=\"Convert this dataframe to an interactive table.\"\n",
       "              style=\"display:none;\">\n",
       "        \n",
       "  <svg xmlns=\"http://www.w3.org/2000/svg\" height=\"24px\"viewBox=\"0 0 24 24\"\n",
       "       width=\"24px\">\n",
       "    <path d=\"M0 0h24v24H0V0z\" fill=\"none\"/>\n",
       "    <path d=\"M18.56 5.44l.94 2.06.94-2.06 2.06-.94-2.06-.94-.94-2.06-.94 2.06-2.06.94zm-11 1L8.5 8.5l.94-2.06 2.06-.94-2.06-.94L8.5 2.5l-.94 2.06-2.06.94zm10 10l.94 2.06.94-2.06 2.06-.94-2.06-.94-.94-2.06-.94 2.06-2.06.94z\"/><path d=\"M17.41 7.96l-1.37-1.37c-.4-.4-.92-.59-1.43-.59-.52 0-1.04.2-1.43.59L10.3 9.45l-7.72 7.72c-.78.78-.78 2.05 0 2.83L4 21.41c.39.39.9.59 1.41.59.51 0 1.02-.2 1.41-.59l7.78-7.78 2.81-2.81c.8-.78.8-2.07 0-2.86zM5.41 20L4 18.59l7.72-7.72 1.47 1.35L5.41 20z\"/>\n",
       "  </svg>\n",
       "      </button>\n",
       "      \n",
       "  <style>\n",
       "    .colab-df-container {\n",
       "      display:flex;\n",
       "      flex-wrap:wrap;\n",
       "      gap: 12px;\n",
       "    }\n",
       "\n",
       "    .colab-df-convert {\n",
       "      background-color: #E8F0FE;\n",
       "      border: none;\n",
       "      border-radius: 50%;\n",
       "      cursor: pointer;\n",
       "      display: none;\n",
       "      fill: #1967D2;\n",
       "      height: 32px;\n",
       "      padding: 0 0 0 0;\n",
       "      width: 32px;\n",
       "    }\n",
       "\n",
       "    .colab-df-convert:hover {\n",
       "      background-color: #E2EBFA;\n",
       "      box-shadow: 0px 1px 2px rgba(60, 64, 67, 0.3), 0px 1px 3px 1px rgba(60, 64, 67, 0.15);\n",
       "      fill: #174EA6;\n",
       "    }\n",
       "\n",
       "    [theme=dark] .colab-df-convert {\n",
       "      background-color: #3B4455;\n",
       "      fill: #D2E3FC;\n",
       "    }\n",
       "\n",
       "    [theme=dark] .colab-df-convert:hover {\n",
       "      background-color: #434B5C;\n",
       "      box-shadow: 0px 1px 3px 1px rgba(0, 0, 0, 0.15);\n",
       "      filter: drop-shadow(0px 1px 2px rgba(0, 0, 0, 0.3));\n",
       "      fill: #FFFFFF;\n",
       "    }\n",
       "  </style>\n",
       "\n",
       "      <script>\n",
       "        const buttonEl =\n",
       "          document.querySelector('#df-050f4356-a7ba-4ebe-9bc5-98fbf720cd69 button.colab-df-convert');\n",
       "        buttonEl.style.display =\n",
       "          google.colab.kernel.accessAllowed ? 'block' : 'none';\n",
       "\n",
       "        async function convertToInteractive(key) {\n",
       "          const element = document.querySelector('#df-050f4356-a7ba-4ebe-9bc5-98fbf720cd69');\n",
       "          const dataTable =\n",
       "            await google.colab.kernel.invokeFunction('convertToInteractive',\n",
       "                                                     [key], {});\n",
       "          if (!dataTable) return;\n",
       "\n",
       "          const docLinkHtml = 'Like what you see? Visit the ' +\n",
       "            '<a target=\"_blank\" href=https://colab.research.google.com/notebooks/data_table.ipynb>data table notebook</a>'\n",
       "            + ' to learn more about interactive tables.';\n",
       "          element.innerHTML = '';\n",
       "          dataTable['output_type'] = 'display_data';\n",
       "          await google.colab.output.renderOutput(dataTable, element);\n",
       "          const docLink = document.createElement('div');\n",
       "          docLink.innerHTML = docLinkHtml;\n",
       "          element.appendChild(docLink);\n",
       "        }\n",
       "      </script>\n",
       "    </div>\n",
       "  </div>\n",
       "  "
      ],
      "text/plain": [
       "   user  movie  rating  timestamp\n",
       "0   196    242       3  881250949\n",
       "1   186    302       3  891717742\n",
       "2    22    377       1  878887116\n",
       "3   244     51       2  880606923\n",
       "4   166    346       1  886397596"
      ]
     },
     "execution_count": 4,
     "metadata": {},
     "output_type": "execute_result"
    }
   ],
   "source": [
    "ratings = pd.read_csv(\n",
    "    path/'u.data',\n",
    "    delimiter = '\\t',\n",
    "    header = None,\n",
    "    names = ['user', 'movie', 'rating', 'timestamp'])\n",
    "ratings.head()"
   ]
  },
  {
   "cell_type": "markdown",
   "metadata": {
    "id": "hVHn-vBaA_X0"
   },
   "source": [
    "We'd like to know the actual movie name instead of the movie ID, so we can also read the `u.item` file (although it says it's tab separated, it's actually pipe separated):"
   ]
  },
  {
   "cell_type": "code",
   "execution_count": 5,
   "metadata": {
    "colab": {
     "base_uri": "https://localhost:8080/",
     "height": 206
    },
    "id": "tX8XtiYcBFe7",
    "outputId": "8a021f79-c4e3-48d7-9626-7b2af64a04e7"
   },
   "outputs": [
    {
     "data": {
      "text/html": [
       "\n",
       "  <div id=\"df-1ba93b8d-722d-40bb-a4e8-01f341f2ae0c\">\n",
       "    <div class=\"colab-df-container\">\n",
       "      <div>\n",
       "<style scoped>\n",
       "    .dataframe tbody tr th:only-of-type {\n",
       "        vertical-align: middle;\n",
       "    }\n",
       "\n",
       "    .dataframe tbody tr th {\n",
       "        vertical-align: top;\n",
       "    }\n",
       "\n",
       "    .dataframe thead th {\n",
       "        text-align: right;\n",
       "    }\n",
       "</style>\n",
       "<table border=\"1\" class=\"dataframe\">\n",
       "  <thead>\n",
       "    <tr style=\"text-align: right;\">\n",
       "      <th></th>\n",
       "      <th>movie</th>\n",
       "      <th>title</th>\n",
       "    </tr>\n",
       "  </thead>\n",
       "  <tbody>\n",
       "    <tr>\n",
       "      <th>0</th>\n",
       "      <td>1</td>\n",
       "      <td>Toy Story (1995)</td>\n",
       "    </tr>\n",
       "    <tr>\n",
       "      <th>1</th>\n",
       "      <td>2</td>\n",
       "      <td>GoldenEye (1995)</td>\n",
       "    </tr>\n",
       "    <tr>\n",
       "      <th>2</th>\n",
       "      <td>3</td>\n",
       "      <td>Four Rooms (1995)</td>\n",
       "    </tr>\n",
       "    <tr>\n",
       "      <th>3</th>\n",
       "      <td>4</td>\n",
       "      <td>Get Shorty (1995)</td>\n",
       "    </tr>\n",
       "    <tr>\n",
       "      <th>4</th>\n",
       "      <td>5</td>\n",
       "      <td>Copycat (1995)</td>\n",
       "    </tr>\n",
       "  </tbody>\n",
       "</table>\n",
       "</div>\n",
       "      <button class=\"colab-df-convert\" onclick=\"convertToInteractive('df-1ba93b8d-722d-40bb-a4e8-01f341f2ae0c')\"\n",
       "              title=\"Convert this dataframe to an interactive table.\"\n",
       "              style=\"display:none;\">\n",
       "        \n",
       "  <svg xmlns=\"http://www.w3.org/2000/svg\" height=\"24px\"viewBox=\"0 0 24 24\"\n",
       "       width=\"24px\">\n",
       "    <path d=\"M0 0h24v24H0V0z\" fill=\"none\"/>\n",
       "    <path d=\"M18.56 5.44l.94 2.06.94-2.06 2.06-.94-2.06-.94-.94-2.06-.94 2.06-2.06.94zm-11 1L8.5 8.5l.94-2.06 2.06-.94-2.06-.94L8.5 2.5l-.94 2.06-2.06.94zm10 10l.94 2.06.94-2.06 2.06-.94-2.06-.94-.94-2.06-.94 2.06-2.06.94z\"/><path d=\"M17.41 7.96l-1.37-1.37c-.4-.4-.92-.59-1.43-.59-.52 0-1.04.2-1.43.59L10.3 9.45l-7.72 7.72c-.78.78-.78 2.05 0 2.83L4 21.41c.39.39.9.59 1.41.59.51 0 1.02-.2 1.41-.59l7.78-7.78 2.81-2.81c.8-.78.8-2.07 0-2.86zM5.41 20L4 18.59l7.72-7.72 1.47 1.35L5.41 20z\"/>\n",
       "  </svg>\n",
       "      </button>\n",
       "      \n",
       "  <style>\n",
       "    .colab-df-container {\n",
       "      display:flex;\n",
       "      flex-wrap:wrap;\n",
       "      gap: 12px;\n",
       "    }\n",
       "\n",
       "    .colab-df-convert {\n",
       "      background-color: #E8F0FE;\n",
       "      border: none;\n",
       "      border-radius: 50%;\n",
       "      cursor: pointer;\n",
       "      display: none;\n",
       "      fill: #1967D2;\n",
       "      height: 32px;\n",
       "      padding: 0 0 0 0;\n",
       "      width: 32px;\n",
       "    }\n",
       "\n",
       "    .colab-df-convert:hover {\n",
       "      background-color: #E2EBFA;\n",
       "      box-shadow: 0px 1px 2px rgba(60, 64, 67, 0.3), 0px 1px 3px 1px rgba(60, 64, 67, 0.15);\n",
       "      fill: #174EA6;\n",
       "    }\n",
       "\n",
       "    [theme=dark] .colab-df-convert {\n",
       "      background-color: #3B4455;\n",
       "      fill: #D2E3FC;\n",
       "    }\n",
       "\n",
       "    [theme=dark] .colab-df-convert:hover {\n",
       "      background-color: #434B5C;\n",
       "      box-shadow: 0px 1px 3px 1px rgba(0, 0, 0, 0.15);\n",
       "      filter: drop-shadow(0px 1px 2px rgba(0, 0, 0, 0.3));\n",
       "      fill: #FFFFFF;\n",
       "    }\n",
       "  </style>\n",
       "\n",
       "      <script>\n",
       "        const buttonEl =\n",
       "          document.querySelector('#df-1ba93b8d-722d-40bb-a4e8-01f341f2ae0c button.colab-df-convert');\n",
       "        buttonEl.style.display =\n",
       "          google.colab.kernel.accessAllowed ? 'block' : 'none';\n",
       "\n",
       "        async function convertToInteractive(key) {\n",
       "          const element = document.querySelector('#df-1ba93b8d-722d-40bb-a4e8-01f341f2ae0c');\n",
       "          const dataTable =\n",
       "            await google.colab.kernel.invokeFunction('convertToInteractive',\n",
       "                                                     [key], {});\n",
       "          if (!dataTable) return;\n",
       "\n",
       "          const docLinkHtml = 'Like what you see? Visit the ' +\n",
       "            '<a target=\"_blank\" href=https://colab.research.google.com/notebooks/data_table.ipynb>data table notebook</a>'\n",
       "            + ' to learn more about interactive tables.';\n",
       "          element.innerHTML = '';\n",
       "          dataTable['output_type'] = 'display_data';\n",
       "          await google.colab.output.renderOutput(dataTable, element);\n",
       "          const docLink = document.createElement('div');\n",
       "          docLink.innerHTML = docLinkHtml;\n",
       "          element.appendChild(docLink);\n",
       "        }\n",
       "      </script>\n",
       "    </div>\n",
       "  </div>\n",
       "  "
      ],
      "text/plain": [
       "   movie              title\n",
       "0      1   Toy Story (1995)\n",
       "1      2   GoldenEye (1995)\n",
       "2      3  Four Rooms (1995)\n",
       "3      4  Get Shorty (1995)\n",
       "4      5     Copycat (1995)"
      ]
     },
     "execution_count": 5,
     "metadata": {},
     "output_type": "execute_result"
    }
   ],
   "source": [
    "movies = pd.read_csv(\n",
    "    path/'u.item',\n",
    "    delimiter = '|',\n",
    "    header = None,\n",
    "    usecols = [0, 1],\n",
    "    names = ['movie', 'title'],\n",
    "    encoding = 'latin-1'\n",
    "    )\n",
    "movies.head()"
   ]
  },
  {
   "cell_type": "markdown",
   "metadata": {
    "id": "0q4rgiG6CcCr"
   },
   "source": [
    "Then, we can merge the two tables together:"
   ]
  },
  {
   "cell_type": "code",
   "execution_count": 6,
   "metadata": {
    "colab": {
     "base_uri": "https://localhost:8080/",
     "height": 206
    },
    "id": "SJriTrNDCfA5",
    "outputId": "835cebbc-74b7-42e7-eb82-433ae0b0a366"
   },
   "outputs": [
    {
     "data": {
      "text/html": [
       "\n",
       "  <div id=\"df-a729b62c-58a9-4f90-9ee7-237b0509328f\">\n",
       "    <div class=\"colab-df-container\">\n",
       "      <div>\n",
       "<style scoped>\n",
       "    .dataframe tbody tr th:only-of-type {\n",
       "        vertical-align: middle;\n",
       "    }\n",
       "\n",
       "    .dataframe tbody tr th {\n",
       "        vertical-align: top;\n",
       "    }\n",
       "\n",
       "    .dataframe thead th {\n",
       "        text-align: right;\n",
       "    }\n",
       "</style>\n",
       "<table border=\"1\" class=\"dataframe\">\n",
       "  <thead>\n",
       "    <tr style=\"text-align: right;\">\n",
       "      <th></th>\n",
       "      <th>user</th>\n",
       "      <th>movie</th>\n",
       "      <th>rating</th>\n",
       "      <th>timestamp</th>\n",
       "      <th>title</th>\n",
       "    </tr>\n",
       "  </thead>\n",
       "  <tbody>\n",
       "    <tr>\n",
       "      <th>0</th>\n",
       "      <td>196</td>\n",
       "      <td>242</td>\n",
       "      <td>3</td>\n",
       "      <td>881250949</td>\n",
       "      <td>Kolya (1996)</td>\n",
       "    </tr>\n",
       "    <tr>\n",
       "      <th>1</th>\n",
       "      <td>63</td>\n",
       "      <td>242</td>\n",
       "      <td>3</td>\n",
       "      <td>875747190</td>\n",
       "      <td>Kolya (1996)</td>\n",
       "    </tr>\n",
       "    <tr>\n",
       "      <th>2</th>\n",
       "      <td>226</td>\n",
       "      <td>242</td>\n",
       "      <td>5</td>\n",
       "      <td>883888671</td>\n",
       "      <td>Kolya (1996)</td>\n",
       "    </tr>\n",
       "    <tr>\n",
       "      <th>3</th>\n",
       "      <td>154</td>\n",
       "      <td>242</td>\n",
       "      <td>3</td>\n",
       "      <td>879138235</td>\n",
       "      <td>Kolya (1996)</td>\n",
       "    </tr>\n",
       "    <tr>\n",
       "      <th>4</th>\n",
       "      <td>306</td>\n",
       "      <td>242</td>\n",
       "      <td>5</td>\n",
       "      <td>876503793</td>\n",
       "      <td>Kolya (1996)</td>\n",
       "    </tr>\n",
       "  </tbody>\n",
       "</table>\n",
       "</div>\n",
       "      <button class=\"colab-df-convert\" onclick=\"convertToInteractive('df-a729b62c-58a9-4f90-9ee7-237b0509328f')\"\n",
       "              title=\"Convert this dataframe to an interactive table.\"\n",
       "              style=\"display:none;\">\n",
       "        \n",
       "  <svg xmlns=\"http://www.w3.org/2000/svg\" height=\"24px\"viewBox=\"0 0 24 24\"\n",
       "       width=\"24px\">\n",
       "    <path d=\"M0 0h24v24H0V0z\" fill=\"none\"/>\n",
       "    <path d=\"M18.56 5.44l.94 2.06.94-2.06 2.06-.94-2.06-.94-.94-2.06-.94 2.06-2.06.94zm-11 1L8.5 8.5l.94-2.06 2.06-.94-2.06-.94L8.5 2.5l-.94 2.06-2.06.94zm10 10l.94 2.06.94-2.06 2.06-.94-2.06-.94-.94-2.06-.94 2.06-2.06.94z\"/><path d=\"M17.41 7.96l-1.37-1.37c-.4-.4-.92-.59-1.43-.59-.52 0-1.04.2-1.43.59L10.3 9.45l-7.72 7.72c-.78.78-.78 2.05 0 2.83L4 21.41c.39.39.9.59 1.41.59.51 0 1.02-.2 1.41-.59l7.78-7.78 2.81-2.81c.8-.78.8-2.07 0-2.86zM5.41 20L4 18.59l7.72-7.72 1.47 1.35L5.41 20z\"/>\n",
       "  </svg>\n",
       "      </button>\n",
       "      \n",
       "  <style>\n",
       "    .colab-df-container {\n",
       "      display:flex;\n",
       "      flex-wrap:wrap;\n",
       "      gap: 12px;\n",
       "    }\n",
       "\n",
       "    .colab-df-convert {\n",
       "      background-color: #E8F0FE;\n",
       "      border: none;\n",
       "      border-radius: 50%;\n",
       "      cursor: pointer;\n",
       "      display: none;\n",
       "      fill: #1967D2;\n",
       "      height: 32px;\n",
       "      padding: 0 0 0 0;\n",
       "      width: 32px;\n",
       "    }\n",
       "\n",
       "    .colab-df-convert:hover {\n",
       "      background-color: #E2EBFA;\n",
       "      box-shadow: 0px 1px 2px rgba(60, 64, 67, 0.3), 0px 1px 3px 1px rgba(60, 64, 67, 0.15);\n",
       "      fill: #174EA6;\n",
       "    }\n",
       "\n",
       "    [theme=dark] .colab-df-convert {\n",
       "      background-color: #3B4455;\n",
       "      fill: #D2E3FC;\n",
       "    }\n",
       "\n",
       "    [theme=dark] .colab-df-convert:hover {\n",
       "      background-color: #434B5C;\n",
       "      box-shadow: 0px 1px 3px 1px rgba(0, 0, 0, 0.15);\n",
       "      filter: drop-shadow(0px 1px 2px rgba(0, 0, 0, 0.3));\n",
       "      fill: #FFFFFF;\n",
       "    }\n",
       "  </style>\n",
       "\n",
       "      <script>\n",
       "        const buttonEl =\n",
       "          document.querySelector('#df-a729b62c-58a9-4f90-9ee7-237b0509328f button.colab-df-convert');\n",
       "        buttonEl.style.display =\n",
       "          google.colab.kernel.accessAllowed ? 'block' : 'none';\n",
       "\n",
       "        async function convertToInteractive(key) {\n",
       "          const element = document.querySelector('#df-a729b62c-58a9-4f90-9ee7-237b0509328f');\n",
       "          const dataTable =\n",
       "            await google.colab.kernel.invokeFunction('convertToInteractive',\n",
       "                                                     [key], {});\n",
       "          if (!dataTable) return;\n",
       "\n",
       "          const docLinkHtml = 'Like what you see? Visit the ' +\n",
       "            '<a target=\"_blank\" href=https://colab.research.google.com/notebooks/data_table.ipynb>data table notebook</a>'\n",
       "            + ' to learn more about interactive tables.';\n",
       "          element.innerHTML = '';\n",
       "          dataTable['output_type'] = 'display_data';\n",
       "          await google.colab.output.renderOutput(dataTable, element);\n",
       "          const docLink = document.createElement('div');\n",
       "          docLink.innerHTML = docLinkHtml;\n",
       "          element.appendChild(docLink);\n",
       "        }\n",
       "      </script>\n",
       "    </div>\n",
       "  </div>\n",
       "  "
      ],
      "text/plain": [
       "   user  movie  rating  timestamp         title\n",
       "0   196    242       3  881250949  Kolya (1996)\n",
       "1    63    242       3  875747190  Kolya (1996)\n",
       "2   226    242       5  883888671  Kolya (1996)\n",
       "3   154    242       3  879138235  Kolya (1996)\n",
       "4   306    242       5  876503793  Kolya (1996)"
      ]
     },
     "execution_count": 6,
     "metadata": {},
     "output_type": "execute_result"
    }
   ],
   "source": [
    "ratings = ratings.merge(movies)\n",
    "ratings.head()"
   ]
  },
  {
   "cell_type": "markdown",
   "metadata": {
    "id": "UbgOSC64CkoJ"
   },
   "source": [
    "Then, we build our `DataLoaders` object, which will have our training and validation `DataLoader`s (which produces our mini-batches of `Dataset`s). "
   ]
  },
  {
   "cell_type": "code",
   "execution_count": 7,
   "metadata": {
    "colab": {
     "base_uri": "https://localhost:8080/",
     "height": 363
    },
    "id": "kAxOJQnECkAc",
    "outputId": "c38bcc53-11a2-4200-d7db-3c6c023935fd"
   },
   "outputs": [
    {
     "data": {
      "text/html": [
       "<table border=\"1\" class=\"dataframe\">\n",
       "  <thead>\n",
       "    <tr style=\"text-align: right;\">\n",
       "      <th></th>\n",
       "      <th>user</th>\n",
       "      <th>title</th>\n",
       "      <th>rating</th>\n",
       "    </tr>\n",
       "  </thead>\n",
       "  <tbody>\n",
       "    <tr>\n",
       "      <th>0</th>\n",
       "      <td>542</td>\n",
       "      <td>My Left Foot (1989)</td>\n",
       "      <td>4</td>\n",
       "    </tr>\n",
       "    <tr>\n",
       "      <th>1</th>\n",
       "      <td>422</td>\n",
       "      <td>Event Horizon (1997)</td>\n",
       "      <td>3</td>\n",
       "    </tr>\n",
       "    <tr>\n",
       "      <th>2</th>\n",
       "      <td>311</td>\n",
       "      <td>African Queen, The (1951)</td>\n",
       "      <td>4</td>\n",
       "    </tr>\n",
       "    <tr>\n",
       "      <th>3</th>\n",
       "      <td>595</td>\n",
       "      <td>Face/Off (1997)</td>\n",
       "      <td>4</td>\n",
       "    </tr>\n",
       "    <tr>\n",
       "      <th>4</th>\n",
       "      <td>617</td>\n",
       "      <td>Evil Dead II (1987)</td>\n",
       "      <td>1</td>\n",
       "    </tr>\n",
       "    <tr>\n",
       "      <th>5</th>\n",
       "      <td>158</td>\n",
       "      <td>Jurassic Park (1993)</td>\n",
       "      <td>5</td>\n",
       "    </tr>\n",
       "    <tr>\n",
       "      <th>6</th>\n",
       "      <td>836</td>\n",
       "      <td>Chasing Amy (1997)</td>\n",
       "      <td>3</td>\n",
       "    </tr>\n",
       "    <tr>\n",
       "      <th>7</th>\n",
       "      <td>474</td>\n",
       "      <td>Emma (1996)</td>\n",
       "      <td>3</td>\n",
       "    </tr>\n",
       "    <tr>\n",
       "      <th>8</th>\n",
       "      <td>466</td>\n",
       "      <td>Jackie Chan's First Strike (1996)</td>\n",
       "      <td>3</td>\n",
       "    </tr>\n",
       "    <tr>\n",
       "      <th>9</th>\n",
       "      <td>554</td>\n",
       "      <td>Scream (1996)</td>\n",
       "      <td>3</td>\n",
       "    </tr>\n",
       "  </tbody>\n",
       "</table>"
      ],
      "text/plain": [
       "<IPython.core.display.HTML object>"
      ]
     },
     "metadata": {},
     "output_type": "display_data"
    }
   ],
   "source": [
    "dls = CollabDataLoaders.from_df(ratings, item_name = 'title', bs = 64)\n",
    "dls.show_batch()"
   ]
  },
  {
   "cell_type": "markdown",
   "metadata": {
    "id": "gy_qo_Upu0d7"
   },
   "source": [
    "And then we create our model, which will contain our **embeddings**. We can't just index into a matrix for a deep learning model since we have to calculate the derivative for each operation we do. Instead, we use **one-hot encoding**, which is a vector that has a `1` in the places that we want to index in. For example, if we have an array `[0, 1, 2, 3]` and we want the element in the 2nd index (`2`), we would matrix multiply `[0, 0, 1, 0]` to the array's transpose:\n",
    "$$\\begin{bmatrix}0 & 1 & 2 & 3\\end{bmatrix}^T\\begin{bmatrix}0&0&1&0\\end{bmatrix}=\\begin{bmatrix}0\\\\1\\\\2\\\\3\\end{bmatrix}\\begin{bmatrix}0&0&1&0\\end{bmatrix}=\\begin{bmatrix}2\\end{bmatrix}$$\n",
    "\n",
    "But, storing and using one-hot encoding vectors are pretty time and memory consuming, so we use a special layer in most deep learning libraries (like PyTorch) called embedding. Embedding is mimicking the process of multiplying by a one-hot-encoded matrix, but it just indexes into a matrix using an integer while having its derivative calculated in a way such that it's identical to what it would've been if a matrix multiplication was done with a one-hot-encoded vector. \n",
    "\n",
    "> Optimizers need to be able to get all the parameters from a model, so all embedding does is randomly initialize a matrix and wrap it around the `nn.Parameter` class which tells PyTorch that it's a trainable parameter. \n",
    "\n",
    "When we refer to *an* embedding, that's the embedding matrix, which is the thing that's multiplied by the one-hot-encoded matrix or the thing that's being indexed into. So, an embedding matrix in this case, is our latent factors (and biases). \n",
    "\n",
    "When creating a neural network model with PyTorch, we have to inherit from their `Module` class which contains the essentials; we just have to define `__init__` (called dunder init) to initialize our model and `forward` which is essentially the \"predict\" step in the model. `forward` accepts the parameters of a mini-batch and returns a prediction. "
   ]
  },
  {
   "cell_type": "code",
   "execution_count": 8,
   "metadata": {
    "id": "icjGrh0hEfBr"
   },
   "outputs": [],
   "source": [
    "n_users = len(dls.classes['user'])\n",
    "n_items = len(dls.classes['title'])\n",
    "n_factors = 50"
   ]
  },
  {
   "cell_type": "code",
   "execution_count": 9,
   "metadata": {
    "id": "eXq726aBypkw"
   },
   "outputs": [],
   "source": [
    "class DotProduct(Module):\n",
    "        def __init__(self, n_users, n_items, n_factors, y_range = (0, 5.5)):\n",
    "            # User latent factors and biases\n",
    "            self.user_factors = Embedding(n_users, n_factors)\n",
    "            self.user_bias    = Embedding(n_users, 1)\n",
    "            # Item latent factors and biases\n",
    "            self.item_factors = Embedding(n_items, n_factors)\n",
    "            self.item_bias    = Embedding(n_items, 1)\n",
    "            # Range for our predictions\n",
    "            self.y_range      = y_range\n",
    "\n",
    "        def forward(self, x):\n",
    "            # Get first column (the users) from input\n",
    "            users = self.user_factors(x[:,0])\n",
    "            # Get second column (the titles) from input\n",
    "            items = self.item_factors(x[:,1])\n",
    "            # Calculate the dot product \n",
    "            dot_prod = (users * items).sum(dim = 1, keepdim = True)\n",
    "            # Add biases to the dot product\n",
    "            # We add the user biases and the item biases together\n",
    "            dot_prod += self.user_bias(x[:,0]) + self.item_bias(x[:,1])\n",
    "            # Return the prediction in the chosen range\n",
    "            # Sigmoid is a function that returns a value between 0 and 1\n",
    "            # We can multiply it by (hi - lo) and add lo to get a value\n",
    "            # between lo and hi, which is what sigmoid_range does\n",
    "            return sigmoid_range(dot_prod, *self.y_range)"
   ]
  },
  {
   "cell_type": "markdown",
   "metadata": {
    "id": "Fq2hRl1PJNvZ"
   },
   "source": [
    "Now that we have our model, we can create an object with it and pass it into a `Learner` and train it. "
   ]
  },
  {
   "cell_type": "code",
   "execution_count": 33,
   "metadata": {
    "colab": {
     "base_uri": "https://localhost:8080/",
     "height": 206
    },
    "id": "v4HCEsNFzyK_",
    "outputId": "ad5a5b5c-6384-42f5-b106-77047af99f87"
   },
   "outputs": [
    {
     "data": {
      "text/html": [
       "\n",
       "<style>\n",
       "    /* Turns off some styling */\n",
       "    progress {\n",
       "        /* gets rid of default border in Firefox and Opera. */\n",
       "        border: none;\n",
       "        /* Needs to be in here for Safari polyfill so background images work as expected. */\n",
       "        background-size: auto;\n",
       "    }\n",
       "    .progress-bar-interrupted, .progress-bar-interrupted::-webkit-progress-bar {\n",
       "        background: #F44336;\n",
       "    }\n",
       "</style>\n"
      ],
      "text/plain": [
       "<IPython.core.display.HTML object>"
      ]
     },
     "metadata": {},
     "output_type": "display_data"
    },
    {
     "data": {
      "text/html": [
       "<table border=\"1\" class=\"dataframe\">\n",
       "  <thead>\n",
       "    <tr style=\"text-align: left;\">\n",
       "      <th>epoch</th>\n",
       "      <th>train_loss</th>\n",
       "      <th>valid_loss</th>\n",
       "      <th>time</th>\n",
       "    </tr>\n",
       "  </thead>\n",
       "  <tbody>\n",
       "    <tr>\n",
       "      <td>0</td>\n",
       "      <td>0.941400</td>\n",
       "      <td>0.941900</td>\n",
       "      <td>00:09</td>\n",
       "    </tr>\n",
       "    <tr>\n",
       "      <td>1</td>\n",
       "      <td>0.847874</td>\n",
       "      <td>0.877467</td>\n",
       "      <td>00:08</td>\n",
       "    </tr>\n",
       "    <tr>\n",
       "      <td>2</td>\n",
       "      <td>0.719121</td>\n",
       "      <td>0.835374</td>\n",
       "      <td>00:07</td>\n",
       "    </tr>\n",
       "    <tr>\n",
       "      <td>3</td>\n",
       "      <td>0.594287</td>\n",
       "      <td>0.824023</td>\n",
       "      <td>00:07</td>\n",
       "    </tr>\n",
       "    <tr>\n",
       "      <td>4</td>\n",
       "      <td>0.483335</td>\n",
       "      <td>0.824634</td>\n",
       "      <td>00:07</td>\n",
       "    </tr>\n",
       "  </tbody>\n",
       "</table>"
      ],
      "text/plain": [
       "<IPython.core.display.HTML object>"
      ]
     },
     "metadata": {},
     "output_type": "display_data"
    }
   ],
   "source": [
    "model = DotProduct(n_users, n_items, n_factors)\n",
    "learn = Learner(dls, model, loss_func = MSELossFlat())\n",
    "# We also use weight decay since we have bias in our model\n",
    "learn.fit_one_cycle(5, 5e-3, wd = 0.1)"
   ]
  },
  {
   "cell_type": "markdown",
   "metadata": {
    "id": "M6nV9TILMMLS"
   },
   "source": [
    "And, we don't need to define our own `DotProduct` class. We can instead use fast.ai's `collab_learner`."
   ]
  },
  {
   "cell_type": "code",
   "execution_count": 11,
   "metadata": {
    "colab": {
     "base_uri": "https://localhost:8080/",
     "height": 206
    },
    "id": "gpLoLcFxMURd",
    "outputId": "08a995b3-388b-4e1c-f37f-85736b110d24"
   },
   "outputs": [
    {
     "data": {
      "text/html": [
       "\n",
       "<style>\n",
       "    /* Turns off some styling */\n",
       "    progress {\n",
       "        /* gets rid of default border in Firefox and Opera. */\n",
       "        border: none;\n",
       "        /* Needs to be in here for Safari polyfill so background images work as expected. */\n",
       "        background-size: auto;\n",
       "    }\n",
       "    .progress-bar-interrupted, .progress-bar-interrupted::-webkit-progress-bar {\n",
       "        background: #F44336;\n",
       "    }\n",
       "</style>\n"
      ],
      "text/plain": [
       "<IPython.core.display.HTML object>"
      ]
     },
     "metadata": {},
     "output_type": "display_data"
    },
    {
     "data": {
      "text/html": [
       "<table border=\"1\" class=\"dataframe\">\n",
       "  <thead>\n",
       "    <tr style=\"text-align: left;\">\n",
       "      <th>epoch</th>\n",
       "      <th>train_loss</th>\n",
       "      <th>valid_loss</th>\n",
       "      <th>time</th>\n",
       "    </tr>\n",
       "  </thead>\n",
       "  <tbody>\n",
       "    <tr>\n",
       "      <td>0</td>\n",
       "      <td>0.940803</td>\n",
       "      <td>0.954099</td>\n",
       "      <td>00:08</td>\n",
       "    </tr>\n",
       "    <tr>\n",
       "      <td>1</td>\n",
       "      <td>0.846296</td>\n",
       "      <td>0.874175</td>\n",
       "      <td>00:07</td>\n",
       "    </tr>\n",
       "    <tr>\n",
       "      <td>2</td>\n",
       "      <td>0.741423</td>\n",
       "      <td>0.838990</td>\n",
       "      <td>00:07</td>\n",
       "    </tr>\n",
       "    <tr>\n",
       "      <td>3</td>\n",
       "      <td>0.590897</td>\n",
       "      <td>0.822672</td>\n",
       "      <td>00:07</td>\n",
       "    </tr>\n",
       "    <tr>\n",
       "      <td>4</td>\n",
       "      <td>0.492853</td>\n",
       "      <td>0.823269</td>\n",
       "      <td>00:07</td>\n",
       "    </tr>\n",
       "  </tbody>\n",
       "</table>"
      ],
      "text/plain": [
       "<IPython.core.display.HTML object>"
      ]
     },
     "metadata": {},
     "output_type": "display_data"
    }
   ],
   "source": [
    "learn = collab_learner(dls, n_factors = 50, y_range = (0, 5.5))\n",
    "learn.fit_one_cycle(5, 5e-3, wd = 0.1)"
   ]
  },
  {
   "cell_type": "markdown",
   "metadata": {
    "id": "Zf1s0h0iMjYz"
   },
   "source": [
    "And we see the results are similar since the model used by `collab_learner` is essentially equivalent:"
   ]
  },
  {
   "cell_type": "code",
   "execution_count": 12,
   "metadata": {
    "colab": {
     "base_uri": "https://localhost:8080/"
    },
    "id": "EEzyIdccMqx-",
    "outputId": "44274591-6595-4ae2-8acb-b53661b7f833"
   },
   "outputs": [
    {
     "data": {
      "text/plain": [
       "EmbeddingDotBias(\n",
       "  (u_weight): Embedding(944, 50)\n",
       "  (i_weight): Embedding(1665, 50)\n",
       "  (u_bias): Embedding(944, 1)\n",
       "  (i_bias): Embedding(1665, 1)\n",
       ")"
      ]
     },
     "execution_count": 12,
     "metadata": {},
     "output_type": "execute_result"
    }
   ],
   "source": [
    "#\n",
    "# 50 latent factors for users and items\n",
    "# bias for users and items\n",
    "learn.model"
   ]
  },
  {
   "cell_type": "markdown",
   "metadata": {
    "id": "nAck7WGbNFeU"
   },
   "source": [
    "To turn our architecture into a deep learning model, we need a neural network. With a neural network, we start with a large matrix that we pass through layers. Instead of taking the dot product, we concatenate the latent factors from the users and the items. So, we also don't need the same number of latent factors for users as for items. To get the number of latent factors, we can use fast.ai's `get_emb_sz` function on our `DataLoaders`, which will give us recommended latent factors:"
   ]
  },
  {
   "cell_type": "code",
   "execution_count": 13,
   "metadata": {
    "colab": {
     "base_uri": "https://localhost:8080/"
    },
    "id": "71yV8YFYN_q5",
    "outputId": "5a584a33-bc6c-4922-e424-b74212529de5"
   },
   "outputs": [
    {
     "data": {
      "text/plain": [
       "[(944, 74), (1665, 102)]"
      ]
     },
     "execution_count": 13,
     "metadata": {},
     "output_type": "execute_result"
    }
   ],
   "source": [
    "embs = get_emb_sz(dls)\n",
    "embs"
   ]
  },
  {
   "cell_type": "markdown",
   "metadata": {
    "id": "E8jHxrw6OEMi"
   },
   "source": [
    "And, we can rewrite our `DotProduct` class like so:"
   ]
  },
  {
   "cell_type": "code",
   "execution_count": 28,
   "metadata": {
    "id": "iWNW9GiKNNWp"
   },
   "outputs": [],
   "source": [
    "class SimpleNet(Module):\n",
    "    def __init__(self, user_sz, item_sz, y_range = (0, 5.5), n_acts = 100):\n",
    "        # nn.Linear implements bias implicitly, so we\n",
    "        # don't need to define our own bias.\n",
    "        self.user_factors = Embedding(*user_sz)\n",
    "        self.item_factors = Embedding(*item_sz)\n",
    "        self.layers       = nn.Sequential(\n",
    "            nn.Linear(user_sz[1] + item_sz[1], n_acts),\n",
    "            nn.ReLU(),\n",
    "            nn.Linear(n_acts, 1))\n",
    "        self.y_range      = y_range\n",
    "\n",
    "    def forward(self, x):\n",
    "        embs = self.user_factors(x[:,0]),self.item_factors(x[:,1])\n",
    "        x    = self.layers(torch.cat(embs, dim = 1))\n",
    "        return sigmoid_range(x, *self.y_range)"
   ]
  },
  {
   "cell_type": "markdown",
   "metadata": {
    "id": "hyq54NNOPjgO"
   },
   "source": [
    "Then, we can put it in a `Learner` and train our deep learning model:"
   ]
  },
  {
   "cell_type": "code",
   "execution_count": 29,
   "metadata": {
    "colab": {
     "base_uri": "https://localhost:8080/",
     "height": 206
    },
    "id": "M8F6n0uhPn2e",
    "outputId": "8a745378-cbf8-4083-f9d4-ede64cb97b88"
   },
   "outputs": [
    {
     "data": {
      "text/html": [
       "\n",
       "<style>\n",
       "    /* Turns off some styling */\n",
       "    progress {\n",
       "        /* gets rid of default border in Firefox and Opera. */\n",
       "        border: none;\n",
       "        /* Needs to be in here for Safari polyfill so background images work as expected. */\n",
       "        background-size: auto;\n",
       "    }\n",
       "    .progress-bar-interrupted, .progress-bar-interrupted::-webkit-progress-bar {\n",
       "        background: #F44336;\n",
       "    }\n",
       "</style>\n"
      ],
      "text/plain": [
       "<IPython.core.display.HTML object>"
      ]
     },
     "metadata": {},
     "output_type": "display_data"
    },
    {
     "data": {
      "text/html": [
       "<table border=\"1\" class=\"dataframe\">\n",
       "  <thead>\n",
       "    <tr style=\"text-align: left;\">\n",
       "      <th>epoch</th>\n",
       "      <th>train_loss</th>\n",
       "      <th>valid_loss</th>\n",
       "      <th>time</th>\n",
       "    </tr>\n",
       "  </thead>\n",
       "  <tbody>\n",
       "    <tr>\n",
       "      <td>0</td>\n",
       "      <td>0.942289</td>\n",
       "      <td>0.957183</td>\n",
       "      <td>00:07</td>\n",
       "    </tr>\n",
       "    <tr>\n",
       "      <td>1</td>\n",
       "      <td>0.918996</td>\n",
       "      <td>0.915120</td>\n",
       "      <td>00:07</td>\n",
       "    </tr>\n",
       "    <tr>\n",
       "      <td>2</td>\n",
       "      <td>0.854367</td>\n",
       "      <td>0.902296</td>\n",
       "      <td>00:07</td>\n",
       "    </tr>\n",
       "    <tr>\n",
       "      <td>3</td>\n",
       "      <td>0.820374</td>\n",
       "      <td>0.877131</td>\n",
       "      <td>00:07</td>\n",
       "    </tr>\n",
       "    <tr>\n",
       "      <td>4</td>\n",
       "      <td>0.827481</td>\n",
       "      <td>0.877810</td>\n",
       "      <td>00:07</td>\n",
       "    </tr>\n",
       "  </tbody>\n",
       "</table>"
      ],
      "text/plain": [
       "<IPython.core.display.HTML object>"
      ]
     },
     "metadata": {},
     "output_type": "display_data"
    }
   ],
   "source": [
    "model = SimpleNet(*embs)\n",
    "learn = Learner(dls, model, loss_func = MSELossFlat())\n",
    "learn.fit_one_cycle(5, 5e-3, wd = 0.1)"
   ]
  },
  {
   "cell_type": "markdown",
   "metadata": {
    "id": "N9XM6jwyRwDc"
   },
   "source": [
    "And, like how we didn't need to define our own `DotProduct` class and use `collab_learner` instead, we can also do the same with `SimpleNet`. "
   ]
  },
  {
   "cell_type": "code",
   "execution_count": 31,
   "metadata": {
    "colab": {
     "base_uri": "https://localhost:8080/",
     "height": 206
    },
    "id": "P65eoKz4R2ed",
    "outputId": "638636c1-e820-45ac-c512-dc4fafb31ba2"
   },
   "outputs": [
    {
     "data": {
      "text/html": [
       "\n",
       "<style>\n",
       "    /* Turns off some styling */\n",
       "    progress {\n",
       "        /* gets rid of default border in Firefox and Opera. */\n",
       "        border: none;\n",
       "        /* Needs to be in here for Safari polyfill so background images work as expected. */\n",
       "        background-size: auto;\n",
       "    }\n",
       "    .progress-bar-interrupted, .progress-bar-interrupted::-webkit-progress-bar {\n",
       "        background: #F44336;\n",
       "    }\n",
       "</style>\n"
      ],
      "text/plain": [
       "<IPython.core.display.HTML object>"
      ]
     },
     "metadata": {},
     "output_type": "display_data"
    },
    {
     "data": {
      "text/html": [
       "<table border=\"1\" class=\"dataframe\">\n",
       "  <thead>\n",
       "    <tr style=\"text-align: left;\">\n",
       "      <th>epoch</th>\n",
       "      <th>train_loss</th>\n",
       "      <th>valid_loss</th>\n",
       "      <th>time</th>\n",
       "    </tr>\n",
       "  </thead>\n",
       "  <tbody>\n",
       "    <tr>\n",
       "      <td>0</td>\n",
       "      <td>1.018050</td>\n",
       "      <td>0.979968</td>\n",
       "      <td>00:13</td>\n",
       "    </tr>\n",
       "    <tr>\n",
       "      <td>1</td>\n",
       "      <td>0.906580</td>\n",
       "      <td>0.922872</td>\n",
       "      <td>00:08</td>\n",
       "    </tr>\n",
       "    <tr>\n",
       "      <td>2</td>\n",
       "      <td>0.909671</td>\n",
       "      <td>0.890887</td>\n",
       "      <td>00:08</td>\n",
       "    </tr>\n",
       "    <tr>\n",
       "      <td>3</td>\n",
       "      <td>0.814160</td>\n",
       "      <td>0.870163</td>\n",
       "      <td>00:08</td>\n",
       "    </tr>\n",
       "    <tr>\n",
       "      <td>4</td>\n",
       "      <td>0.802491</td>\n",
       "      <td>0.869587</td>\n",
       "      <td>00:09</td>\n",
       "    </tr>\n",
       "  </tbody>\n",
       "</table>"
      ],
      "text/plain": [
       "<IPython.core.display.HTML object>"
      ]
     },
     "metadata": {},
     "output_type": "display_data"
    }
   ],
   "source": [
    "#\n",
    "# We just have to enable the use_nn parameter and\n",
    "# give it layers\n",
    "learn = collab_learner(dls, use_nn = True, y_range = (0, 5.5), layers = [100, 50])\n",
    "learn.fit_one_cycle(5, 5e-3, wd = 0.1)"
   ]
  },
  {
   "cell_type": "markdown",
   "metadata": {
    "id": "k167qyZzTOdr"
   },
   "source": [
    "## Interpreting the results"
   ]
  },
  {
   "cell_type": "markdown",
   "metadata": {
    "id": "SpVbJ-NjTUj5"
   },
   "source": [
    "Now that you've trained a model, there's several ways to interpret your results. \n",
    "\n",
    "First, we can look at the biases:"
   ]
  },
  {
   "cell_type": "code",
   "execution_count": 65,
   "metadata": {
    "colab": {
     "base_uri": "https://localhost:8080/"
    },
    "id": "RLIK0KXRTkq1",
    "outputId": "4fe17840-81fb-4544-c591-78d4b799d373"
   },
   "outputs": [
    {
     "data": {
      "text/plain": [
       "(['Children of the Corn: The Gathering (1996)',\n",
       "  'Lawnmower Man 2: Beyond Cyberspace (1996)',\n",
       "  'Crow: City of Angels, The (1996)',\n",
       "  'Beautician and the Beast, The (1997)',\n",
       "  'Robocop 3 (1993)'],\n",
       " ['Titanic (1997)',\n",
       "  'L.A. Confidential (1997)',\n",
       "  'Shawshank Redemption, The (1994)',\n",
       "  \"Schindler's List (1993)\",\n",
       "  'Silence of the Lambs, The (1991)'])"
      ]
     },
     "execution_count": 65,
     "metadata": {},
     "output_type": "execute_result"
    }
   ],
   "source": [
    "#\n",
    "# First, take the biases and put them into\n",
    "# a one-dimensional tensor that we can sort\n",
    "item_bias = learn.model.item_bias.weight.squeeze()\n",
    "# argsort returns a list of indexes that would\n",
    "# sort the tensor\n",
    "idxs_bot  = item_bias.argsort()[:5]\n",
    "idxs_top  = item_bias.argsort(descending = True)[:5]\n",
    "# display the titles of the 5 \"worst\" movies\n",
    "# and the 5 \"best\" movies, respectively\n",
    "[dls.classes['title'][i] for i in idxs_bot],[dls.classes['title'][i] for i in idxs_top]"
   ]
  },
  {
   "cell_type": "markdown",
   "metadata": {
    "id": "bTIbJkA4YyRa"
   },
   "source": [
    "Then, we can find the distances:"
   ]
  },
  {
   "cell_type": "code",
   "execution_count": 70,
   "metadata": {
    "colab": {
     "base_uri": "https://localhost:8080/"
    },
    "id": "CZnXZU6xY1BY",
    "outputId": "fd0c1630-36bc-41c2-a301-f9d976683485"
   },
   "outputs": [
    {
     "data": {
      "text/plain": [
       "(#4) ['That Thing You Do! (1996)','Abyss, The (1989)','Wizard of Oz, The (1939)','Aladdin (1992)']"
      ]
     },
     "execution_count": 70,
     "metadata": {},
     "output_type": "execute_result"
    }
   ],
   "source": [
    "item_factors = learn.model.item_factors.weight\n",
    "idx = dls.classes['title'].o2i['Toy Story (1995)']\n",
    "distances = nn.CosineSimilarity()(item_factors, item_factors[idx][None])\n",
    "idx = distances.argsort(descending = True)[1:5]\n",
    "dls.classes['title'][idx]"
   ]
  },
  {
   "cell_type": "markdown",
   "metadata": {
    "id": "0tun5nRMeJ7p"
   },
   "source": [
    "So, the four movies in the data set that are most similar to `Toy Story` are the ones above. \n",
    "\n",
    "In the next few blogs, I'll be talking more about deep and machine learning with tabular data. "
   ]
  }
 ],
 "metadata": {
  "accelerator": "GPU",
  "colab": {
   "collapsed_sections": [],
   "name": "2022-03-16-Collab.ipynb",
   "provenance": []
  },
  "kernelspec": {
   "display_name": "Python 3 (ipykernel)",
   "language": "python",
   "name": "python3"
  },
  "language_info": {
   "codemirror_mode": {
    "name": "ipython",
    "version": 3
   },
   "file_extension": ".py",
   "mimetype": "text/x-python",
   "name": "python",
   "nbconvert_exporter": "python",
   "pygments_lexer": "ipython3",
   "version": "3.10.4"
  }
 },
 "nbformat": 4,
 "nbformat_minor": 1
}
