{
 "cells": [
  {
   "cell_type": "code",
   "execution_count": 1,
   "metadata": {
    "colab": {
     "base_uri": "https://localhost:8080/"
    },
    "id": "UyFfbmCM7Zeu",
    "outputId": "020c72cb-6757-4238-83e5-7077e165cd3b"
   },
   "outputs": [
    {
     "name": "stdout",
     "output_type": "stream",
     "text": [
      "\u001b[K     |████████████████████████████████| 720 kB 5.3 MB/s \n",
      "\u001b[K     |████████████████████████████████| 189 kB 16.0 MB/s \n",
      "\u001b[K     |████████████████████████████████| 1.2 MB 38.2 MB/s \n",
      "\u001b[K     |████████████████████████████████| 48 kB 3.5 MB/s \n",
      "\u001b[K     |████████████████████████████████| 56 kB 4.6 MB/s \n",
      "\u001b[K     |████████████████████████████████| 558 kB 46.8 MB/s \n",
      "\u001b[K     |████████████████████████████████| 51 kB 310 kB/s \n",
      "\u001b[K     |████████████████████████████████| 130 kB 49.0 MB/s \n",
      "\u001b[?25hMounted at /content/gdrive\n"
     ]
    }
   ],
   "source": [
    "#hide\n",
    "!pip install -Uqq fastbook\n",
    "import fastbook\n",
    "fastbook.setup_book()"
   ]
  },
  {
   "cell_type": "code",
   "execution_count": 2,
   "metadata": {
    "id": "PXMLhn5A7cYO"
   },
   "outputs": [],
   "source": [
    "#hide\n",
    "from fastai.vision.all import *\n",
    "from fastbook import *\n",
    "\n",
    "matplotlib.rc('image', cmap='Greys')"
   ]
  },
  {
   "cell_type": "markdown",
   "metadata": {
    "id": "2huO0kSPFOFr"
   },
   "source": [
    "# \"Pixel Similarity vs. Basic Neural Net on the MNIST data set\"\n",
    "> \"Comparing two digit classifiers: a \"similarity\" approach and a 3 layer neural network.\"\n",
    "\n",
    "- categories: [vision]"
   ]
  },
  {
   "cell_type": "markdown",
   "metadata": {
    "id": "ENNLevwrKx4v"
   },
   "source": [
    "## Pixel similarity\n",
    "We will take the average of each digit to get its \"perfect\" version. Then, we compare an image to each of those perfect numbers and see which one is the most similar. \n",
    "\n",
    "First, we'll download the MNIST dataset:"
   ]
  },
  {
   "cell_type": "code",
   "execution_count": 28,
   "metadata": {
    "id": "xO-csgy5r5Ky"
   },
   "outputs": [],
   "source": [
    "path = untar_data(URLs.MNIST)"
   ]
  },
  {
   "cell_type": "markdown",
   "metadata": {
    "id": "Z9zHzTqeGjRq"
   },
   "source": [
    "The dataset is separated into training and testing subfolders, where in those folders, there are separate folders for each digit:"
   ]
  },
  {
   "cell_type": "code",
   "execution_count": 29,
   "metadata": {
    "id": "YXw_cleFKClY"
   },
   "outputs": [],
   "source": [
    "Path.BASE_PATH = path"
   ]
  },
  {
   "cell_type": "code",
   "execution_count": 30,
   "metadata": {
    "colab": {
     "base_uri": "https://localhost:8080/"
    },
    "id": "AR0JZtWiJ82t",
    "outputId": "e5e04005-b6f8-4255-d1d2-8b68d95bd890"
   },
   "outputs": [
    {
     "data": {
      "text/plain": [
       "((#2) [Path('testing'),Path('training')],\n",
       " (#10) [Path('training/7'),Path('training/8'),Path('training/1'),Path('training/6'),Path('training/3'),Path('training/2'),Path('training/5'),Path('training/4'),Path('training/0'),Path('training/9')])"
      ]
     },
     "execution_count": 30,
     "metadata": {},
     "output_type": "execute_result"
    }
   ],
   "source": [
    "path.ls(),(path/'training').ls()"
   ]
  },
  {
   "cell_type": "markdown",
   "metadata": {
    "id": "sv9nWPbbG8R3"
   },
   "source": [
    "We'll store the path of each image in an array, where the `i`th row contains the path for the `i`th digit:"
   ]
  },
  {
   "cell_type": "code",
   "execution_count": 31,
   "metadata": {
    "id": "Mbo-3o6VKWn1"
   },
   "outputs": [],
   "source": [
    "nums = [(path/'training'/f'{x}').ls().sorted() for x in range(10)]"
   ]
  },
  {
   "cell_type": "code",
   "execution_count": 32,
   "metadata": {
    "colab": {
     "base_uri": "https://localhost:8080/",
     "height": 45
    },
    "id": "nkqvjqgVKmBV",
    "outputId": "75a71011-9fdd-4c1f-f7b3-aad98e802425"
   },
   "outputs": [
    {
     "data": {
      "image/png": "[encoded data removed]",
      "text/plain": [
       "<PIL.PngImagePlugin.PngImageFile image mode=L size=28x28 at 0x7FB1E3F2F990>"
      ]
     },
     "execution_count": 32,
     "metadata": {},
     "output_type": "execute_result"
    }
   ],
   "source": [
    "im3_path = nums[3][0]\n",
    "im3 = Image.open(im3_path)\n",
    "im3"
   ]
  },
  {
   "cell_type": "markdown",
   "metadata": {
    "id": "b3hYOj_qHKE0"
   },
   "source": [
    "Then, we'll open the images, put every image of the same digit into their own tensor and store them as a list of tensors:"
   ]
  },
  {
   "cell_type": "code",
   "execution_count": 33,
   "metadata": {
    "id": "gxUvAz9EK2r9"
   },
   "outputs": [],
   "source": [
    "nums_tens = [torch.stack([tensor(Image.open(j)) for j in nums[i]]) for i in range(10)]\n",
    "nums_tens = [nums_tens[i].float()/255 for i in range(10)]"
   ]
  },
  {
   "cell_type": "markdown",
   "metadata": {
    "id": "syGwym1RHe6l"
   },
   "source": [
    "We can then take the mean of one of the tensors to get its \"perfect\" version. Here is how it looks like for a `3`:"
   ]
  },
  {
   "cell_type": "code",
   "execution_count": 34,
   "metadata": {
    "colab": {
     "base_uri": "https://localhost:8080/",
     "height": 102
    },
    "id": "79NPG9FyL8UN",
    "outputId": "d1c6c4bf-0c95-4d36-b313-fda76d19dcd9"
   },
   "outputs": [
    {
     "data": {
      "text/plain": [
       "<matplotlib.axes._subplots.AxesSubplot at 0x7fb1e3d3acd0>"
      ]
     },
     "execution_count": 34,
     "metadata": {},
     "output_type": "execute_result"
    },
    {
     "data": {
      "image/png": "[encoded data removed]",
      "text/plain": [
       "<Figure size 72x72 with 1 Axes>"
      ]
     },
     "metadata": {
      "needs_background": "light"
     },
     "output_type": "display_data"
    }
   ],
   "source": [
    "stacked_threes = nums_tens[3].mean(0)\n",
    "show_image(stacked_threes)"
   ]
  },
  {
   "cell_type": "markdown",
   "metadata": {
    "id": "SpEFU_dgIEth"
   },
   "source": [
    "And to compare, here is just one of those threes:"
   ]
  },
  {
   "cell_type": "code",
   "execution_count": 35,
   "metadata": {
    "colab": {
     "base_uri": "https://localhost:8080/",
     "height": 102
    },
    "id": "tc7Is4YdMvKu",
    "outputId": "b8f8ce7e-12b8-4dcc-d0d9-27809fa66082"
   },
   "outputs": [
    {
     "data": {
      "text/plain": [
       "<matplotlib.axes._subplots.AxesSubplot at 0x7fb1e36f1750>"
      ]
     },
     "execution_count": 35,
     "metadata": {},
     "output_type": "execute_result"
    },
    {
     "data": {
      "image/png": "[encoded data removed]",
      "text/plain": [
       "<Figure size 72x72 with 1 Axes>"
      ]
     },
     "metadata": {
      "needs_background": "light"
     },
     "output_type": "display_data"
    }
   ],
   "source": [
    "a_3 = nums_tens[3][0]\n",
    "show_image(a_3)"
   ]
  },
  {
   "cell_type": "markdown",
   "metadata": {
    "id": "8vb9qJ1mHquC"
   },
   "source": [
    "Next, we'll create a function that compares two tensors through absolute mean difference:"
   ]
  },
  {
   "cell_type": "code",
   "execution_count": 37,
   "metadata": {
    "id": "9WLVA3mdMO82"
   },
   "outputs": [],
   "source": [
    "def mnist_distance(x1, x2): \n",
    "    return (x1 - x2).abs().mean((-1, -2))"
   ]
  },
  {
   "cell_type": "markdown",
   "metadata": {
    "id": "EMkjn__UIWmt"
   },
   "source": [
    "Now we can compare one of the threes with its \"perfect\" version. The number doesn't really mean anything until we compare it with another number:"
   ]
  },
  {
   "cell_type": "code",
   "execution_count": 38,
   "metadata": {
    "colab": {
     "base_uri": "https://localhost:8080/"
    },
    "id": "af0CO5ljMrIx",
    "outputId": "bdf6443c-01cf-4efb-ba34-6d5043d0451e"
   },
   "outputs": [
    {
     "data": {
      "text/plain": [
       "tensor(0.1074)"
      ]
     },
     "execution_count": 38,
     "metadata": {},
     "output_type": "execute_result"
    }
   ],
   "source": [
    "mnist_distance(a_3, stacked_threes)"
   ]
  },
  {
   "cell_type": "markdown",
   "metadata": {
    "id": "BDJ8XiB1Iqzh"
   },
   "source": [
    "So, we'll take the average seven and take the L1 norm (absolute mean difference) and compare that number with the number we just got (`0.1074`)"
   ]
  },
  {
   "cell_type": "code",
   "execution_count": 39,
   "metadata": {
    "colab": {
     "base_uri": "https://localhost:8080/",
     "height": 102
    },
    "id": "CAsD30adM284",
    "outputId": "09544744-5cf4-4b4a-dd91-5bd79b49eb04"
   },
   "outputs": [
    {
     "data": {
      "text/plain": [
       "<matplotlib.axes._subplots.AxesSubplot at 0x7fb1e0401510>"
      ]
     },
     "execution_count": 39,
     "metadata": {},
     "output_type": "execute_result"
    },
    {
     "data": {
      "image/png": "[encoded data removed]",
      "text/plain": [
       "<Figure size 72x72 with 1 Axes>"
      ]
     },
     "metadata": {
      "needs_background": "light"
     },
     "output_type": "display_data"
    }
   ],
   "source": [
    "stacked_sevens = nums_tens[7].mean(0)\n",
    "show_image(stacked_sevens)"
   ]
  },
  {
   "cell_type": "code",
   "execution_count": 40,
   "metadata": {
    "colab": {
     "base_uri": "https://localhost:8080/"
    },
    "id": "WuZqI9VnM79x",
    "outputId": "45cba98c-5444-4fba-c642-14135626088c"
   },
   "outputs": [
    {
     "data": {
      "text/plain": [
       "tensor(0.1441)"
      ]
     },
     "execution_count": 40,
     "metadata": {},
     "output_type": "execute_result"
    }
   ],
   "source": [
    "mnist_distance(a_3, stacked_sevens)"
   ]
  },
  {
   "cell_type": "markdown",
   "metadata": {
    "id": "fV-YNbXEI1sX"
   },
   "source": [
    "As you can see, the distance between the `3` and the average `3` is smaller than the distance between the `3` and the average `7`. So, it is *more three than seven*. We'll extend this approach by comparing an image with the average for each digit and say it is the digit it is the most similar to (its L1 norm with that average digit is the smallest).\n",
    "\n",
    "We'll create the average number for each digit:"
   ]
  },
  {
   "cell_type": "code",
   "execution_count": 41,
   "metadata": {
    "colab": {
     "base_uri": "https://localhost:8080/",
     "height": 102
    },
    "id": "ryI4DsFyNSIZ",
    "outputId": "e750441b-e6f4-47ca-b42e-0b21332d65cd"
   },
   "outputs": [
    {
     "data": {
      "text/plain": [
       "<matplotlib.axes._subplots.AxesSubplot at 0x7fb1e2b5e150>"
      ]
     },
     "execution_count": 41,
     "metadata": {},
     "output_type": "execute_result"
    },
    {
     "data": {
      "image/png": "[encoded data removed]",
      "text/plain": [
       "<Figure size 72x72 with 1 Axes>"
      ]
     },
     "metadata": {
      "needs_background": "light"
     },
     "output_type": "display_data"
    }
   ],
   "source": [
    "stacked_nums = [nums_tens[i].mean(0) for i in range(10)]\n",
    "show_image(stacked_nums[4])"
   ]
  },
  {
   "cell_type": "markdown",
   "metadata": {
    "id": "rKDcQtztJXc8"
   },
   "source": [
    "We can compare our `3` to each average digit:"
   ]
  },
  {
   "cell_type": "code",
   "execution_count": 42,
   "metadata": {
    "colab": {
     "base_uri": "https://localhost:8080/"
    },
    "id": "hOE6XVrpNWfi",
    "outputId": "6c22cc47-0a44-4438-d574-095600b6b1a0"
   },
   "outputs": [
    {
     "data": {
      "text/plain": [
       "(#10) [tensor(0.1750),tensor(0.1153),tensor(0.1501),tensor(0.1074),tensor(0.1635),tensor(0.1326),tensor(0.1579),tensor(0.1441),tensor(0.1345),tensor(0.1402)]"
      ]
     },
     "execution_count": 42,
     "metadata": {},
     "output_type": "execute_result"
    }
   ],
   "source": [
    "L(mnist_distance(a_3, stacked_nums[i]) for i in range(10))"
   ]
  },
  {
   "cell_type": "markdown",
   "metadata": {
    "id": "lbpba4TVJcye"
   },
   "source": [
    "As you can see, it is most similar to the average three.\n",
    "\n",
    "Now we'll import the validation set and put them into a list of tensors:"
   ]
  },
  {
   "cell_type": "code",
   "execution_count": 43,
   "metadata": {
    "id": "XA7Uc5syOSxI"
   },
   "outputs": [],
   "source": [
    "valid_nums = [(path/'testing'/f'{i}').ls().sorted() for i in range(10)]"
   ]
  },
  {
   "cell_type": "code",
   "execution_count": 44,
   "metadata": {
    "id": "_8lwoiwYNg6F"
   },
   "outputs": [],
   "source": [
    "valid_nums_tens = [torch.stack([tensor(Image.open(j)) for j in valid_nums[i]]) for i in range(10)]\n",
    "valid_nums_tens = [valid_nums_tens[i].float()/255 for i in range(10)]"
   ]
  },
  {
   "cell_type": "markdown",
   "metadata": {
    "id": "7aNVb5ZPJv5Z"
   },
   "source": [
    "We'll create a function that returns the accuracy of our whole process:"
   ]
  },
  {
   "cell_type": "code",
   "execution_count": 45,
   "metadata": {
    "id": "unX5SPQkUuF5"
   },
   "outputs": [],
   "source": [
    "def is_num(x1, x2s, x):\n",
    "    # Get the distance between the number and the average digit for each digit\n",
    "    vals = [mnist_distance(x1, x2s[i]) for i in range(10)]\n",
    "\n",
    "    # Turn the tensors into floats so that we can perform the `min` function\n",
    "    vals_2 = [[vals[i][j].item() for i in range(10)] for j in range(len(x1))]\n",
    "\n",
    "    # Get a list of tensors that contain a bool value, where it's true when\n",
    "    # the minimum distance is equal to the digit the given number is supposed\n",
    "    # to be\n",
    "    vals_3 = [tensor(vals_2[i].index(min(vals_2[i])) == x) for i in range(len(x1))]\n",
    "\n",
    "    # Return how often our model is correct\n",
    "    return tensor(vals_3).float().mean(0)"
   ]
  },
  {
   "cell_type": "code",
   "execution_count": 46,
   "metadata": {
    "colab": {
     "base_uri": "https://localhost:8080/"
    },
    "id": "Kow0ncifSBao",
    "outputId": "c0f0abe8-020d-4260-fcba-b50e15ee9246"
   },
   "outputs": [
    {
     "data": {
      "text/plain": [
       "(tensor([0.8153, 0.9982, 0.4234, 0.6089, 0.6680, 0.3262, 0.7871, 0.7646, 0.4425, 0.7760]),\n",
       " tensor(0.6610))"
      ]
     },
     "execution_count": 46,
     "metadata": {},
     "output_type": "execute_result"
    }
   ],
   "source": [
    "nums_accuracy = tensor([is_num(valid_nums_tens[i], stacked_nums, i) for i in range(10)])\n",
    "nums_accuracy, nums_accuracy.mean(0)"
   ]
  },
  {
   "cell_type": "markdown",
   "metadata": {
    "id": "Gz4Et_aRKuUS"
   },
   "source": [
    "Our model has an overall accuracy of `66.1%`! Better than a random guess of `10%`, but certainly not good. It is particularly good at guessing if a number is a `1`, but particularly bad for `2`s, `5`s and `8`s.\n",
    "\n",
    "Now that we have a baseline, we can try how good we can get a simple model \"from scratch.\""
   ]
  },
  {
   "cell_type": "markdown",
   "metadata": {
    "id": "rm44JVZAKsSQ"
   },
   "source": [
    "# Basic neural network"
   ]
  },
  {
   "cell_type": "markdown",
   "metadata": {
    "id": "GOisQCWkg03S"
   },
   "source": [
    "For our \"from scratch\" learner, we'll have 2 layers, where each layer contains a linear layer and a ReLU (rectified linear unit, where all negative numbers become `0`).\n",
    "\n",
    "For our loss function, we will be using cross-entropy loss since we have multiple categories.  \n",
    "\n",
    "First, we'll make our training and validation datasets and dataloaders. Then, we'll initialize parameters, figure out how to make predictions, calculate the loss (cross-entropy), calculate the gradients, and then step (using the provided SGD optimizer). \n",
    "\n",
    "Let's first redownload the MNIST dataset:"
   ]
  },
  {
   "cell_type": "code",
   "execution_count": 47,
   "metadata": {
    "id": "8PqeZ2cig0hZ"
   },
   "outputs": [],
   "source": [
    "path = untar_data(URLs.MNIST)"
   ]
  },
  {
   "cell_type": "code",
   "execution_count": 48,
   "metadata": {
    "id": "ttej2JypKwjG"
   },
   "outputs": [],
   "source": [
    "Path.BASE_PATH = path"
   ]
  },
  {
   "cell_type": "code",
   "execution_count": 49,
   "metadata": {
    "colab": {
     "base_uri": "https://localhost:8080/"
    },
    "id": "3DGBgE2jhkOV",
    "outputId": "fa1ec8b0-3498-4ec4-ff5c-b907e903e5c1"
   },
   "outputs": [
    {
     "data": {
      "text/plain": [
       "(#2) [Path('testing'),Path('training')]"
      ]
     },
     "execution_count": 49,
     "metadata": {},
     "output_type": "execute_result"
    }
   ],
   "source": [
    "path.ls()"
   ]
  },
  {
   "cell_type": "markdown",
   "metadata": {
    "id": "xhaVUJAMijug"
   },
   "source": [
    "Then, we'll save the training and validation images into separate variables:"
   ]
  },
  {
   "cell_type": "code",
   "execution_count": 50,
   "metadata": {
    "id": "bkO6msIiiWUh"
   },
   "outputs": [],
   "source": [
    "nums = [(path/'training'/f'{x}').ls().sorted() for x in range(10)]"
   ]
  },
  {
   "cell_type": "code",
   "execution_count": 51,
   "metadata": {
    "id": "tnbLOejHibBL"
   },
   "outputs": [],
   "source": [
    "nums_tens = [torch.stack([tensor(Image.open(j)) for j in nums[i]]) for i in range(10)]\n",
    "nums_tens = [nums_tens[i].float()/255 for i in range(10)]"
   ]
  },
  {
   "cell_type": "code",
   "execution_count": 52,
   "metadata": {
    "id": "JLm6wVVpidFP"
   },
   "outputs": [],
   "source": [
    "valid_nums = [(path/'testing'/f'{i}').ls().sorted() for i in range(10)]"
   ]
  },
  {
   "cell_type": "code",
   "execution_count": 53,
   "metadata": {
    "id": "lpVBBtsXieW0"
   },
   "outputs": [],
   "source": [
    "valid_nums_tens = [torch.stack([tensor(Image.open(j)) for j in valid_nums[i]]) for i in range(10)]\n",
    "valid_nums_tens = [valid_nums_tens[i].float()/255 for i in range(10)]"
   ]
  },
  {
   "cell_type": "markdown",
   "metadata": {
    "id": "7h3psBkJkbU0"
   },
   "source": [
    "Next, we'll create our dataset from our training set. A dataset is a list of tuples, which contains the independent variable and its label (dependent variable) like so: `(independent, dependent)`. "
   ]
  },
  {
   "cell_type": "code",
   "execution_count": 12,
   "metadata": {
    "id": "dHWhl1VxkiMx"
   },
   "outputs": [],
   "source": [
    "train_x = torch.cat(nums_tens).view(-1, 28*28)"
   ]
  },
  {
   "cell_type": "markdown",
   "metadata": {
    "id": "pnEm6ZgGMTmM"
   },
   "source": [
    "It took a while for me to realize what the `.view()` function was doing, but what it does is pretty simple. We give it however many values we want (that makes sense) to change the shape of our tensor. Here we give it `-1, 28*28` which will turn our rank-3 tensor (`n`-images of 28 by 28) into a rank-2 tensor (`n`-images of 28\\*28). `-1` makes it so that we don't have to specify how many images there are and `28*28` means we want to compress our previous `28` by `28` grid into a `28*28` vector. It's like turning a 2D array into a 1D array:"
   ]
  },
  {
   "cell_type": "code",
   "execution_count": 54,
   "metadata": {
    "colab": {
     "base_uri": "https://localhost:8080/"
    },
    "id": "ydgJRGOgkz51",
    "outputId": "804abb47-985b-4bfc-95f5-5f49db7b545b"
   },
   "outputs": [
    {
     "data": {
      "text/plain": [
       "(torch.Size([5923, 784]), torch.Size([5923, 784]))"
      ]
     },
     "execution_count": 54,
     "metadata": {},
     "output_type": "execute_result"
    }
   ],
   "source": [
    "# \n",
    "# -1 makes it so that we don't have to know how many images there are\n",
    "nums_tens[0].view(-1, 28*28).shape, nums_tens[0].view(5923, 28*28).shape"
   ]
  },
  {
   "cell_type": "code",
   "execution_count": 55,
   "metadata": {
    "colab": {
     "base_uri": "https://localhost:8080/"
    },
    "id": "6hKqkQJEl5UJ",
    "outputId": "a8e914b5-2265-42e7-e08b-50cc09bd9248"
   },
   "outputs": [
    {
     "data": {
      "text/plain": [
       "(torch.Size([5923, 28, 28]), torch.Size([5923, 784]))"
      ]
     },
     "execution_count": 55,
     "metadata": {},
     "output_type": "execute_result"
    }
   ],
   "source": [
    "# \n",
    "# before we called .view(), our tensor was originally 28x28, but afterwards, it is 28*28 (784)\n",
    "nums_tens[0].size(), nums_tens[0].view(-1, 28*28).shape"
   ]
  },
  {
   "cell_type": "markdown",
   "metadata": {
    "id": "GoeRfJWwNh0Q"
   },
   "source": [
    "We'll form our labels by having as many tensors containing the digit's digit as there are of that digit:"
   ]
  },
  {
   "cell_type": "code",
   "execution_count": 56,
   "metadata": {
    "id": "ROZKfHd3mTbM"
   },
   "outputs": [],
   "source": [
    "train_y = torch.cat([tensor([i] * len(nums_tens[i])) for i in range(10)])"
   ]
  },
  {
   "cell_type": "code",
   "execution_count": 57,
   "metadata": {
    "colab": {
     "base_uri": "https://localhost:8080/"
    },
    "id": "82g1LFeJmxJz",
    "outputId": "77e8c29e-fa34-4cf9-9cfa-d72b739d4739"
   },
   "outputs": [
    {
     "data": {
      "text/plain": [
       "(torch.Size([60000, 784]), torch.Size([60000]))"
      ]
     },
     "execution_count": 57,
     "metadata": {},
     "output_type": "execute_result"
    }
   ],
   "source": [
    "train_x.shape, train_y.shape"
   ]
  },
  {
   "cell_type": "code",
   "execution_count": 59,
   "metadata": {
    "colab": {
     "base_uri": "https://localhost:8080/",
     "height": 102
    },
    "id": "ZMHNUaptm1Gp",
    "outputId": "0b71f019-80c8-418e-b7e8-33e84218ba09"
   },
   "outputs": [
    {
     "data": {
      "text/plain": [
       "(<matplotlib.axes._subplots.AxesSubplot at 0x7fb1e2aa69d0>, tensor(3))"
      ]
     },
     "execution_count": 59,
     "metadata": {},
     "output_type": "execute_result"
    },
    {
     "data": {
      "image/png": "[encoded data removed]",
      "text/plain": [
       "<Figure size 72x72 with 1 Axes>"
      ]
     },
     "metadata": {
      "needs_background": "light"
     },
     "output_type": "display_data"
    }
   ],
   "source": [
    "# \n",
    "# when we take a random 3, we can index into the labels at the same spot and see\n",
    "# that we can 3 as its label\n",
    "show_image(nums_tens[3][200]), train_y[len(nums_tens[0]) + len(nums_tens[1]) + len(nums_tens[2]) +200]"
   ]
  },
  {
   "cell_type": "markdown",
   "metadata": {
    "id": "6ZHnGoxsOQfW"
   },
   "source": [
    "Like I said before, a dataset is just a list of tuples containing our independent and dependent variables:"
   ]
  },
  {
   "cell_type": "code",
   "execution_count": 60,
   "metadata": {
    "colab": {
     "base_uri": "https://localhost:8080/"
    },
    "id": "QTZDgPkSnwMK",
    "outputId": "1e090c4c-147f-4da8-d87f-7f83821a6b62"
   },
   "outputs": [
    {
     "data": {
      "text/plain": [
       "(torch.Size([784]), tensor(0))"
      ]
     },
     "execution_count": 60,
     "metadata": {},
     "output_type": "execute_result"
    }
   ],
   "source": [
    "dset = list(zip(train_x, train_y))\n",
    "x, y = dset[0]\n",
    "x.shape, y"
   ]
  },
  {
   "cell_type": "markdown",
   "metadata": {
    "id": "bBNDymbMOcLm"
   },
   "source": [
    "And we can see that given a label `0`, our image is indeed a zero:"
   ]
  },
  {
   "cell_type": "code",
   "execution_count": 61,
   "metadata": {
    "colab": {
     "base_uri": "https://localhost:8080/",
     "height": 102
    },
    "id": "lAkshtEen_km",
    "outputId": "c394f4af-eb29-4bdf-9b8a-4f1c8d9b6183"
   },
   "outputs": [
    {
     "data": {
      "text/plain": [
       "<matplotlib.axes._subplots.AxesSubplot at 0x7fb1d9324110>"
      ]
     },
     "execution_count": 61,
     "metadata": {},
     "output_type": "execute_result"
    },
    {
     "data": {
      "image/png": "[encoded data removed]",
      "text/plain": [
       "<Figure size 72x72 with 1 Axes>"
      ]
     },
     "metadata": {
      "needs_background": "light"
     },
     "output_type": "display_data"
    }
   ],
   "source": [
    "# \n",
    "# we have to reshape our image from a 784 long vector into a 28*28 matrix\n",
    "show_image(x.view(28, 28))"
   ]
  },
  {
   "cell_type": "markdown",
   "metadata": {
    "id": "XQIm3e4PoNAo"
   },
   "source": [
    "Now we'll make the dataset for our validation set:"
   ]
  },
  {
   "cell_type": "code",
   "execution_count": 62,
   "metadata": {
    "id": "9bqGP5O2oQbf"
   },
   "outputs": [],
   "source": [
    "valid_x = torch.cat(valid_nums_tens).view(-1, 28*28)\n",
    "valid_y = torch.cat([tensor([i] * len(valid_nums_tens[i])) for i in range(10)])\n",
    "valid_dset = list(zip(valid_x, valid_y))"
   ]
  },
  {
   "cell_type": "markdown",
   "metadata": {
    "id": "fz_3znajqiM_"
   },
   "source": [
    "Next, we'll create `DataLoader`s for our training and validation sets. A `DataLoader` takes a dataset and each time we use it, it will give a portion of the dataset. We can then work on a portion of the dataset instead of just 1 tuple or the entire set. We can also toggle whether we want our given portion to be randomize (we wouldn't want to get all `0`s, then `1`s, then `2`s, ... we want a mix):"
   ]
  },
  {
   "cell_type": "code",
   "execution_count": 63,
   "metadata": {
    "colab": {
     "base_uri": "https://localhost:8080/"
    },
    "id": "8hycOdb5qp9G",
    "outputId": "3c24031d-b11b-4468-8e3e-d77d69aee76d"
   },
   "outputs": [
    {
     "data": {
      "text/plain": [
       "(torch.Size([128, 784]), torch.Size([128]))"
      ]
     },
     "execution_count": 63,
     "metadata": {},
     "output_type": "execute_result"
    }
   ],
   "source": [
    "dl = DataLoader(dset, batch_size = 128, shuffle = True)\n",
    "valid_dl = DataLoader(valid_dset, batch_size = 128, shuffle = True)\n",
    "xb, yb = first(dl)\n",
    "xb.shape, yb.shape"
   ]
  },
  {
   "cell_type": "markdown",
   "metadata": {
    "id": "rZ-ysyLO79GS"
   },
   "source": [
    "Then, we'll create our `DataLoaders`. A `DataLoaders` is like the dataset of a `DataLoader`: it just contains our training and validation `DataLoader`s:"
   ]
  },
  {
   "cell_type": "code",
   "execution_count": 65,
   "metadata": {
    "id": "CQ3hT91Frfcz"
   },
   "outputs": [],
   "source": [
    "dls = DataLoaders(dl, valid_dl)"
   ]
  },
  {
   "cell_type": "markdown",
   "metadata": {
    "id": "Pkc6a3eZjc-L"
   },
   "source": [
    "Our simple neural network uses PyTorch's `nn.Sequential` which takes modules and uses the GPU to handle the operations:"
   ]
  },
  {
   "cell_type": "code",
   "execution_count": 66,
   "metadata": {
    "id": "k4njVRD5jtdF"
   },
   "outputs": [],
   "source": [
    "simple_net = nn.Sequential(\n",
    "    # Our first layer takes in 28*28 inputs and outputs 250 \n",
    "    nn.Linear(28 * 28, 250),\n",
    "    nn.ReLU(),\n",
    "\n",
    "    # Our second layer takes in 250 inputs and outputs 50\n",
    "    nn.Linear(250, 50),\n",
    "    nn.ReLU(),\n",
    "\n",
    "    # Our final layer takes in 50 inputs and outputs 10\n",
    "    # (its confidence for our image to be each digit)\n",
    "    nn.Linear(50, 10)\n",
    ")"
   ]
  },
  {
   "cell_type": "markdown",
   "metadata": {
    "id": "EsLDY7zVP03J"
   },
   "source": [
    "We use cross-entropy loss so that we can turn our 10 outputs into numbers that are from 0 to 1 and sum to 1 like probabilities (through softmax). But, that's just the first part. We then take the negative log (`-log(p)`) of those probabilities to give emphasis on the higher probabilities. \n",
    "\n",
    "We'll use the given `Learner` class from fastai (which handles epochs) with the `SGD` optimizer (stochastic gradient descent, which handles calculating gradients and stepping into lower loss) and use the accuracy metric (the number we care about). "
   ]
  },
  {
   "cell_type": "code",
   "execution_count": 67,
   "metadata": {
    "id": "RIAlWf6tjsRC"
   },
   "outputs": [],
   "source": [
    "learn = Learner(dls, simple_net, opt_func = SGD, loss_func = F.cross_entropy, metrics = accuracy)"
   ]
  },
  {
   "cell_type": "markdown",
   "metadata": {
    "id": "r5K2269gQhTC"
   },
   "source": [
    "We'll use the learning rate finder to select a good learning rate for us:"
   ]
  },
  {
   "cell_type": "code",
   "execution_count": 68,
   "metadata": {
    "colab": {
     "base_uri": "https://localhost:8080/",
     "height": 300
    },
    "id": "iqBukKGXsF6f",
    "outputId": "b9482dd9-e306-4040-f252-7f83ddbcc0e8"
   },
   "outputs": [
    {
     "data": {
      "text/html": [],
      "text/plain": [
       "<IPython.core.display.HTML object>"
      ]
     },
     "metadata": {},
     "output_type": "display_data"
    },
    {
     "data": {
      "text/plain": [
       "SuggestedLRs(valley=0.04786301031708717)"
      ]
     },
     "execution_count": 68,
     "metadata": {},
     "output_type": "execute_result"
    },
    {
     "data": {
      "image/png": "[encoded data removed]",
      "text/plain": [
       "<Figure size 432x288 with 1 Axes>"
      ]
     },
     "metadata": {
      "needs_background": "light"
     },
     "output_type": "display_data"
    }
   ],
   "source": [
    "lrs = learn.lr_find()\n",
    "lrs"
   ]
  },
  {
   "cell_type": "code",
   "execution_count": 69,
   "metadata": {
    "colab": {
     "base_uri": "https://localhost:8080/",
     "height": 677
    },
    "id": "Pto5GQHoAEVz",
    "outputId": "18ddd205-5990-4aac-d96c-88be264bd075"
   },
   "outputs": [
    {
     "data": {
      "text/html": [
       "<table border=\"1\" class=\"dataframe\">\n",
       "  <thead>\n",
       "    <tr style=\"text-align: left;\">\n",
       "      <th>epoch</th>\n",
       "      <th>train_loss</th>\n",
       "      <th>valid_loss</th>\n",
       "      <th>accuracy</th>\n",
       "      <th>time</th>\n",
       "    </tr>\n",
       "  </thead>\n",
       "  <tbody>\n",
       "    <tr>\n",
       "      <td>0</td>\n",
       "      <td>0.454874</td>\n",
       "      <td>0.400172</td>\n",
       "      <td>0.889500</td>\n",
       "      <td>00:02</td>\n",
       "    </tr>\n",
       "    <tr>\n",
       "      <td>1</td>\n",
       "      <td>0.322119</td>\n",
       "      <td>0.292965</td>\n",
       "      <td>0.916900</td>\n",
       "      <td>00:02</td>\n",
       "    </tr>\n",
       "    <tr>\n",
       "      <td>2</td>\n",
       "      <td>0.264725</td>\n",
       "      <td>0.245524</td>\n",
       "      <td>0.929800</td>\n",
       "      <td>00:02</td>\n",
       "    </tr>\n",
       "    <tr>\n",
       "      <td>3</td>\n",
       "      <td>0.228520</td>\n",
       "      <td>0.216811</td>\n",
       "      <td>0.938200</td>\n",
       "      <td>00:02</td>\n",
       "    </tr>\n",
       "    <tr>\n",
       "      <td>4</td>\n",
       "      <td>0.196191</td>\n",
       "      <td>0.187768</td>\n",
       "      <td>0.945100</td>\n",
       "      <td>00:02</td>\n",
       "    </tr>\n",
       "    <tr>\n",
       "      <td>5</td>\n",
       "      <td>0.181299</td>\n",
       "      <td>0.170362</td>\n",
       "      <td>0.950000</td>\n",
       "      <td>00:02</td>\n",
       "    </tr>\n",
       "    <tr>\n",
       "      <td>6</td>\n",
       "      <td>0.151747</td>\n",
       "      <td>0.152564</td>\n",
       "      <td>0.954600</td>\n",
       "      <td>00:02</td>\n",
       "    </tr>\n",
       "    <tr>\n",
       "      <td>7</td>\n",
       "      <td>0.143972</td>\n",
       "      <td>0.141233</td>\n",
       "      <td>0.957100</td>\n",
       "      <td>00:02</td>\n",
       "    </tr>\n",
       "    <tr>\n",
       "      <td>8</td>\n",
       "      <td>0.125890</td>\n",
       "      <td>0.130209</td>\n",
       "      <td>0.961300</td>\n",
       "      <td>00:02</td>\n",
       "    </tr>\n",
       "    <tr>\n",
       "      <td>9</td>\n",
       "      <td>0.119570</td>\n",
       "      <td>0.117828</td>\n",
       "      <td>0.964100</td>\n",
       "      <td>00:02</td>\n",
       "    </tr>\n",
       "    <tr>\n",
       "      <td>10</td>\n",
       "      <td>0.112297</td>\n",
       "      <td>0.120144</td>\n",
       "      <td>0.963900</td>\n",
       "      <td>00:02</td>\n",
       "    </tr>\n",
       "    <tr>\n",
       "      <td>11</td>\n",
       "      <td>0.096248</td>\n",
       "      <td>0.108321</td>\n",
       "      <td>0.967100</td>\n",
       "      <td>00:02</td>\n",
       "    </tr>\n",
       "    <tr>\n",
       "      <td>12</td>\n",
       "      <td>0.085236</td>\n",
       "      <td>0.100657</td>\n",
       "      <td>0.970100</td>\n",
       "      <td>00:02</td>\n",
       "    </tr>\n",
       "    <tr>\n",
       "      <td>13</td>\n",
       "      <td>0.082346</td>\n",
       "      <td>0.094316</td>\n",
       "      <td>0.970200</td>\n",
       "      <td>00:02</td>\n",
       "    </tr>\n",
       "    <tr>\n",
       "      <td>14</td>\n",
       "      <td>0.077736</td>\n",
       "      <td>0.090774</td>\n",
       "      <td>0.972000</td>\n",
       "      <td>00:02</td>\n",
       "    </tr>\n",
       "    <tr>\n",
       "      <td>15</td>\n",
       "      <td>0.075661</td>\n",
       "      <td>0.093964</td>\n",
       "      <td>0.971500</td>\n",
       "      <td>00:02</td>\n",
       "    </tr>\n",
       "    <tr>\n",
       "      <td>16</td>\n",
       "      <td>0.064168</td>\n",
       "      <td>0.087111</td>\n",
       "      <td>0.973000</td>\n",
       "      <td>00:02</td>\n",
       "    </tr>\n",
       "    <tr>\n",
       "      <td>17</td>\n",
       "      <td>0.062180</td>\n",
       "      <td>0.080836</td>\n",
       "      <td>0.975900</td>\n",
       "      <td>00:02</td>\n",
       "    </tr>\n",
       "    <tr>\n",
       "      <td>18</td>\n",
       "      <td>0.061466</td>\n",
       "      <td>0.077446</td>\n",
       "      <td>0.977300</td>\n",
       "      <td>00:02</td>\n",
       "    </tr>\n",
       "    <tr>\n",
       "      <td>19</td>\n",
       "      <td>0.052969</td>\n",
       "      <td>0.078910</td>\n",
       "      <td>0.975300</td>\n",
       "      <td>00:02</td>\n",
       "    </tr>\n",
       "  </tbody>\n",
       "</table>"
      ],
      "text/plain": [
       "<IPython.core.display.HTML object>"
      ]
     },
     "metadata": {},
     "output_type": "display_data"
    }
   ],
   "source": [
    "learn.fit(20, lr = lrs.valley)"
   ]
  },
  {
   "cell_type": "markdown",
   "metadata": {
    "id": "av3X3ljDEoMd"
   },
   "source": [
    "And we see that our final accuracy is `97.5%`! Certainly better than the `66.1%` we got from our pixel similarity approach. \n",
    "\n",
    "To compare, here's the results using fastai's provided `cnn_learner` which uses a pretrained model with 18 layers:"
   ]
  },
  {
   "cell_type": "code",
   "execution_count": 70,
   "metadata": {
    "colab": {
     "base_uri": "https://localhost:8080/",
     "height": 81
    },
    "id": "luKJgJVcBMP5",
    "outputId": "4949d4f7-439f-4bb7-f3af-9def41e1caae"
   },
   "outputs": [
    {
     "data": {
      "text/html": [
       "<table border=\"1\" class=\"dataframe\">\n",
       "  <thead>\n",
       "    <tr style=\"text-align: left;\">\n",
       "      <th>epoch</th>\n",
       "      <th>train_loss</th>\n",
       "      <th>valid_loss</th>\n",
       "      <th>accuracy</th>\n",
       "      <th>time</th>\n",
       "    </tr>\n",
       "  </thead>\n",
       "  <tbody>\n",
       "    <tr>\n",
       "      <td>0</td>\n",
       "      <td>0.124300</td>\n",
       "      <td>0.056642</td>\n",
       "      <td>0.982900</td>\n",
       "      <td>02:04</td>\n",
       "    </tr>\n",
       "  </tbody>\n",
       "</table>"
      ],
      "text/plain": [
       "<IPython.core.display.HTML object>"
      ]
     },
     "metadata": {},
     "output_type": "display_data"
    }
   ],
   "source": [
    "dls2 = ImageDataLoaders.from_folder(path, train='training', valid='testing')\n",
    "learn2 = cnn_learner(dls2, resnet18, loss_func=F.cross_entropy, metrics=accuracy)\n",
    "learn2.fit_one_cycle(1, 0.1)"
   ]
  },
  {
   "cell_type": "markdown",
   "metadata": {
    "id": "h1FJz5xBRE1a"
   },
   "source": [
    "Our model is not bad considering it's less than `1%` in accuracy different from a pretrained model. \n",
    "\n",
    "We could even make our model better by training for more epochs until the validation loss becomes worse or by using a deeper model. "
   ]
  }
 ],
 "metadata": {
  "accelerator": "GPU",
  "colab": {
   "name": "2022-02-20-MNIST",
   "provenance": []
  },
  "kernelspec": {
   "display_name": "Python 3 (ipykernel)",
   "language": "python",
   "name": "python3"
  },
  "language_info": {
   "codemirror_mode": {
    "name": "ipython",
    "version": 3
   },
   "file_extension": ".py",
   "mimetype": "text/x-python",
   "name": "python",
   "nbconvert_exporter": "python",
   "pygments_lexer": "ipython3",
   "version": "3.10.4"
  }
 },
 "nbformat": 4,
 "nbformat_minor": 1
}
