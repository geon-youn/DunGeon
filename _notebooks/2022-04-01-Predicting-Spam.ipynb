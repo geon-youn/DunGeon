{
  "nbformat": 4,
  "nbformat_minor": 0,
  "metadata": {
    "colab": {
      "name": "2022-04-01-Predicting-Spam.ipynb",
      "provenance": [],
      "collapsed_sections": []
    },
    "kernelspec": {
      "name": "python3",
      "display_name": "Python 3"
    },
    "language_info": {
      "name": "python"
    },
    "accelerator": "GPU"
  },
  "cells": [
    {
      "cell_type": "markdown",
      "source": [
        "# Just The Basics - Strata 2013 | Predicting Spam Emails"
      ],
      "metadata": {
        "id": "ibt_ZJ24cyve"
      }
    },
    {
      "cell_type": "markdown",
      "source": [
        "Hello! I wanted to move onto natrual language processing by next week, but I also wanted some more practice with tabular data sets. And, what better way than to use a data set that's related to natural language: emails. \n",
        "\n",
        "[This](https://www.kaggle.com/competitions/just-the-basics-the-after-party/overview) Kaggle competition ran 9 years ago and is one of the \"getting started\" data sets. This data set contains \"100 features extracted from a corpus of emails. Some of the emails are spam and some are normal. [Our] task is to make a spam detector.\""
      ],
      "metadata": {
        "id": "bFFYOUNCc5Tn"
      }
    },
    {
      "cell_type": "code",
      "execution_count": null,
      "metadata": {
        "id": "rscCgDpocslS"
      },
      "outputs": [],
      "source": [
        "#hide\n",
        "!pip install -Uqq fastbook kaggle\n",
        "!pip install tornado==5.1.0\n",
        "import fastbook\n",
        "fastbook.setup_book()"
      ]
    },
    {
      "cell_type": "code",
      "source": [
        "#hide\n",
        "from google.colab import drive\n",
        "drive.mount('/content/gdrive/', force_remount=True)"
      ],
      "metadata": {
        "colab": {
          "base_uri": "https://localhost:8080/"
        },
        "id": "vtmnni2n_gRF",
        "outputId": "c92b1e01-c0f6-42cc-8a0c-50efc93a6277"
      },
      "execution_count": null,
      "outputs": [
        {
          "output_type": "stream",
          "name": "stdout",
          "text": [
            "Mounted at /content/gdrive/\n"
          ]
        }
      ]
    },
    {
      "cell_type": "code",
      "source": [
        "#hide\n",
        "%mkdir /content/gdrive/MyDrive/data_sets/strata"
      ],
      "metadata": {
        "colab": {
          "base_uri": "https://localhost:8080/"
        },
        "id": "nSRS5VMR_tpk",
        "outputId": "cb843611-d3f2-4b20-bad3-a32f049a810b"
      },
      "execution_count": null,
      "outputs": [
        {
          "output_type": "stream",
          "name": "stdout",
          "text": [
            "mkdir: cannot create directory ‘/content/gdrive/MyDrive/data_sets/strata’: File exists\n"
          ]
        }
      ]
    },
    {
      "cell_type": "code",
      "source": [
        "#hide\n",
        "%cd /content/gdrive/MyDrive/data_sets/strata"
      ],
      "metadata": {
        "colab": {
          "base_uri": "https://localhost:8080/"
        },
        "id": "wwWwPDgI_nPY",
        "outputId": "92a95062-5a88-41a2-8d29-b60a7f32ae9e"
      },
      "execution_count": null,
      "outputs": [
        {
          "output_type": "stream",
          "name": "stdout",
          "text": [
            "/content/gdrive/MyDrive/data_sets/strata\n"
          ]
        }
      ]
    },
    {
      "cell_type": "code",
      "source": [
        "#hide\n",
        "%cp ../bluebook/kaggle.json ../"
      ],
      "metadata": {
        "id": "Gv4SMgS__0fm"
      },
      "execution_count": null,
      "outputs": []
    },
    {
      "cell_type": "code",
      "source": [
        "#hide\n",
        "import os\n",
        "os.environ['KAGGLE_CONFIG_DIR'] = '/content/gdrive/MyDrive/data_sets/'"
      ],
      "metadata": {
        "id": "CD0cWfZSAFMM"
      },
      "execution_count": null,
      "outputs": []
    },
    {
      "cell_type": "code",
      "source": [
        "#hide\n",
        "!kaggle competitions download -c just-the-basics-the-after-party"
      ],
      "metadata": {
        "colab": {
          "base_uri": "https://localhost:8080/"
        },
        "id": "YpfcZo9O__Ou",
        "outputId": "16e9702b-950e-4cfd-9bc5-bf1b19728d5f"
      },
      "execution_count": null,
      "outputs": [
        {
          "output_type": "stream",
          "name": "stdout",
          "text": [
            "just-the-basics-the-after-party.zip: Skipping, found more recently modified local copy (use --force to force download)\n"
          ]
        }
      ]
    },
    {
      "cell_type": "code",
      "source": [
        "#hide\n",
        "!ls"
      ],
      "metadata": {
        "colab": {
          "base_uri": "https://localhost:8080/"
        },
        "id": "IZ0IX-__AYL5",
        "outputId": "67c1e59d-57c1-4360-fb7f-475307a08ede"
      },
      "execution_count": null,
      "outputs": [
        {
          "output_type": "stream",
          "name": "stdout",
          "text": [
            "just-the-basics-the-after-party.zip  test.csv\ttrain_labels.csv\n",
            "kaggle.json\t\t\t     train.csv\n"
          ]
        }
      ]
    },
    {
      "cell_type": "code",
      "source": [
        "#hide\n",
        "!7z x just-the-basics-the-after-party.zip"
      ],
      "metadata": {
        "id": "tnnjvZ5-AZni"
      },
      "execution_count": null,
      "outputs": []
    },
    {
      "cell_type": "code",
      "source": [
        "#hide\n",
        "!ls"
      ],
      "metadata": {
        "colab": {
          "base_uri": "https://localhost:8080/"
        },
        "id": "BLUP0HHfAboa",
        "outputId": "0b149e87-71c7-4e31-bbec-13c14ae915f4"
      },
      "execution_count": null,
      "outputs": [
        {
          "output_type": "stream",
          "name": "stdout",
          "text": [
            "just-the-basics-the-after-party.zip  test.csv\ttrain_labels.csv\n",
            "kaggle.json\t\t\t     train.csv\n"
          ]
        }
      ]
    },
    {
      "cell_type": "code",
      "source": [
        "#hide\n",
        "from fastbook import *\n",
        "from pandas.api.types import is_string_dtype, is_numeric_dtype, is_categorical_dtype\n",
        "from fastai.tabular.all import *\n",
        "from sklearn.ensemble import RandomForestRegressor\n",
        "from sklearn.tree import DecisionTreeRegressor\n",
        "from sklearn import metrics"
      ],
      "metadata": {
        "id": "Ml0wZnWoAura"
      },
      "execution_count": null,
      "outputs": []
    },
    {
      "cell_type": "markdown",
      "source": [
        "I've already downloaded the data set and we can first import them:"
      ],
      "metadata": {
        "id": "Hm3ML4n5Ut9Z"
      }
    },
    {
      "cell_type": "code",
      "source": [
        "xs   = pd.read_csv('train.csv', low_memory=False)\n",
        "y    = pd.read_csv('train_labels.csv', low_memory=False)\n",
        "test = pd.read_csv('test.csv', low_memory=False)"
      ],
      "metadata": {
        "id": "hNlgCRznAdAG"
      },
      "execution_count": null,
      "outputs": []
    },
    {
      "cell_type": "markdown",
      "source": [
        "Then, we'll define functions for our random forest trainer and the metric that this competition requires, which is the area under the [ROC curve](https://en.wikipedia.org/wiki/Receiver_operating_characteristic). "
      ],
      "metadata": {
        "id": "uGIEAan8U0re"
      }
    },
    {
      "cell_type": "code",
      "source": [
        "def rf(xs, y, n_estimators=40, min_samples_leaf=5, max_samples=300,\n",
        "       max_features=0.5):\n",
        "    return RandomForestRegressor(n_estimators=n_estimators,\n",
        "                                 min_samples_leaf=min_samples_leaf,\n",
        "                                 max_samples=max_samples,\n",
        "                                 max_features=max_features,\n",
        "                                 oob_score=True, n_jobs=-1).fit(xs, y)"
      ],
      "metadata": {
        "id": "5rK6YG_HCa3Q"
      },
      "execution_count": null,
      "outputs": []
    },
    {
      "cell_type": "code",
      "source": [
        "def a_uc(preds, y):\n",
        "    fpr, tpr, thresholds = metrics.roc_curve(y, preds, pos_label=1)\n",
        "    return metrics.auc(fpr, tpr)\n",
        "\n",
        "def m_auc(m, xs, y):\n",
        "    return a_uc(m.predict(xs), y)"
      ],
      "metadata": {
        "id": "KkmqCV_dDcNj"
      },
      "execution_count": null,
      "outputs": []
    },
    {
      "cell_type": "markdown",
      "source": [
        "In making our `TabularPandas`, we'll merge the independent and dependent variables. But, unlike before we'll be using a randomized split since this isn't a time series."
      ],
      "metadata": {
        "id": "glxWSAmNVUZt"
      }
    },
    {
      "cell_type": "code",
      "source": [
        "df_merged = pd.concat((xs, y), axis=1).copy()"
      ],
      "metadata": {
        "id": "dhrpOaaTJjlV"
      },
      "execution_count": null,
      "outputs": []
    },
    {
      "cell_type": "code",
      "source": [
        "procs = [Categorify, FillMissing, Normalize]"
      ],
      "metadata": {
        "id": "OT2FfCgFEaks"
      },
      "execution_count": null,
      "outputs": []
    },
    {
      "cell_type": "code",
      "source": [
        "cont, cat = cont_cat_split(df_merged, dep_var='0')"
      ],
      "metadata": {
        "id": "9TpbU_b-HbWb"
      },
      "execution_count": null,
      "outputs": []
    },
    {
      "cell_type": "code",
      "source": [
        "tp = TabularPandas(df_merged, procs, cat_names=cat, cont_names=cont, y_names='0', splits=RandomSplitter()(xs))"
      ],
      "metadata": {
        "id": "NGzk3JRjEB9t"
      },
      "execution_count": null,
      "outputs": []
    },
    {
      "cell_type": "code",
      "source": [
        "t_xs, v_xs, t_y, v_y = tp.train.xs, tp.valid.xs, tp.train.y, tp.valid.y"
      ],
      "metadata": {
        "id": "8YqShhUBFzIg"
      },
      "execution_count": null,
      "outputs": []
    },
    {
      "cell_type": "markdown",
      "source": [
        "I'm not sure how to use `TabularPandas` that well since there's no categorical columns in this data set, but it seems like `TabularPandas` requires it. If there aren't any, then it duplicates all the columns, so we remove them here:"
      ],
      "metadata": {
        "id": "py97Ve7ZVlJd"
      }
    },
    {
      "cell_type": "code",
      "source": [
        "t_xs = t_xs.drop(tp.train.x_names[0:100], axis=1)"
      ],
      "metadata": {
        "id": "DwQlzHXXF9Mk"
      },
      "execution_count": null,
      "outputs": []
    },
    {
      "cell_type": "code",
      "source": [
        "v_xs = v_xs.drop(tp.valid.x_names[0:100], axis=1)"
      ],
      "metadata": {
        "id": "JOBsgnERLOWK"
      },
      "execution_count": null,
      "outputs": []
    },
    {
      "cell_type": "markdown",
      "source": [
        "Then, we train a decision tree as a baseline:"
      ],
      "metadata": {
        "id": "LzR2iqVyVy0E"
      }
    },
    {
      "cell_type": "code",
      "source": [
        "dt = DecisionTreeRegressor(min_samples_leaf=40).fit(t_xs, t_y)"
      ],
      "metadata": {
        "id": "IHWPIF8-DJFo"
      },
      "execution_count": null,
      "outputs": []
    },
    {
      "cell_type": "code",
      "source": [
        "m_auc(dt, t_xs, t_y), m_auc(dt, v_xs, v_y)"
      ],
      "metadata": {
        "colab": {
          "base_uri": "https://localhost:8080/"
        },
        "id": "aMD5Kb1RLVT5",
        "outputId": "08ba2480-fccd-4519-e2ea-2595c792b5f5"
      },
      "execution_count": null,
      "outputs": [
        {
          "output_type": "execute_result",
          "data": {
            "text/plain": [
              "(0.9117870857001292, 0.9124478856462179)"
            ]
          },
          "metadata": {},
          "execution_count": 115
        }
      ]
    },
    {
      "cell_type": "markdown",
      "source": [
        "Surprisingly, the baseline is already at 0.912. I'm also not sure if this metric is [equivalent to accuracy](https://neptune.ai/blog/f1-score-accuracy-roc-auc-pr-auc) in terms of saying it's 91.2% accurate, so I'll just refer to it as 0.912. \n",
        "\n",
        "Next, let's train a random forest model:"
      ],
      "metadata": {
        "id": "dAVGaNkZV1s6"
      }
    },
    {
      "cell_type": "code",
      "source": [
        "m = rf(t_xs, t_y, min_samples_leaf=10, n_estimators=120)"
      ],
      "metadata": {
        "id": "1rwTg24TLiEU"
      },
      "execution_count": null,
      "outputs": []
    },
    {
      "cell_type": "code",
      "source": [
        "m_auc(m, t_xs, t_y), m_auc(m, v_xs, v_y)"
      ],
      "metadata": {
        "colab": {
          "base_uri": "https://localhost:8080/"
        },
        "id": "CrKhQtstLj-h",
        "outputId": "63cba4d2-a323-44fc-c8c0-64004b9e0ecc"
      },
      "execution_count": null,
      "outputs": [
        {
          "output_type": "execute_result",
          "data": {
            "text/plain": [
              "(0.9765178460830635, 0.9401429422275164)"
            ]
          },
          "metadata": {},
          "execution_count": 175
        }
      ]
    },
    {
      "cell_type": "markdown",
      "source": [
        "And then, we'll train a neural network:"
      ],
      "metadata": {
        "id": "Tv7DZkg2WyKX"
      }
    },
    {
      "cell_type": "code",
      "source": [
        "dls = tp.dataloaders(128)"
      ],
      "metadata": {
        "id": "a6U90UeuLm0-"
      },
      "execution_count": null,
      "outputs": []
    },
    {
      "cell_type": "markdown",
      "source": [
        "Again, we're dropping the duplicated columns from `TabularPandas`:"
      ],
      "metadata": {
        "id": "j-auor-8W0TM"
      }
    },
    {
      "cell_type": "code",
      "source": [
        "dls.train.xs = dls.train.xs.drop(columns=dls.train.x_names[0:100])\n",
        "dls.valid.xs = dls.valid.xs.drop(columns=dls.valid.x_names[0:100])"
      ],
      "metadata": {
        "id": "JFLaq1RUMThr"
      },
      "execution_count": null,
      "outputs": []
    },
    {
      "cell_type": "code",
      "source": [
        "learn = tabular_learner(dls, y_range=(0, 1.1), n_out=1)"
      ],
      "metadata": {
        "id": "4fqSsNYlL8D0"
      },
      "execution_count": null,
      "outputs": []
    },
    {
      "cell_type": "code",
      "source": [
        "lr = learn.lr_find().valley"
      ],
      "metadata": {
        "colab": {
          "base_uri": "https://localhost:8080/",
          "height": 283
        },
        "id": "6fbQEJiINo5y",
        "outputId": "2a921a59-dbe8-4304-8427-3e7b71abbbb1"
      },
      "execution_count": null,
      "outputs": [
        {
          "output_type": "display_data",
          "data": {
            "text/plain": [
              "<IPython.core.display.HTML object>"
            ],
            "text/html": [
              "\n",
              "<style>\n",
              "    /* Turns off some styling */\n",
              "    progress {\n",
              "        /* gets rid of default border in Firefox and Opera. */\n",
              "        border: none;\n",
              "        /* Needs to be in here for Safari polyfill so background images work as expected. */\n",
              "        background-size: auto;\n",
              "    }\n",
              "    .progress-bar-interrupted, .progress-bar-interrupted::-webkit-progress-bar {\n",
              "        background: #F44336;\n",
              "    }\n",
              "</style>\n"
            ]
          },
          "metadata": {}
        },
        {
          "output_type": "display_data",
          "data": {
            "text/plain": [
              "<IPython.core.display.HTML object>"
            ],
            "text/html": [
              ""
            ]
          },
          "metadata": {}
        },
        {
          "output_type": "display_data",
          "data": {
            "text/plain": [
              "<Figure size 432x288 with 1 Axes>"
            ],
            "image/png": "[encoded data removed]"
          },
          "metadata": {
            "needs_background": "light"
          }
        }
      ]
    },
    {
      "cell_type": "code",
      "source": [
        "#collapse_output\n",
        "learn.fit_one_cycle(20, lr)"
      ],
      "metadata": {
        "colab": {
          "base_uri": "https://localhost:8080/",
          "height": 677
        },
        "id": "uTVkIyq4NvCj",
        "outputId": "2561d231-dc66-4752-a809-8c0c24620539"
      },
      "execution_count": null,
      "outputs": [
        {
          "output_type": "display_data",
          "data": {
            "text/plain": [
              "<IPython.core.display.HTML object>"
            ],
            "text/html": [
              "\n",
              "<style>\n",
              "    /* Turns off some styling */\n",
              "    progress {\n",
              "        /* gets rid of default border in Firefox and Opera. */\n",
              "        border: none;\n",
              "        /* Needs to be in here for Safari polyfill so background images work as expected. */\n",
              "        background-size: auto;\n",
              "    }\n",
              "    .progress-bar-interrupted, .progress-bar-interrupted::-webkit-progress-bar {\n",
              "        background: #F44336;\n",
              "    }\n",
              "</style>\n"
            ]
          },
          "metadata": {}
        },
        {
          "output_type": "display_data",
          "data": {
            "text/plain": [
              "<IPython.core.display.HTML object>"
            ],
            "text/html": [
              "<table border=\"1\" class=\"dataframe\">\n",
              "  <thead>\n",
              "    <tr style=\"text-align: left;\">\n",
              "      <th>epoch</th>\n",
              "      <th>train_loss</th>\n",
              "      <th>valid_loss</th>\n",
              "      <th>time</th>\n",
              "    </tr>\n",
              "  </thead>\n",
              "  <tbody>\n",
              "    <tr>\n",
              "      <td>0</td>\n",
              "      <td>0.289919</td>\n",
              "      <td>0.264292</td>\n",
              "      <td>00:00</td>\n",
              "    </tr>\n",
              "    <tr>\n",
              "      <td>1</td>\n",
              "      <td>0.280569</td>\n",
              "      <td>0.260043</td>\n",
              "      <td>00:00</td>\n",
              "    </tr>\n",
              "    <tr>\n",
              "      <td>2</td>\n",
              "      <td>0.264891</td>\n",
              "      <td>0.248970</td>\n",
              "      <td>00:00</td>\n",
              "    </tr>\n",
              "    <tr>\n",
              "      <td>3</td>\n",
              "      <td>0.243126</td>\n",
              "      <td>0.230470</td>\n",
              "      <td>00:00</td>\n",
              "    </tr>\n",
              "    <tr>\n",
              "      <td>4</td>\n",
              "      <td>0.218251</td>\n",
              "      <td>0.207044</td>\n",
              "      <td>00:00</td>\n",
              "    </tr>\n",
              "    <tr>\n",
              "      <td>5</td>\n",
              "      <td>0.195376</td>\n",
              "      <td>0.184551</td>\n",
              "      <td>00:00</td>\n",
              "    </tr>\n",
              "    <tr>\n",
              "      <td>6</td>\n",
              "      <td>0.175897</td>\n",
              "      <td>0.165676</td>\n",
              "      <td>00:00</td>\n",
              "    </tr>\n",
              "    <tr>\n",
              "      <td>7</td>\n",
              "      <td>0.158557</td>\n",
              "      <td>0.149466</td>\n",
              "      <td>00:00</td>\n",
              "    </tr>\n",
              "    <tr>\n",
              "      <td>8</td>\n",
              "      <td>0.143941</td>\n",
              "      <td>0.136603</td>\n",
              "      <td>00:00</td>\n",
              "    </tr>\n",
              "    <tr>\n",
              "      <td>9</td>\n",
              "      <td>0.131354</td>\n",
              "      <td>0.127658</td>\n",
              "      <td>00:00</td>\n",
              "    </tr>\n",
              "    <tr>\n",
              "      <td>10</td>\n",
              "      <td>0.119663</td>\n",
              "      <td>0.120048</td>\n",
              "      <td>00:00</td>\n",
              "    </tr>\n",
              "    <tr>\n",
              "      <td>11</td>\n",
              "      <td>0.110008</td>\n",
              "      <td>0.114571</td>\n",
              "      <td>00:00</td>\n",
              "    </tr>\n",
              "    <tr>\n",
              "      <td>12</td>\n",
              "      <td>0.101210</td>\n",
              "      <td>0.111422</td>\n",
              "      <td>00:00</td>\n",
              "    </tr>\n",
              "    <tr>\n",
              "      <td>13</td>\n",
              "      <td>0.093147</td>\n",
              "      <td>0.109775</td>\n",
              "      <td>00:00</td>\n",
              "    </tr>\n",
              "    <tr>\n",
              "      <td>14</td>\n",
              "      <td>0.086211</td>\n",
              "      <td>0.108900</td>\n",
              "      <td>00:00</td>\n",
              "    </tr>\n",
              "    <tr>\n",
              "      <td>15</td>\n",
              "      <td>0.080164</td>\n",
              "      <td>0.107172</td>\n",
              "      <td>00:00</td>\n",
              "    </tr>\n",
              "    <tr>\n",
              "      <td>16</td>\n",
              "      <td>0.074857</td>\n",
              "      <td>0.106758</td>\n",
              "      <td>00:00</td>\n",
              "    </tr>\n",
              "    <tr>\n",
              "      <td>17</td>\n",
              "      <td>0.069664</td>\n",
              "      <td>0.106035</td>\n",
              "      <td>00:00</td>\n",
              "    </tr>\n",
              "    <tr>\n",
              "      <td>18</td>\n",
              "      <td>0.065428</td>\n",
              "      <td>0.105261</td>\n",
              "      <td>00:00</td>\n",
              "    </tr>\n",
              "    <tr>\n",
              "      <td>19</td>\n",
              "      <td>0.061637</td>\n",
              "      <td>0.104235</td>\n",
              "      <td>00:00</td>\n",
              "    </tr>\n",
              "  </tbody>\n",
              "</table>"
            ]
          },
          "metadata": {}
        }
      ]
    },
    {
      "cell_type": "code",
      "source": [
        "preds, targs = learn.get_preds()"
      ],
      "metadata": {
        "id": "TZoL05veNyS7"
      },
      "execution_count": null,
      "outputs": []
    },
    {
      "cell_type": "code",
      "source": [
        "a_uc(preds, targs)"
      ],
      "metadata": {
        "colab": {
          "base_uri": "https://localhost:8080/"
        },
        "id": "TcwPuN5tN233",
        "outputId": "96f68b6c-d358-4179-d222-59acfa76ec33"
      },
      "execution_count": null,
      "outputs": [
        {
          "output_type": "execute_result",
          "data": {
            "text/plain": [
              "0.9252531268612271"
            ]
          },
          "metadata": {},
          "execution_count": 161
        }
      ]
    },
    {
      "cell_type": "markdown",
      "source": [
        "Finally, we ensemble the predictions from our baseline (since it's not far off from the neural network's ROC AUC), random forest model, and neural network:"
      ],
      "metadata": {
        "id": "MvQA8HTfW6aJ"
      }
    },
    {
      "cell_type": "code",
      "source": [
        "rf_preds = m.predict(v_xs)\n",
        "ens_preds = (to_np(preds.squeeze()) + rf_preds + dt.predict(v_xs)) / 3"
      ],
      "metadata": {
        "id": "0-yZ0o3WOuDg"
      },
      "execution_count": null,
      "outputs": []
    },
    {
      "cell_type": "code",
      "source": [
        "a_uc(ens_preds, v_y)"
      ],
      "metadata": {
        "colab": {
          "base_uri": "https://localhost:8080/"
        },
        "id": "qpDS40RgO6b6",
        "outputId": "444bec48-f91b-43b8-bc36-d7ee86386a3f"
      },
      "execution_count": null,
      "outputs": [
        {
          "output_type": "execute_result",
          "data": {
            "text/plain": [
              "0.953543776057177"
            ]
          },
          "metadata": {},
          "execution_count": 177
        }
      ]
    },
    {
      "cell_type": "markdown",
      "source": [
        "From a fairly quick model with no really \"complex\" components added (that I would probably learn in the second part of fast.ai), we're able to come 36th in the leaderboards (which is top 75%). \n",
        "\n",
        "Anyway, this post is just a quick recap on tabular model training using a relatively small data set. We didn't need to preprocess the data since `TabularPandas` handles the missing values for us. We trained a baseline, then trained a random forest and a neural network model, then ensembled the predictions. Perhaps I could have analyzed the columns and remove some of the unimportant features. Unlike last time, there aren't any categorical columns so I didn't use the embeddings to train another random forest model. \n",
        "\n",
        "Maybe in the future I'll revisit this data set and aim to get a higher score. "
      ],
      "metadata": {
        "id": "Wk5pW-njXDg2"
      }
    }
  ]
}